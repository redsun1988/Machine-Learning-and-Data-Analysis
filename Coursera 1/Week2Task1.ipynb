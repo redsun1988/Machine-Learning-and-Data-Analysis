{
 "cells": [
  {
   "cell_type": "code",
   "execution_count": 16,
   "metadata": {
    "scrolled": false
   },
   "outputs": [],
   "source": [
    "import re\n",
    "import numpy as np\n",
    "import scipy.spatial.distance as ds\n",
    "\n",
    "'''распечатать всю матрицу'''\n",
    "np.set_printoptions(threshold='nan')\n",
    "\n",
    "file_obj = open(\"sentences.txt\", \"r\")\n",
    "file_lower_text = file_obj.read().lower()\n",
    "whole_tokens = re.split('[^a-z]', file_lower_text)\n",
    "whole_filtered_tokens = [token for token in whole_tokens if token != '']\n",
    "distinct_whole_tokens = list(set(whole_filtered_tokens))\n",
    "npSentences = np.array(re.split('[.]', file_lower_text))\n",
    "\n",
    "np_whole_filtered_tokens = np.array(distinct_whole_tokens)\n",
    "\n",
    "rowCount = npSentences.shape[0]\n",
    "columnCount = np_whole_filtered_tokens.shape[0]\n",
    "basicArray = np.zeros((rowCount, columnCount))\n",
    "resultArray = np.zeros(rowCount)\n",
    "\n",
    "for rowIndex, sentence in enumerate(npSentences):\n",
    "    npSentenceTokens = re.split('[^a-z]', sentence)\n",
    "    npSentenceTokens = [token for token in npSentenceTokens if token != '']\n",
    "    sentenceMeta = np.unique(npSentenceTokens, return_counts=True)\n",
    "    words = sentenceMeta[0]\n",
    "    for localwordIndex, word in enumerate(words):\n",
    "        columnIndex = np.where(np_whole_filtered_tokens == word)[0][0]\n",
    "        basicArray[rowIndex, columnIndex] = sentenceMeta[1][localwordIndex]\n",
    "    resultArray[rowIndex] = ds.cosine(basicArray[0], basicArray[rowIndex])\n",
    "\n",
    "sorderResultArray = np.sort(resultArray, axis=None)\n",
    "\n",
    "min1Index = np.where(resultArray == sorderResultArray[1])[0][0]\n",
    "min2Index = np.where(resultArray == sorderResultArray[2])[0][0]\n",
    "\n",
    "file_obj.close()\n",
    "file_obj = open('result1.txt', 'w')\n",
    "string = str(min1Index) + ' ' + str(min2Index)\n",
    "file_obj.write(string)\n",
    "file_obj.close()\n"
   ]
  },
  {
   "cell_type": "code",
   "execution_count": null,
   "metadata": {
    "collapsed": true
   },
   "outputs": [],
   "source": []
  },
  {
   "cell_type": "code",
   "execution_count": null,
   "metadata": {
    "collapsed": true
   },
   "outputs": [],
   "source": []
  },
  {
   "cell_type": "code",
   "execution_count": null,
   "metadata": {
    "collapsed": true
   },
   "outputs": [],
   "source": []
  },
  {
   "cell_type": "code",
   "execution_count": null,
   "metadata": {
    "collapsed": true
   },
   "outputs": [],
   "source": []
  }
 ],
 "metadata": {
  "kernelspec": {
   "display_name": "Python 2",
   "language": "python",
   "name": "python2"
  },
  "language_info": {
   "codemirror_mode": {
    "name": "ipython",
    "version": 2
   },
   "file_extension": ".py",
   "mimetype": "text/x-python",
   "name": "python",
   "nbconvert_exporter": "python",
   "pygments_lexer": "ipython2",
   "version": "2.7.13"
  }
 },
 "nbformat": 4,
 "nbformat_minor": 2
}
