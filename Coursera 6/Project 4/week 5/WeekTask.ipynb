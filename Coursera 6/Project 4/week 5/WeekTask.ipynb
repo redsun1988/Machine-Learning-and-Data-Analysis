{
 "cells": [
  {
   "cell_type": "code",
   "execution_count": 46,
   "metadata": {},
   "outputs": [],
   "source": [
    "#Загружаем модуль\n",
    "import requests\n",
    "import bs4"
   ]
  },
  {
   "cell_type": "code",
   "execution_count": 47,
   "metadata": {
    "collapsed": true
   },
   "outputs": [],
   "source": [
    "#task a\n",
    "taskAreq = requests.get(\"https://en.wikipedia.org/wiki/Bias-variance_tradeoff\")"
   ]
  },
  {
   "cell_type": "code",
   "execution_count": 48,
   "metadata": {},
   "outputs": [],
   "source": [
    "parserA = bs4.BeautifulSoup(taskAreq.text, \"html.parser\")"
   ]
  },
  {
   "cell_type": "code",
   "execution_count": 51,
   "metadata": {},
   "outputs": [
    {
     "name": "stdout",
     "output_type": "stream",
     "text": [
      "Bias–variance tradeoff\n"
     ]
    }
   ],
   "source": [
    "for node in parserA.findAll(\"h1\"):\n",
    "   print node.text"
   ]
  },
  {
   "cell_type": "code",
   "execution_count": 9,
   "metadata": {
    "collapsed": true
   },
   "outputs": [],
   "source": [
    "#task b\n",
    "taskBreq = requests.get(\"https://en.wikipedia.org/wiki/Category:Machine_learning_algorithms\")"
   ]
  },
  {
   "cell_type": "code",
   "execution_count": 13,
   "metadata": {
    "collapsed": true
   },
   "outputs": [],
   "source": [
    "parserB = bs4.BeautifulSoup(taskBreq.text, \"html.parser\")"
   ]
  },
  {
   "cell_type": "code",
   "execution_count": 44,
   "metadata": {},
   "outputs": [
    {
     "name": "stdout",
     "output_type": "stream",
     "text": [
      "/wiki/Algorithms_of_Oppression\n",
      "/wiki/Almeida%E2%80%93Pineda_recurrent_backpropagation\n",
      "/wiki/Backpropagation\n",
      "/wiki/Bootstrap_aggregating\n",
      "/wiki/CN2_algorithm\n",
      "/wiki/Constructing_skill_trees\n",
      "/wiki/Dehaene%E2%80%93Changeux_model\n",
      "/wiki/Diffusion_map\n",
      "/wiki/Dominance-based_rough_set_approach\n",
      "/wiki/Dynamic_time_warping\n",
      "/wiki/Error-driven_learning\n",
      "/wiki/Evolutionary_multimodal_optimization\n",
      "/wiki/Expectation%E2%80%93maximization_algorithm\n",
      "/wiki/FastICA\n",
      "/wiki/Forward%E2%80%93backward_algorithm\n",
      "/wiki/GeneRec\n",
      "/wiki/Genetic_Algorithm_for_Rule_Set_Production\n",
      "/wiki/Growing_self-organizing_map\n",
      "/wiki/HEXQ\n",
      "/wiki/Hyper_basis_function_network\n",
      "/wiki/IDistance\n",
      "/wiki/K-nearest_neighbors_algorithm\n",
      "/wiki/Kernel_methods_for_vector_output\n",
      "/wiki/Kernel_principal_component_analysis\n",
      "/wiki/Leabra\n",
      "/wiki/Linde%E2%80%93Buzo%E2%80%93Gray_algorithm\n",
      "/wiki/Local_outlier_factor\n",
      "/wiki/Logic_learning_machine\n",
      "/wiki/LogitBoost\n",
      "/wiki/Loss_functions_for_classification\n",
      "/wiki/Manifold_alignment\n",
      "/wiki/Minimum_redundancy_feature_selection\n",
      "/wiki/Mixture_of_experts\n",
      "/wiki/Multiple_kernel_learning\n",
      "/wiki/Non-negative_matrix_factorization\n",
      "/wiki/Online_machine_learning\n",
      "/wiki/Out-of-bag_error\n",
      "/wiki/Prefrontal_cortex_basal_ganglia_working_memory\n",
      "/wiki/PVLV\n",
      "/wiki/Q-learning\n",
      "/wiki/Quadratic_unconstrained_binary_optimization\n",
      "/wiki/Query-level_feature\n",
      "/wiki/Quickprop\n",
      "/wiki/Radial_basis_function_network\n",
      "/wiki/Randomized_weighted_majority_algorithm\n",
      "/wiki/Reinforcement_learning\n",
      "/wiki/Repeated_incremental_pruning_to_produce_error_reduction_(RIPPER)\n",
      "/wiki/Rprop\n",
      "/wiki/Rule-based_machine_learning\n",
      "/wiki/Skill_chaining\n",
      "/wiki/Sparse_PCA\n",
      "/wiki/State%E2%80%93action%E2%80%93reward%E2%80%93state%E2%80%93action\n",
      "/wiki/Stochastic_gradient_descent\n",
      "/wiki/Structured_kNN\n",
      "/wiki/T-distributed_stochastic_neighbor_embedding\n",
      "/wiki/Temporal_difference_learning\n",
      "/wiki/Wake-sleep_algorithm\n",
      "/wiki/Weighted_majority_algorithm_(machine_learning)\n"
     ]
    }
   ],
   "source": [
    "for node in parserB.find(\"div\", attrs={\"id\":\"mw-pages\"}).children:\n",
    "    if node.name == \"div\":\n",
    "        for link in node.findAll(\"a\"):\n",
    "            print link.get(\"href\")\n"
   ]
  },
  {
   "cell_type": "code",
   "execution_count": null,
   "metadata": {
    "collapsed": true
   },
   "outputs": [],
   "source": []
  }
 ],
 "metadata": {
  "kernelspec": {
   "display_name": "Python 2",
   "language": "python",
   "name": "python2"
  },
  "language_info": {
   "codemirror_mode": {
    "name": "ipython",
    "version": 2
   },
   "file_extension": ".py",
   "mimetype": "text/x-python",
   "name": "python",
   "nbconvert_exporter": "python",
   "pygments_lexer": "ipython2",
   "version": "2.7.14"
  }
 },
 "nbformat": 4,
 "nbformat_minor": 2
}
