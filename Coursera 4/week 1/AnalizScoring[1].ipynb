{
 "cells": [
  {
   "cell_type": "markdown",
   "metadata": {
    "collapsed": true
   },
   "source": [
    "# Задание, оцениваемое сокурсниками: Анализ данных в задаче кредитного скоринга"
   ]
  },
  {
   "cell_type": "code",
   "execution_count": 1,
   "metadata": {},
   "outputs": [
    {
     "name": "stdout",
     "output_type": "stream",
     "text": [
      "Populating the interactive namespace from numpy and matplotlib\n"
     ]
    }
   ],
   "source": [
    "import numpy as np\n",
    "import pandas as pd\n",
    "import statsmodels\n",
    "import scipy as sc\n",
    "from statsmodels.stats.weightstats import *\n",
    "from pandas.tools.plotting import scatter_matrix\n",
    "%pylab inline"
   ]
  },
  {
   "cell_type": "code",
   "execution_count": 2,
   "metadata": {},
   "outputs": [
    {
     "data": {
      "text/html": [
       "<div>\n",
       "<style>\n",
       "    .dataframe thead tr:only-child th {\n",
       "        text-align: right;\n",
       "    }\n",
       "\n",
       "    .dataframe thead th {\n",
       "        text-align: left;\n",
       "    }\n",
       "\n",
       "    .dataframe tbody tr th {\n",
       "        vertical-align: top;\n",
       "    }\n",
       "</style>\n",
       "<table border=\"1\" class=\"dataframe\">\n",
       "  <thead>\n",
       "    <tr style=\"text-align: right;\">\n",
       "      <th></th>\n",
       "      <th>LIMIT_BAL</th>\n",
       "      <th>SEX</th>\n",
       "      <th>EDUCATION</th>\n",
       "      <th>MARRIAGE</th>\n",
       "      <th>AGE</th>\n",
       "      <th>PAY_0</th>\n",
       "      <th>PAY_2</th>\n",
       "      <th>PAY_3</th>\n",
       "      <th>PAY_4</th>\n",
       "      <th>PAY_5</th>\n",
       "      <th>...</th>\n",
       "      <th>BILL_AMT4</th>\n",
       "      <th>BILL_AMT5</th>\n",
       "      <th>BILL_AMT6</th>\n",
       "      <th>PAY_AMT1</th>\n",
       "      <th>PAY_AMT2</th>\n",
       "      <th>PAY_AMT3</th>\n",
       "      <th>PAY_AMT4</th>\n",
       "      <th>PAY_AMT5</th>\n",
       "      <th>PAY_AMT6</th>\n",
       "      <th>default</th>\n",
       "    </tr>\n",
       "    <tr>\n",
       "      <th>ID</th>\n",
       "      <th></th>\n",
       "      <th></th>\n",
       "      <th></th>\n",
       "      <th></th>\n",
       "      <th></th>\n",
       "      <th></th>\n",
       "      <th></th>\n",
       "      <th></th>\n",
       "      <th></th>\n",
       "      <th></th>\n",
       "      <th></th>\n",
       "      <th></th>\n",
       "      <th></th>\n",
       "      <th></th>\n",
       "      <th></th>\n",
       "      <th></th>\n",
       "      <th></th>\n",
       "      <th></th>\n",
       "      <th></th>\n",
       "      <th></th>\n",
       "      <th></th>\n",
       "    </tr>\n",
       "  </thead>\n",
       "  <tbody>\n",
       "    <tr>\n",
       "      <th>1</th>\n",
       "      <td>20000</td>\n",
       "      <td>2</td>\n",
       "      <td>2</td>\n",
       "      <td>1</td>\n",
       "      <td>24</td>\n",
       "      <td>2</td>\n",
       "      <td>2</td>\n",
       "      <td>0</td>\n",
       "      <td>0</td>\n",
       "      <td>0</td>\n",
       "      <td>...</td>\n",
       "      <td>0</td>\n",
       "      <td>0</td>\n",
       "      <td>0</td>\n",
       "      <td>0</td>\n",
       "      <td>689</td>\n",
       "      <td>0</td>\n",
       "      <td>0</td>\n",
       "      <td>0</td>\n",
       "      <td>0</td>\n",
       "      <td>1</td>\n",
       "    </tr>\n",
       "    <tr>\n",
       "      <th>2</th>\n",
       "      <td>120000</td>\n",
       "      <td>2</td>\n",
       "      <td>2</td>\n",
       "      <td>2</td>\n",
       "      <td>26</td>\n",
       "      <td>0</td>\n",
       "      <td>2</td>\n",
       "      <td>0</td>\n",
       "      <td>0</td>\n",
       "      <td>0</td>\n",
       "      <td>...</td>\n",
       "      <td>3272</td>\n",
       "      <td>3455</td>\n",
       "      <td>3261</td>\n",
       "      <td>0</td>\n",
       "      <td>1000</td>\n",
       "      <td>1000</td>\n",
       "      <td>1000</td>\n",
       "      <td>0</td>\n",
       "      <td>2000</td>\n",
       "      <td>1</td>\n",
       "    </tr>\n",
       "    <tr>\n",
       "      <th>3</th>\n",
       "      <td>90000</td>\n",
       "      <td>2</td>\n",
       "      <td>2</td>\n",
       "      <td>2</td>\n",
       "      <td>34</td>\n",
       "      <td>0</td>\n",
       "      <td>0</td>\n",
       "      <td>0</td>\n",
       "      <td>0</td>\n",
       "      <td>0</td>\n",
       "      <td>...</td>\n",
       "      <td>14331</td>\n",
       "      <td>14948</td>\n",
       "      <td>15549</td>\n",
       "      <td>1518</td>\n",
       "      <td>1500</td>\n",
       "      <td>1000</td>\n",
       "      <td>1000</td>\n",
       "      <td>1000</td>\n",
       "      <td>5000</td>\n",
       "      <td>0</td>\n",
       "    </tr>\n",
       "    <tr>\n",
       "      <th>4</th>\n",
       "      <td>50000</td>\n",
       "      <td>2</td>\n",
       "      <td>2</td>\n",
       "      <td>1</td>\n",
       "      <td>37</td>\n",
       "      <td>0</td>\n",
       "      <td>0</td>\n",
       "      <td>0</td>\n",
       "      <td>0</td>\n",
       "      <td>0</td>\n",
       "      <td>...</td>\n",
       "      <td>28314</td>\n",
       "      <td>28959</td>\n",
       "      <td>29547</td>\n",
       "      <td>2000</td>\n",
       "      <td>2019</td>\n",
       "      <td>1200</td>\n",
       "      <td>1100</td>\n",
       "      <td>1069</td>\n",
       "      <td>1000</td>\n",
       "      <td>0</td>\n",
       "    </tr>\n",
       "    <tr>\n",
       "      <th>5</th>\n",
       "      <td>50000</td>\n",
       "      <td>1</td>\n",
       "      <td>2</td>\n",
       "      <td>1</td>\n",
       "      <td>57</td>\n",
       "      <td>0</td>\n",
       "      <td>0</td>\n",
       "      <td>0</td>\n",
       "      <td>0</td>\n",
       "      <td>0</td>\n",
       "      <td>...</td>\n",
       "      <td>20940</td>\n",
       "      <td>19146</td>\n",
       "      <td>19131</td>\n",
       "      <td>2000</td>\n",
       "      <td>36681</td>\n",
       "      <td>10000</td>\n",
       "      <td>9000</td>\n",
       "      <td>689</td>\n",
       "      <td>679</td>\n",
       "      <td>0</td>\n",
       "    </tr>\n",
       "  </tbody>\n",
       "</table>\n",
       "<p>5 rows × 24 columns</p>\n",
       "</div>"
      ],
      "text/plain": [
       "    LIMIT_BAL  SEX  EDUCATION  MARRIAGE  AGE  PAY_0  PAY_2  PAY_3  PAY_4  \\\n",
       "ID                                                                         \n",
       "1       20000    2          2         1   24      2      2      0      0   \n",
       "2      120000    2          2         2   26      0      2      0      0   \n",
       "3       90000    2          2         2   34      0      0      0      0   \n",
       "4       50000    2          2         1   37      0      0      0      0   \n",
       "5       50000    1          2         1   57      0      0      0      0   \n",
       "\n",
       "    PAY_5   ...     BILL_AMT4  BILL_AMT5  BILL_AMT6  PAY_AMT1  PAY_AMT2  \\\n",
       "ID          ...                                                           \n",
       "1       0   ...             0          0          0         0       689   \n",
       "2       0   ...          3272       3455       3261         0      1000   \n",
       "3       0   ...         14331      14948      15549      1518      1500   \n",
       "4       0   ...         28314      28959      29547      2000      2019   \n",
       "5       0   ...         20940      19146      19131      2000     36681   \n",
       "\n",
       "    PAY_AMT3  PAY_AMT4  PAY_AMT5  PAY_AMT6  default  \n",
       "ID                                                   \n",
       "1          0         0         0         0        1  \n",
       "2       1000      1000         0      2000        1  \n",
       "3       1000      1000      1000      5000        0  \n",
       "4       1200      1100      1069      1000        0  \n",
       "5      10000      9000       689       679        0  \n",
       "\n",
       "[5 rows x 24 columns]"
      ]
     },
     "execution_count": 2,
     "metadata": {},
     "output_type": "execute_result"
    }
   ],
   "source": [
    "data = pd.read_csv('credit_card_default_analysis.csv', index_col=0)\n",
    "data.head()"
   ]
  },
  {
   "cell_type": "markdown",
   "metadata": {},
   "source": [
    "## Вспомогательные функции"
   ]
  },
  {
   "cell_type": "code",
   "execution_count": 4,
   "metadata": {
    "collapsed": true
   },
   "outputs": [],
   "source": [
    "def get_bootstrap_samples(data, n_samples):\n",
    "    indices = np.random.randint(0, len(data), (n_samples, len(data)))\n",
    "    samples = data[indices]\n",
    "    return samples"
   ]
  },
  {
   "cell_type": "code",
   "execution_count": 5,
   "metadata": {
    "collapsed": true
   },
   "outputs": [],
   "source": [
    "def stat_intervals(stat, alpha):\n",
    "    boundaries = np.percentile(stat, [100 * alpha / 2., 100 * (1 - alpha / 2.)])\n",
    "    return boundaries"
   ]
  },
  {
   "cell_type": "code",
   "execution_count": 21,
   "metadata": {
    "collapsed": true
   },
   "outputs": [],
   "source": [
    "def permutation_t_stat_ind(sample1, sample2):\n",
    "    return np.mean(sample1) - np.mean(sample2)\n",
    "\n",
    "def get_random_combinations(n1, n2, max_combinations):\n",
    "    index = range(n1 + n2)\n",
    "    indices = set([tuple(index)])\n",
    "    for i in range(max_combinations - 1):\n",
    "        np.random.shuffle(index)\n",
    "        indices.add(tuple(index))\n",
    "    return [(index[:n1], index[n1:]) for index in indices]\n",
    "\n",
    "def permutation_zero_dist_ind(sample1, sample2, max_combinations = None):\n",
    "    joined_sample = np.hstack((sample1, sample2))\n",
    "    n1 = len(sample1)\n",
    "    n = len(joined_sample)\n",
    "    \n",
    "    if max_combinations:\n",
    "        indices = get_random_combinations(n1, len(sample2), max_combinations)\n",
    "    else:\n",
    "        indices = [(list(index), filter(lambda i: i not in index, range(n))) \\\n",
    "                    for index in itertools.combinations(range(n), n1)]\n",
    "    \n",
    "    distr = [joined_sample[list(i[0])].mean() - joined_sample[list(i[1])].mean() \\\n",
    "             for i in indices]\n",
    "    return distr\n",
    "\n",
    "def permutation_test(sample, mean, max_permutations = None, alternative = 'two-sided'):\n",
    "    if alternative not in ('two-sided', 'less', 'greater'):\n",
    "        raise ValueError(\"alternative not recognized\\n\"\n",
    "                         \"should be 'two-sided', 'less' or 'greater'\")\n",
    "    \n",
    "    t_stat = permutation_t_stat_ind(sample, mean)\n",
    "    \n",
    "    zero_distr = permutation_zero_dist_ind(sample, mean, max_permutations)\n",
    "    \n",
    "    if alternative == 'two-sided':\n",
    "        return sum([1. if abs(x) >= abs(t_stat) else 0. for x in zero_distr]) / len(zero_distr)\n",
    "    \n",
    "    if alternative == 'less':\n",
    "        return sum([1. if x <= t_stat else 0. for x in zero_distr]) / len(zero_distr)\n",
    "\n",
    "    if alternative == 'greater':\n",
    "        return sum([1. if x >= t_stat else 0. for x in zero_distr]) / len(zero_distr)"
   ]
  },
  {
   "cell_type": "code",
   "execution_count": 69,
   "metadata": {
    "collapsed": true
   },
   "outputs": [],
   "source": [
    "def proportions_confint_diff_ind(a1, n1, a2, n2, alpha = 0.05):    \n",
    "    z = sc.stats.norm.ppf(1 - alpha / 2.)   \n",
    "    p1 = float(a1) / n1\n",
    "    p2 = float(a2) / n2\n",
    "    \n",
    "    left_boundary = (p1 - p2) - z * np.sqrt(p1 * (1 - p1)/ n1 + p2 * (1 - p2)/ n2)\n",
    "    right_boundary = (p1 - p2) + z * np.sqrt(p1 * (1 - p1)/ n1 + p2 * (1 - p2)/ n2)\n",
    "    \n",
    "    return (left_boundary, right_boundary)"
   ]
  },
  {
   "cell_type": "code",
   "execution_count": 71,
   "metadata": {
    "collapsed": true
   },
   "outputs": [],
   "source": [
    "def proportions_diff_z_test(z_stat, alternative = 'two-sided'):\n",
    "    if alternative not in ('two-sided', 'less', 'greater'):\n",
    "        raise ValueError(\"alternative not recognized\\n\"\n",
    "                         \"should be 'two-sided', 'less' or 'greater'\")\n",
    "    \n",
    "    if alternative == 'two-sided':\n",
    "        return 2 * (1 - sc.stats.norm.cdf(np.abs(z_stat)))\n",
    "    \n",
    "    if alternative == 'less':\n",
    "        return sc.stats.norm.cdf(z_stat)\n",
    "\n",
    "    if alternative == 'greater':\n",
    "        return 1 - sc.stats.norm.cdf(z_stat)"
   ]
  },
  {
   "cell_type": "code",
   "execution_count": 72,
   "metadata": {
    "collapsed": true
   },
   "outputs": [],
   "source": [
    "def proportions_diff_z_stat_ind(a, n1, b, n2):        \n",
    "    p1 = float(a) / n1\n",
    "    p2 = float(b) / n2 \n",
    "    P = float(p1*n1 + p2*n2) / (n1 + n2)\n",
    "    \n",
    "    return (p1 - p2) / np.sqrt(P * (1 - P) * (1. / n1 + 1. / n2))"
   ]
  },
  {
   "cell_type": "markdown",
   "metadata": {},
   "source": [
    "## 1. Размер кредитного лимита (LIMIT_BAL)"
   ]
  },
  {
   "cell_type": "markdown",
   "metadata": {},
   "source": [
    " В двух группах, тех людей, кто вернул кредит (default = 0) и тех, кто его не вернул (default = 1) проверьте гипотезы: a) о равенстве медианных значений кредитного лимита с помощью подходящей интервальной оценки b) о равенстве распределений с помощью одного из подходящих непараметрических критериев проверки равенства средних. Значимы ли полученные результаты с практической точки зрения ?"
   ]
  },
  {
   "cell_type": "code",
   "execution_count": 22,
   "metadata": {
    "collapsed": true
   },
   "outputs": [],
   "source": [
    "data_def_0 = data[data.default == 0]\n",
    "data_def_1 = data[data.default == 1]"
   ]
  },
  {
   "cell_type": "code",
   "execution_count": 23,
   "metadata": {},
   "outputs": [
    {
     "data": {
      "text/html": [
       "<div>\n",
       "<style>\n",
       "    .dataframe thead tr:only-child th {\n",
       "        text-align: right;\n",
       "    }\n",
       "\n",
       "    .dataframe thead th {\n",
       "        text-align: left;\n",
       "    }\n",
       "\n",
       "    .dataframe tbody tr th {\n",
       "        vertical-align: top;\n",
       "    }\n",
       "</style>\n",
       "<table border=\"1\" class=\"dataframe\">\n",
       "  <thead>\n",
       "    <tr style=\"text-align: right;\">\n",
       "      <th></th>\n",
       "      <th>count</th>\n",
       "      <th>mean</th>\n",
       "      <th>std</th>\n",
       "      <th>min</th>\n",
       "      <th>25%</th>\n",
       "      <th>50%</th>\n",
       "      <th>75%</th>\n",
       "      <th>max</th>\n",
       "    </tr>\n",
       "  </thead>\n",
       "  <tbody>\n",
       "    <tr>\n",
       "      <th>LIMIT_BAL</th>\n",
       "      <td>23364.0</td>\n",
       "      <td>178099.726074</td>\n",
       "      <td>131628.359660</td>\n",
       "      <td>10000.0</td>\n",
       "      <td>70000.00</td>\n",
       "      <td>150000.0</td>\n",
       "      <td>250000.00</td>\n",
       "      <td>1000000.0</td>\n",
       "    </tr>\n",
       "    <tr>\n",
       "      <th>SEX</th>\n",
       "      <td>23364.0</td>\n",
       "      <td>1.614150</td>\n",
       "      <td>0.486806</td>\n",
       "      <td>1.0</td>\n",
       "      <td>1.00</td>\n",
       "      <td>2.0</td>\n",
       "      <td>2.00</td>\n",
       "      <td>2.0</td>\n",
       "    </tr>\n",
       "    <tr>\n",
       "      <th>EDUCATION</th>\n",
       "      <td>23364.0</td>\n",
       "      <td>1.841337</td>\n",
       "      <td>0.806780</td>\n",
       "      <td>0.0</td>\n",
       "      <td>1.00</td>\n",
       "      <td>2.0</td>\n",
       "      <td>2.00</td>\n",
       "      <td>6.0</td>\n",
       "    </tr>\n",
       "    <tr>\n",
       "      <th>MARRIAGE</th>\n",
       "      <td>23364.0</td>\n",
       "      <td>1.558637</td>\n",
       "      <td>0.520794</td>\n",
       "      <td>0.0</td>\n",
       "      <td>1.00</td>\n",
       "      <td>2.0</td>\n",
       "      <td>2.00</td>\n",
       "      <td>3.0</td>\n",
       "    </tr>\n",
       "    <tr>\n",
       "      <th>AGE</th>\n",
       "      <td>23364.0</td>\n",
       "      <td>35.417266</td>\n",
       "      <td>9.077355</td>\n",
       "      <td>21.0</td>\n",
       "      <td>28.00</td>\n",
       "      <td>34.0</td>\n",
       "      <td>41.00</td>\n",
       "      <td>79.0</td>\n",
       "    </tr>\n",
       "    <tr>\n",
       "      <th>PAY_0</th>\n",
       "      <td>23364.0</td>\n",
       "      <td>0.196242</td>\n",
       "      <td>0.548516</td>\n",
       "      <td>0.0</td>\n",
       "      <td>0.00</td>\n",
       "      <td>0.0</td>\n",
       "      <td>0.00</td>\n",
       "      <td>8.0</td>\n",
       "    </tr>\n",
       "    <tr>\n",
       "      <th>PAY_2</th>\n",
       "      <td>23364.0</td>\n",
       "      <td>0.180277</td>\n",
       "      <td>0.619238</td>\n",
       "      <td>0.0</td>\n",
       "      <td>0.00</td>\n",
       "      <td>0.0</td>\n",
       "      <td>0.00</td>\n",
       "      <td>8.0</td>\n",
       "    </tr>\n",
       "    <tr>\n",
       "      <th>PAY_3</th>\n",
       "      <td>23364.0</td>\n",
       "      <td>0.183145</td>\n",
       "      <td>0.617461</td>\n",
       "      <td>0.0</td>\n",
       "      <td>0.00</td>\n",
       "      <td>0.0</td>\n",
       "      <td>0.00</td>\n",
       "      <td>8.0</td>\n",
       "    </tr>\n",
       "    <tr>\n",
       "      <th>PAY_4</th>\n",
       "      <td>23364.0</td>\n",
       "      <td>0.149632</td>\n",
       "      <td>0.569859</td>\n",
       "      <td>0.0</td>\n",
       "      <td>0.00</td>\n",
       "      <td>0.0</td>\n",
       "      <td>0.00</td>\n",
       "      <td>8.0</td>\n",
       "    </tr>\n",
       "    <tr>\n",
       "      <th>PAY_5</th>\n",
       "      <td>23364.0</td>\n",
       "      <td>0.121726</td>\n",
       "      <td>0.518453</td>\n",
       "      <td>0.0</td>\n",
       "      <td>0.00</td>\n",
       "      <td>0.0</td>\n",
       "      <td>0.00</td>\n",
       "      <td>7.0</td>\n",
       "    </tr>\n",
       "    <tr>\n",
       "      <th>PAY_6</th>\n",
       "      <td>23364.0</td>\n",
       "      <td>0.133368</td>\n",
       "      <td>0.533452</td>\n",
       "      <td>0.0</td>\n",
       "      <td>0.00</td>\n",
       "      <td>0.0</td>\n",
       "      <td>0.00</td>\n",
       "      <td>7.0</td>\n",
       "    </tr>\n",
       "    <tr>\n",
       "      <th>BILL_AMT1</th>\n",
       "      <td>23364.0</td>\n",
       "      <td>51994.227273</td>\n",
       "      <td>73577.606694</td>\n",
       "      <td>-165580.0</td>\n",
       "      <td>3677.25</td>\n",
       "      <td>23119.5</td>\n",
       "      <td>69027.00</td>\n",
       "      <td>964511.0</td>\n",
       "    </tr>\n",
       "    <tr>\n",
       "      <th>BILL_AMT2</th>\n",
       "      <td>23364.0</td>\n",
       "      <td>49717.435670</td>\n",
       "      <td>71029.946709</td>\n",
       "      <td>-69777.0</td>\n",
       "      <td>3055.00</td>\n",
       "      <td>21660.5</td>\n",
       "      <td>65686.00</td>\n",
       "      <td>983931.0</td>\n",
       "    </tr>\n",
       "    <tr>\n",
       "      <th>BILL_AMT3</th>\n",
       "      <td>23364.0</td>\n",
       "      <td>47533.365605</td>\n",
       "      <td>69576.661008</td>\n",
       "      <td>-157264.0</td>\n",
       "      <td>2769.75</td>\n",
       "      <td>20202.5</td>\n",
       "      <td>61894.00</td>\n",
       "      <td>1664089.0</td>\n",
       "    </tr>\n",
       "    <tr>\n",
       "      <th>BILL_AMT4</th>\n",
       "      <td>23364.0</td>\n",
       "      <td>43611.165254</td>\n",
       "      <td>64324.796730</td>\n",
       "      <td>-170000.0</td>\n",
       "      <td>2360.00</td>\n",
       "      <td>19000.0</td>\n",
       "      <td>55988.00</td>\n",
       "      <td>891586.0</td>\n",
       "    </tr>\n",
       "    <tr>\n",
       "      <th>BILL_AMT5</th>\n",
       "      <td>23364.0</td>\n",
       "      <td>40530.445343</td>\n",
       "      <td>60617.268112</td>\n",
       "      <td>-81334.0</td>\n",
       "      <td>1823.00</td>\n",
       "      <td>17998.0</td>\n",
       "      <td>51135.25</td>\n",
       "      <td>927171.0</td>\n",
       "    </tr>\n",
       "    <tr>\n",
       "      <th>BILL_AMT6</th>\n",
       "      <td>23364.0</td>\n",
       "      <td>39042.268704</td>\n",
       "      <td>59547.015717</td>\n",
       "      <td>-209051.0</td>\n",
       "      <td>1265.50</td>\n",
       "      <td>16679.0</td>\n",
       "      <td>49842.50</td>\n",
       "      <td>961664.0</td>\n",
       "    </tr>\n",
       "    <tr>\n",
       "      <th>PAY_AMT1</th>\n",
       "      <td>23364.0</td>\n",
       "      <td>6307.337357</td>\n",
       "      <td>18014.508990</td>\n",
       "      <td>0.0</td>\n",
       "      <td>1163.75</td>\n",
       "      <td>2459.5</td>\n",
       "      <td>5606.25</td>\n",
       "      <td>873552.0</td>\n",
       "    </tr>\n",
       "    <tr>\n",
       "      <th>PAY_AMT2</th>\n",
       "      <td>23364.0</td>\n",
       "      <td>6640.465074</td>\n",
       "      <td>25302.263601</td>\n",
       "      <td>0.0</td>\n",
       "      <td>1005.00</td>\n",
       "      <td>2247.5</td>\n",
       "      <td>5311.25</td>\n",
       "      <td>1684259.0</td>\n",
       "    </tr>\n",
       "    <tr>\n",
       "      <th>PAY_AMT3</th>\n",
       "      <td>23364.0</td>\n",
       "      <td>5753.496833</td>\n",
       "      <td>18684.255937</td>\n",
       "      <td>0.0</td>\n",
       "      <td>600.00</td>\n",
       "      <td>2000.0</td>\n",
       "      <td>5000.00</td>\n",
       "      <td>896040.0</td>\n",
       "    </tr>\n",
       "    <tr>\n",
       "      <th>PAY_AMT4</th>\n",
       "      <td>23364.0</td>\n",
       "      <td>5300.529319</td>\n",
       "      <td>16689.778060</td>\n",
       "      <td>0.0</td>\n",
       "      <td>390.00</td>\n",
       "      <td>1734.0</td>\n",
       "      <td>4602.00</td>\n",
       "      <td>621000.0</td>\n",
       "    </tr>\n",
       "    <tr>\n",
       "      <th>PAY_AMT5</th>\n",
       "      <td>23364.0</td>\n",
       "      <td>5248.220296</td>\n",
       "      <td>16071.667860</td>\n",
       "      <td>0.0</td>\n",
       "      <td>369.00</td>\n",
       "      <td>1765.0</td>\n",
       "      <td>4600.00</td>\n",
       "      <td>426529.0</td>\n",
       "    </tr>\n",
       "    <tr>\n",
       "      <th>PAY_AMT6</th>\n",
       "      <td>23364.0</td>\n",
       "      <td>5719.371769</td>\n",
       "      <td>18792.950473</td>\n",
       "      <td>0.0</td>\n",
       "      <td>300.00</td>\n",
       "      <td>1706.0</td>\n",
       "      <td>4545.00</td>\n",
       "      <td>528666.0</td>\n",
       "    </tr>\n",
       "    <tr>\n",
       "      <th>default</th>\n",
       "      <td>23364.0</td>\n",
       "      <td>0.000000</td>\n",
       "      <td>0.000000</td>\n",
       "      <td>0.0</td>\n",
       "      <td>0.00</td>\n",
       "      <td>0.0</td>\n",
       "      <td>0.00</td>\n",
       "      <td>0.0</td>\n",
       "    </tr>\n",
       "  </tbody>\n",
       "</table>\n",
       "</div>"
      ],
      "text/plain": [
       "             count           mean            std       min       25%  \\\n",
       "LIMIT_BAL  23364.0  178099.726074  131628.359660   10000.0  70000.00   \n",
       "SEX        23364.0       1.614150       0.486806       1.0      1.00   \n",
       "EDUCATION  23364.0       1.841337       0.806780       0.0      1.00   \n",
       "MARRIAGE   23364.0       1.558637       0.520794       0.0      1.00   \n",
       "AGE        23364.0      35.417266       9.077355      21.0     28.00   \n",
       "PAY_0      23364.0       0.196242       0.548516       0.0      0.00   \n",
       "PAY_2      23364.0       0.180277       0.619238       0.0      0.00   \n",
       "PAY_3      23364.0       0.183145       0.617461       0.0      0.00   \n",
       "PAY_4      23364.0       0.149632       0.569859       0.0      0.00   \n",
       "PAY_5      23364.0       0.121726       0.518453       0.0      0.00   \n",
       "PAY_6      23364.0       0.133368       0.533452       0.0      0.00   \n",
       "BILL_AMT1  23364.0   51994.227273   73577.606694 -165580.0   3677.25   \n",
       "BILL_AMT2  23364.0   49717.435670   71029.946709  -69777.0   3055.00   \n",
       "BILL_AMT3  23364.0   47533.365605   69576.661008 -157264.0   2769.75   \n",
       "BILL_AMT4  23364.0   43611.165254   64324.796730 -170000.0   2360.00   \n",
       "BILL_AMT5  23364.0   40530.445343   60617.268112  -81334.0   1823.00   \n",
       "BILL_AMT6  23364.0   39042.268704   59547.015717 -209051.0   1265.50   \n",
       "PAY_AMT1   23364.0    6307.337357   18014.508990       0.0   1163.75   \n",
       "PAY_AMT2   23364.0    6640.465074   25302.263601       0.0   1005.00   \n",
       "PAY_AMT3   23364.0    5753.496833   18684.255937       0.0    600.00   \n",
       "PAY_AMT4   23364.0    5300.529319   16689.778060       0.0    390.00   \n",
       "PAY_AMT5   23364.0    5248.220296   16071.667860       0.0    369.00   \n",
       "PAY_AMT6   23364.0    5719.371769   18792.950473       0.0    300.00   \n",
       "default    23364.0       0.000000       0.000000       0.0      0.00   \n",
       "\n",
       "                50%        75%        max  \n",
       "LIMIT_BAL  150000.0  250000.00  1000000.0  \n",
       "SEX             2.0       2.00        2.0  \n",
       "EDUCATION       2.0       2.00        6.0  \n",
       "MARRIAGE        2.0       2.00        3.0  \n",
       "AGE            34.0      41.00       79.0  \n",
       "PAY_0           0.0       0.00        8.0  \n",
       "PAY_2           0.0       0.00        8.0  \n",
       "PAY_3           0.0       0.00        8.0  \n",
       "PAY_4           0.0       0.00        8.0  \n",
       "PAY_5           0.0       0.00        7.0  \n",
       "PAY_6           0.0       0.00        7.0  \n",
       "BILL_AMT1   23119.5   69027.00   964511.0  \n",
       "BILL_AMT2   21660.5   65686.00   983931.0  \n",
       "BILL_AMT3   20202.5   61894.00  1664089.0  \n",
       "BILL_AMT4   19000.0   55988.00   891586.0  \n",
       "BILL_AMT5   17998.0   51135.25   927171.0  \n",
       "BILL_AMT6   16679.0   49842.50   961664.0  \n",
       "PAY_AMT1     2459.5    5606.25   873552.0  \n",
       "PAY_AMT2     2247.5    5311.25  1684259.0  \n",
       "PAY_AMT3     2000.0    5000.00   896040.0  \n",
       "PAY_AMT4     1734.0    4602.00   621000.0  \n",
       "PAY_AMT5     1765.0    4600.00   426529.0  \n",
       "PAY_AMT6     1706.0    4545.00   528666.0  \n",
       "default         0.0       0.00        0.0  "
      ]
     },
     "execution_count": 23,
     "metadata": {},
     "output_type": "execute_result"
    }
   ],
   "source": [
    "data_def_0.describe().T"
   ]
  },
  {
   "cell_type": "code",
   "execution_count": 24,
   "metadata": {},
   "outputs": [
    {
     "data": {
      "text/html": [
       "<div>\n",
       "<style>\n",
       "    .dataframe thead tr:only-child th {\n",
       "        text-align: right;\n",
       "    }\n",
       "\n",
       "    .dataframe thead th {\n",
       "        text-align: left;\n",
       "    }\n",
       "\n",
       "    .dataframe tbody tr th {\n",
       "        vertical-align: top;\n",
       "    }\n",
       "</style>\n",
       "<table border=\"1\" class=\"dataframe\">\n",
       "  <thead>\n",
       "    <tr style=\"text-align: right;\">\n",
       "      <th></th>\n",
       "      <th>count</th>\n",
       "      <th>mean</th>\n",
       "      <th>std</th>\n",
       "      <th>min</th>\n",
       "      <th>25%</th>\n",
       "      <th>50%</th>\n",
       "      <th>75%</th>\n",
       "      <th>max</th>\n",
       "    </tr>\n",
       "  </thead>\n",
       "  <tbody>\n",
       "    <tr>\n",
       "      <th>LIMIT_BAL</th>\n",
       "      <td>6636.0</td>\n",
       "      <td>130109.656420</td>\n",
       "      <td>115378.540571</td>\n",
       "      <td>10000.0</td>\n",
       "      <td>50000.00</td>\n",
       "      <td>90000.0</td>\n",
       "      <td>200000.00</td>\n",
       "      <td>740000.0</td>\n",
       "    </tr>\n",
       "    <tr>\n",
       "      <th>SEX</th>\n",
       "      <td>6636.0</td>\n",
       "      <td>1.567058</td>\n",
       "      <td>0.495520</td>\n",
       "      <td>1.0</td>\n",
       "      <td>1.00</td>\n",
       "      <td>2.0</td>\n",
       "      <td>2.00</td>\n",
       "      <td>2.0</td>\n",
       "    </tr>\n",
       "    <tr>\n",
       "      <th>EDUCATION</th>\n",
       "      <td>6636.0</td>\n",
       "      <td>1.894665</td>\n",
       "      <td>0.728096</td>\n",
       "      <td>1.0</td>\n",
       "      <td>1.00</td>\n",
       "      <td>2.0</td>\n",
       "      <td>2.00</td>\n",
       "      <td>6.0</td>\n",
       "    </tr>\n",
       "    <tr>\n",
       "      <th>MARRIAGE</th>\n",
       "      <td>6636.0</td>\n",
       "      <td>1.528029</td>\n",
       "      <td>0.525433</td>\n",
       "      <td>0.0</td>\n",
       "      <td>1.00</td>\n",
       "      <td>2.0</td>\n",
       "      <td>2.00</td>\n",
       "      <td>3.0</td>\n",
       "    </tr>\n",
       "    <tr>\n",
       "      <th>AGE</th>\n",
       "      <td>6636.0</td>\n",
       "      <td>35.725738</td>\n",
       "      <td>9.693438</td>\n",
       "      <td>21.0</td>\n",
       "      <td>28.00</td>\n",
       "      <td>34.0</td>\n",
       "      <td>42.00</td>\n",
       "      <td>75.0</td>\n",
       "    </tr>\n",
       "    <tr>\n",
       "      <th>PAY_0</th>\n",
       "      <td>6636.0</td>\n",
       "      <td>0.921941</td>\n",
       "      <td>1.070504</td>\n",
       "      <td>0.0</td>\n",
       "      <td>0.00</td>\n",
       "      <td>1.0</td>\n",
       "      <td>2.00</td>\n",
       "      <td>8.0</td>\n",
       "    </tr>\n",
       "    <tr>\n",
       "      <th>PAY_2</th>\n",
       "      <td>6636.0</td>\n",
       "      <td>0.812086</td>\n",
       "      <td>1.115802</td>\n",
       "      <td>0.0</td>\n",
       "      <td>0.00</td>\n",
       "      <td>0.0</td>\n",
       "      <td>2.00</td>\n",
       "      <td>7.0</td>\n",
       "    </tr>\n",
       "    <tr>\n",
       "      <th>PAY_3</th>\n",
       "      <td>6636.0</td>\n",
       "      <td>0.729807</td>\n",
       "      <td>1.118357</td>\n",
       "      <td>0.0</td>\n",
       "      <td>0.00</td>\n",
       "      <td>0.0</td>\n",
       "      <td>2.00</td>\n",
       "      <td>8.0</td>\n",
       "    </tr>\n",
       "    <tr>\n",
       "      <th>PAY_4</th>\n",
       "      <td>6636.0</td>\n",
       "      <td>0.643008</td>\n",
       "      <td>1.134064</td>\n",
       "      <td>0.0</td>\n",
       "      <td>0.00</td>\n",
       "      <td>0.0</td>\n",
       "      <td>2.00</td>\n",
       "      <td>8.0</td>\n",
       "    </tr>\n",
       "    <tr>\n",
       "      <th>PAY_5</th>\n",
       "      <td>6636.0</td>\n",
       "      <td>0.572785</td>\n",
       "      <td>1.106387</td>\n",
       "      <td>0.0</td>\n",
       "      <td>0.00</td>\n",
       "      <td>0.0</td>\n",
       "      <td>0.00</td>\n",
       "      <td>8.0</td>\n",
       "    </tr>\n",
       "    <tr>\n",
       "      <th>PAY_6</th>\n",
       "      <td>6636.0</td>\n",
       "      <td>0.554702</td>\n",
       "      <td>1.083489</td>\n",
       "      <td>0.0</td>\n",
       "      <td>0.00</td>\n",
       "      <td>0.0</td>\n",
       "      <td>0.00</td>\n",
       "      <td>8.0</td>\n",
       "    </tr>\n",
       "    <tr>\n",
       "      <th>BILL_AMT1</th>\n",
       "      <td>6636.0</td>\n",
       "      <td>48509.162297</td>\n",
       "      <td>73782.067220</td>\n",
       "      <td>-6676.0</td>\n",
       "      <td>2987.75</td>\n",
       "      <td>20185.0</td>\n",
       "      <td>59626.50</td>\n",
       "      <td>613860.0</td>\n",
       "    </tr>\n",
       "    <tr>\n",
       "      <th>BILL_AMT2</th>\n",
       "      <td>6636.0</td>\n",
       "      <td>47283.617842</td>\n",
       "      <td>71651.030364</td>\n",
       "      <td>-17710.0</td>\n",
       "      <td>2694.00</td>\n",
       "      <td>20300.5</td>\n",
       "      <td>57919.75</td>\n",
       "      <td>581775.0</td>\n",
       "    </tr>\n",
       "    <tr>\n",
       "      <th>BILL_AMT3</th>\n",
       "      <td>6636.0</td>\n",
       "      <td>45181.598855</td>\n",
       "      <td>68516.975738</td>\n",
       "      <td>-61506.0</td>\n",
       "      <td>2500.00</td>\n",
       "      <td>19834.5</td>\n",
       "      <td>54733.75</td>\n",
       "      <td>578971.0</td>\n",
       "    </tr>\n",
       "    <tr>\n",
       "      <th>BILL_AMT4</th>\n",
       "      <td>6636.0</td>\n",
       "      <td>42036.950573</td>\n",
       "      <td>64351.076092</td>\n",
       "      <td>-65167.0</td>\n",
       "      <td>2141.50</td>\n",
       "      <td>19119.5</td>\n",
       "      <td>50175.75</td>\n",
       "      <td>548020.0</td>\n",
       "    </tr>\n",
       "    <tr>\n",
       "      <th>BILL_AMT5</th>\n",
       "      <td>6636.0</td>\n",
       "      <td>39540.190476</td>\n",
       "      <td>61424.695949</td>\n",
       "      <td>-53007.0</td>\n",
       "      <td>1502.75</td>\n",
       "      <td>18478.5</td>\n",
       "      <td>47853.00</td>\n",
       "      <td>547880.0</td>\n",
       "    </tr>\n",
       "    <tr>\n",
       "      <th>BILL_AMT6</th>\n",
       "      <td>6636.0</td>\n",
       "      <td>38271.435503</td>\n",
       "      <td>59579.674268</td>\n",
       "      <td>-339603.0</td>\n",
       "      <td>1150.00</td>\n",
       "      <td>18028.5</td>\n",
       "      <td>47424.00</td>\n",
       "      <td>514975.0</td>\n",
       "    </tr>\n",
       "    <tr>\n",
       "      <th>PAY_AMT1</th>\n",
       "      <td>6636.0</td>\n",
       "      <td>3397.044153</td>\n",
       "      <td>9544.252427</td>\n",
       "      <td>0.0</td>\n",
       "      <td>0.00</td>\n",
       "      <td>1636.0</td>\n",
       "      <td>3478.25</td>\n",
       "      <td>300000.0</td>\n",
       "    </tr>\n",
       "    <tr>\n",
       "      <th>PAY_AMT2</th>\n",
       "      <td>6636.0</td>\n",
       "      <td>3388.649638</td>\n",
       "      <td>11737.986064</td>\n",
       "      <td>0.0</td>\n",
       "      <td>0.00</td>\n",
       "      <td>1533.5</td>\n",
       "      <td>3309.75</td>\n",
       "      <td>358689.0</td>\n",
       "    </tr>\n",
       "    <tr>\n",
       "      <th>PAY_AMT3</th>\n",
       "      <td>6636.0</td>\n",
       "      <td>3367.351567</td>\n",
       "      <td>12959.624486</td>\n",
       "      <td>0.0</td>\n",
       "      <td>0.00</td>\n",
       "      <td>1222.0</td>\n",
       "      <td>3000.00</td>\n",
       "      <td>508229.0</td>\n",
       "    </tr>\n",
       "    <tr>\n",
       "      <th>PAY_AMT4</th>\n",
       "      <td>6636.0</td>\n",
       "      <td>3155.626733</td>\n",
       "      <td>11191.973162</td>\n",
       "      <td>0.0</td>\n",
       "      <td>0.00</td>\n",
       "      <td>1000.0</td>\n",
       "      <td>2939.25</td>\n",
       "      <td>432130.0</td>\n",
       "    </tr>\n",
       "    <tr>\n",
       "      <th>PAY_AMT5</th>\n",
       "      <td>6636.0</td>\n",
       "      <td>3219.139542</td>\n",
       "      <td>11944.731175</td>\n",
       "      <td>0.0</td>\n",
       "      <td>0.00</td>\n",
       "      <td>1000.0</td>\n",
       "      <td>3000.00</td>\n",
       "      <td>332000.0</td>\n",
       "    </tr>\n",
       "    <tr>\n",
       "      <th>PAY_AMT6</th>\n",
       "      <td>6636.0</td>\n",
       "      <td>3441.482068</td>\n",
       "      <td>13464.005894</td>\n",
       "      <td>0.0</td>\n",
       "      <td>0.00</td>\n",
       "      <td>1000.0</td>\n",
       "      <td>2974.50</td>\n",
       "      <td>345293.0</td>\n",
       "    </tr>\n",
       "    <tr>\n",
       "      <th>default</th>\n",
       "      <td>6636.0</td>\n",
       "      <td>1.000000</td>\n",
       "      <td>0.000000</td>\n",
       "      <td>1.0</td>\n",
       "      <td>1.00</td>\n",
       "      <td>1.0</td>\n",
       "      <td>1.00</td>\n",
       "      <td>1.0</td>\n",
       "    </tr>\n",
       "  </tbody>\n",
       "</table>\n",
       "</div>"
      ],
      "text/plain": [
       "            count           mean            std       min       25%      50%  \\\n",
       "LIMIT_BAL  6636.0  130109.656420  115378.540571   10000.0  50000.00  90000.0   \n",
       "SEX        6636.0       1.567058       0.495520       1.0      1.00      2.0   \n",
       "EDUCATION  6636.0       1.894665       0.728096       1.0      1.00      2.0   \n",
       "MARRIAGE   6636.0       1.528029       0.525433       0.0      1.00      2.0   \n",
       "AGE        6636.0      35.725738       9.693438      21.0     28.00     34.0   \n",
       "PAY_0      6636.0       0.921941       1.070504       0.0      0.00      1.0   \n",
       "PAY_2      6636.0       0.812086       1.115802       0.0      0.00      0.0   \n",
       "PAY_3      6636.0       0.729807       1.118357       0.0      0.00      0.0   \n",
       "PAY_4      6636.0       0.643008       1.134064       0.0      0.00      0.0   \n",
       "PAY_5      6636.0       0.572785       1.106387       0.0      0.00      0.0   \n",
       "PAY_6      6636.0       0.554702       1.083489       0.0      0.00      0.0   \n",
       "BILL_AMT1  6636.0   48509.162297   73782.067220   -6676.0   2987.75  20185.0   \n",
       "BILL_AMT2  6636.0   47283.617842   71651.030364  -17710.0   2694.00  20300.5   \n",
       "BILL_AMT3  6636.0   45181.598855   68516.975738  -61506.0   2500.00  19834.5   \n",
       "BILL_AMT4  6636.0   42036.950573   64351.076092  -65167.0   2141.50  19119.5   \n",
       "BILL_AMT5  6636.0   39540.190476   61424.695949  -53007.0   1502.75  18478.5   \n",
       "BILL_AMT6  6636.0   38271.435503   59579.674268 -339603.0   1150.00  18028.5   \n",
       "PAY_AMT1   6636.0    3397.044153    9544.252427       0.0      0.00   1636.0   \n",
       "PAY_AMT2   6636.0    3388.649638   11737.986064       0.0      0.00   1533.5   \n",
       "PAY_AMT3   6636.0    3367.351567   12959.624486       0.0      0.00   1222.0   \n",
       "PAY_AMT4   6636.0    3155.626733   11191.973162       0.0      0.00   1000.0   \n",
       "PAY_AMT5   6636.0    3219.139542   11944.731175       0.0      0.00   1000.0   \n",
       "PAY_AMT6   6636.0    3441.482068   13464.005894       0.0      0.00   1000.0   \n",
       "default    6636.0       1.000000       0.000000       1.0      1.00      1.0   \n",
       "\n",
       "                 75%       max  \n",
       "LIMIT_BAL  200000.00  740000.0  \n",
       "SEX             2.00       2.0  \n",
       "EDUCATION       2.00       6.0  \n",
       "MARRIAGE        2.00       3.0  \n",
       "AGE            42.00      75.0  \n",
       "PAY_0           2.00       8.0  \n",
       "PAY_2           2.00       7.0  \n",
       "PAY_3           2.00       8.0  \n",
       "PAY_4           2.00       8.0  \n",
       "PAY_5           0.00       8.0  \n",
       "PAY_6           0.00       8.0  \n",
       "BILL_AMT1   59626.50  613860.0  \n",
       "BILL_AMT2   57919.75  581775.0  \n",
       "BILL_AMT3   54733.75  578971.0  \n",
       "BILL_AMT4   50175.75  548020.0  \n",
       "BILL_AMT5   47853.00  547880.0  \n",
       "BILL_AMT6   47424.00  514975.0  \n",
       "PAY_AMT1     3478.25  300000.0  \n",
       "PAY_AMT2     3309.75  358689.0  \n",
       "PAY_AMT3     3000.00  508229.0  \n",
       "PAY_AMT4     2939.25  432130.0  \n",
       "PAY_AMT5     3000.00  332000.0  \n",
       "PAY_AMT6     2974.50  345293.0  \n",
       "default         1.00       1.0  "
      ]
     },
     "execution_count": 24,
     "metadata": {},
     "output_type": "execute_result"
    }
   ],
   "source": [
    "data_def_1.describe().T"
   ]
  },
  {
   "cell_type": "markdown",
   "metadata": {},
   "source": [
    "### Посмотрим распределение на LIMIT_BAL графике"
   ]
  },
  {
   "cell_type": "code",
   "execution_count": 244,
   "metadata": {},
   "outputs": [
    {
     "data": {
      "text/plain": [
       "<matplotlib.axes._subplots.AxesSubplot at 0xa387e1d0>"
      ]
     },
     "execution_count": 244,
     "metadata": {},
     "output_type": "execute_result"
    },
    {
     "data": {
      "image/png": "[encoded data removed]",
      "text/plain": [
       "<matplotlib.figure.Figure at 0x8180dda0>"
      ]
     },
     "metadata": {},
     "output_type": "display_data"
    }
   ],
   "source": [
    "data_def_0['LIMIT_BAL'].hist()\n",
    "data_def_1['LIMIT_BAL'].hist()"
   ]
  },
  {
   "cell_type": "markdown",
   "metadata": {},
   "source": [
    "### a) о равенстве медианных значений кредитного лимита с помощью подходящей интервальной оценки"
   ]
  },
  {
   "cell_type": "code",
   "execution_count": 247,
   "metadata": {},
   "outputs": [
    {
     "name": "stdout",
     "output_type": "stream",
     "text": [
      "95% доверительный интервал разности медиан: [60000. 70000.]\n"
     ]
    }
   ],
   "source": [
    "np.random.seed(0)\n",
    "data_def_0_median_scores = map(np.median, get_bootstrap_samples(data_def_0['LIMIT_BAL'].values, 1000))\n",
    "data_def_1_median_scores = map(np.median, get_bootstrap_samples(data_def_1['LIMIT_BAL'].values, 1000))\n",
    "delta_median_scores = map(lambda x: x[0] - x[1], zip(data_def_0_median_scores, data_def_1_median_scores))\n",
    "print u\"95% доверительный интервал разности медиан:\",  stat_intervals(delta_median_scores, 0.05)"
   ]
  },
  {
   "cell_type": "markdown",
   "metadata": {},
   "source": [
    "95%-ый доверительный интервал для разности медиан не содержит 0, нулевая гипотеза отвергается в пользу альтернативы о неравенстве медиан."
   ]
  },
  {
   "cell_type": "markdown",
   "metadata": {},
   "source": [
    "###  b) о равенстве распределений с помощью одного из подходящих непараметрических критериев проверки равенства средних"
   ]
  },
  {
   "cell_type": "markdown",
   "metadata": {
    "collapsed": true
   },
   "source": [
    "Проверим перестановочным критерием равенстро распределений"
   ]
  },
  {
   "cell_type": "code",
   "execution_count": 29,
   "metadata": {},
   "outputs": [
    {
     "name": "stdout",
     "output_type": "stream",
     "text": [
      "p-value: 0.000100\n"
     ]
    }
   ],
   "source": [
    "print \"p-value: %f\" % permutation_test(data_def_0['LIMIT_BAL'].values, data_def_1['LIMIT_BAL'].values, max_permutations = 10000)"
   ]
  },
  {
   "cell_type": "markdown",
   "metadata": {},
   "source": [
    "P-value - мало, значит гипотезу о равенстве распределений отвергаем. С практической точки зрения результат не имеет большого значения."
   ]
  },
  {
   "cell_type": "markdown",
   "metadata": {},
   "source": [
    "## Пол (SEX)"
   ]
  },
  {
   "cell_type": "markdown",
   "metadata": {},
   "source": [
    "Проверьте гипотезу о том, что гендерный состав группы людей вернувших и не вернувших кредит отличается."
   ]
  },
  {
   "cell_type": "code",
   "execution_count": 89,
   "metadata": {},
   "outputs": [
    {
     "data": {
      "text/plain": [
       "<matplotlib.axes._subplots.AxesSubplot at 0x7c5c7908>"
      ]
     },
     "execution_count": 89,
     "metadata": {},
     "output_type": "execute_result"
    },
    {
     "data": {
      "image/png": "[encoded data removed]",
      "text/plain": [
       "<matplotlib.figure.Figure at 0x7c5da9b0>"
      ]
     },
     "metadata": {},
     "output_type": "display_data"
    }
   ],
   "source": [
    "data_def_0['SEX'].hist()\n",
    "data_def_1['SEX'].hist()"
   ]
  },
  {
   "cell_type": "code",
   "execution_count": 111,
   "metadata": {},
   "outputs": [
    {
     "data": {
      "text/html": [
       "<div>\n",
       "<style>\n",
       "    .dataframe thead tr:only-child th {\n",
       "        text-align: right;\n",
       "    }\n",
       "\n",
       "    .dataframe thead th {\n",
       "        text-align: left;\n",
       "    }\n",
       "\n",
       "    .dataframe tbody tr th {\n",
       "        vertical-align: top;\n",
       "    }\n",
       "</style>\n",
       "<table border=\"1\" class=\"dataframe\">\n",
       "  <thead>\n",
       "    <tr>\n",
       "      <th></th>\n",
       "      <th colspan=\"2\" halign=\"left\">LIMIT_BAL</th>\n",
       "    </tr>\n",
       "    <tr>\n",
       "      <th>SEX</th>\n",
       "      <th>1</th>\n",
       "      <th>2</th>\n",
       "    </tr>\n",
       "    <tr>\n",
       "      <th>default</th>\n",
       "      <th></th>\n",
       "      <th></th>\n",
       "    </tr>\n",
       "  </thead>\n",
       "  <tbody>\n",
       "    <tr>\n",
       "      <th>0</th>\n",
       "      <td>9015</td>\n",
       "      <td>14349</td>\n",
       "    </tr>\n",
       "    <tr>\n",
       "      <th>1</th>\n",
       "      <td>2873</td>\n",
       "      <td>3763</td>\n",
       "    </tr>\n",
       "  </tbody>\n",
       "</table>\n",
       "</div>"
      ],
      "text/plain": [
       "        LIMIT_BAL       \n",
       "SEX             1      2\n",
       "default                 \n",
       "0            9015  14349\n",
       "1            2873   3763"
      ]
     },
     "execution_count": 111,
     "metadata": {},
     "output_type": "execute_result"
    }
   ],
   "source": [
    "data.pivot_table(columns=['SEX'], values=['LIMIT_BAL'],index=['default'], aggfunc=len)"
   ]
  },
  {
   "cell_type": "markdown",
   "metadata": {},
   "source": [
    "Гендреный став, вернувших долг отличается, в группе не вернувших долг состав более сбалансированый."
   ]
  },
  {
   "cell_type": "markdown",
   "metadata": {},
   "source": [
    "Проверим теорию что гендреный состав групп не отличается друг от друга. Посчитаем количество женщин в группах. Используем доверительных для двух независимых выборок"
   ]
  },
  {
   "cell_type": "code",
   "execution_count": 78,
   "metadata": {
    "scrolled": true
   },
   "outputs": [
    {
     "name": "stdout",
     "output_type": "stream",
     "text": [
      "confidence interval: [-0.060548, -0.033635]\n"
     ]
    }
   ],
   "source": [
    "count_def0 = float(len(data_def_0))\n",
    "count_def1 = float(len(data_def_1))\n",
    "count_wmn_0 =float(len(data_def_0[data_def_0['SEX']==1]))\n",
    "count_wmn_1 = float(len(data_def_1[data_def_1['SEX']==1]))\n",
    "print \"confidence interval: [%f, %f]\" % proportions_confint_diff_ind(count_wmn_0, count_def0, count_wmn_1, count_def1)"
   ]
  },
  {
   "cell_type": "markdown",
   "metadata": {},
   "source": [
    "Интервал не содержит 0, теория о равенстве распрделений отвергается. Составы групп вернувших и не вернувших долг отличаются"
   ]
  },
  {
   "cell_type": "markdown",
   "metadata": {},
   "source": [
    "Проверим гипотезу равенства состава групп чрез Z критерий"
   ]
  },
  {
   "cell_type": "code",
   "execution_count": 87,
   "metadata": {},
   "outputs": [
    {
     "data": {
      "text/plain": [
       "4.472866521609831e-12"
      ]
     },
     "execution_count": 87,
     "metadata": {},
     "output_type": "execute_result"
    }
   ],
   "source": [
    "proportions_diff_z_test(proportions_diff_z_stat_ind(count_wmn_0, count_def0, count_wmn_1, count_def1))"
   ]
  },
  {
   "cell_type": "markdown",
   "metadata": {},
   "source": [
    "P-value  меньше 0.05 теорию о равенстве распределенй в группах отвергаем"
   ]
  },
  {
   "cell_type": "markdown",
   "metadata": {},
   "source": [
    "## Образование (EDUCATION)"
   ]
  },
  {
   "cell_type": "markdown",
   "metadata": {},
   "source": [
    "Проверьте гипотезу о том, что образование не влияет на то, вернет ли человек долг. Предложите способ наглядного представления разницы в ожидаемых и наблюдаемых значениях количества человек вернувших и не вернувших долг."
   ]
  },
  {
   "cell_type": "code",
   "execution_count": 90,
   "metadata": {},
   "outputs": [
    {
     "data": {
      "text/plain": [
       "<matplotlib.axes._subplots.AxesSubplot at 0x6e9d1240>"
      ]
     },
     "execution_count": 90,
     "metadata": {},
     "output_type": "execute_result"
    },
    {
     "data": {
      "image/png": "[encoded data removed]",
      "text/plain": [
       "<matplotlib.figure.Figure at 0x6e9e69b0>"
      ]
     },
     "metadata": {},
     "output_type": "display_data"
    }
   ],
   "source": [
    "# 1- 'PhD', 2 -'MS', 3 - 'BS', 4 - 'School', 5 -'Elementary', 6 -'Other', 7- 'N/A'\n",
    "\n",
    "data_def_0['EDUCATION'].hist()\n",
    "data_def_1['EDUCATION'].hist()"
   ]
  },
  {
   "cell_type": "code",
   "execution_count": 112,
   "metadata": {},
   "outputs": [
    {
     "data": {
      "text/plain": [
       "pandas.core.series.Series"
      ]
     },
     "execution_count": 112,
     "metadata": {},
     "output_type": "execute_result"
    }
   ],
   "source": [
    "type(data_def_0['EDUCATION'].value_counts())"
   ]
  },
  {
   "cell_type": "markdown",
   "metadata": {},
   "source": [
    "Проверим гипотезу что образование не влияет на возврат кредита"
   ]
  },
  {
   "cell_type": "code",
   "execution_count": 188,
   "metadata": {},
   "outputs": [
    {
     "data": {
      "text/html": [
       "<div>\n",
       "<style>\n",
       "    .dataframe thead tr:only-child th {\n",
       "        text-align: right;\n",
       "    }\n",
       "\n",
       "    .dataframe thead th {\n",
       "        text-align: left;\n",
       "    }\n",
       "\n",
       "    .dataframe tbody tr th {\n",
       "        vertical-align: top;\n",
       "    }\n",
       "</style>\n",
       "<table border=\"1\" class=\"dataframe\">\n",
       "  <thead>\n",
       "    <tr>\n",
       "      <th></th>\n",
       "      <th colspan=\"2\" halign=\"left\">LIMIT_BAL</th>\n",
       "    </tr>\n",
       "    <tr>\n",
       "      <th>default</th>\n",
       "      <th>0</th>\n",
       "      <th>1</th>\n",
       "    </tr>\n",
       "    <tr>\n",
       "      <th>EDUCATION</th>\n",
       "      <th></th>\n",
       "      <th></th>\n",
       "    </tr>\n",
       "  </thead>\n",
       "  <tbody>\n",
       "    <tr>\n",
       "      <th>0</th>\n",
       "      <td>14.0</td>\n",
       "      <td>0.0</td>\n",
       "    </tr>\n",
       "    <tr>\n",
       "      <th>1</th>\n",
       "      <td>8549.0</td>\n",
       "      <td>2036.0</td>\n",
       "    </tr>\n",
       "    <tr>\n",
       "      <th>2</th>\n",
       "      <td>10700.0</td>\n",
       "      <td>3330.0</td>\n",
       "    </tr>\n",
       "    <tr>\n",
       "      <th>3</th>\n",
       "      <td>3680.0</td>\n",
       "      <td>1237.0</td>\n",
       "    </tr>\n",
       "    <tr>\n",
       "      <th>4</th>\n",
       "      <td>116.0</td>\n",
       "      <td>7.0</td>\n",
       "    </tr>\n",
       "    <tr>\n",
       "      <th>5</th>\n",
       "      <td>262.0</td>\n",
       "      <td>18.0</td>\n",
       "    </tr>\n",
       "    <tr>\n",
       "      <th>6</th>\n",
       "      <td>43.0</td>\n",
       "      <td>8.0</td>\n",
       "    </tr>\n",
       "  </tbody>\n",
       "</table>\n",
       "</div>"
      ],
      "text/plain": [
       "          LIMIT_BAL        \n",
       "default           0       1\n",
       "EDUCATION                  \n",
       "0              14.0     0.0\n",
       "1            8549.0  2036.0\n",
       "2           10700.0  3330.0\n",
       "3            3680.0  1237.0\n",
       "4             116.0     7.0\n",
       "5             262.0    18.0\n",
       "6              43.0     8.0"
      ]
     },
     "execution_count": 188,
     "metadata": {},
     "output_type": "execute_result"
    }
   ],
   "source": [
    "pv = data.pivot_table(columns=['default'], values=['LIMIT_BAL'],index=['EDUCATION'], aggfunc=len)\n",
    "pv = pv.fillna(0)\n",
    "pv"
   ]
  },
  {
   "cell_type": "markdown",
   "metadata": {},
   "source": [
    "Возьмем для проверки Хи квадрат"
   ]
  },
  {
   "cell_type": "code",
   "execution_count": 224,
   "metadata": {},
   "outputs": [
    {
     "data": {
      "text/plain": [
       "1.2332626245415605e-32"
      ]
     },
     "execution_count": 224,
     "metadata": {},
     "output_type": "execute_result"
    }
   ],
   "source": [
    "data_ed =[]\n",
    "for i in range(0,7):\n",
    "    data_ed.append([pv.iloc[i][0],pv.iloc[i][1]])\n",
    "\n",
    "chi2, p, dof, expected = sc.stats.chi2_contingency(data_ed)\n",
    "p"
   ]
  },
  {
   "cell_type": "markdown",
   "metadata": {},
   "source": [
    "P-value  знаительно меньше 0, гипотеза что образование не влияет на возврат долга отвергается. Образование влияет на возврат долга"
   ]
  },
  {
   "cell_type": "markdown",
   "metadata": {},
   "source": [
    "Составим таблицу разностей ожидаемых значений и реальных"
   ]
  },
  {
   "cell_type": "code",
   "execution_count": 230,
   "metadata": {},
   "outputs": [
    {
     "data": {
      "text/html": [
       "<div>\n",
       "<style>\n",
       "    .dataframe thead tr:only-child th {\n",
       "        text-align: right;\n",
       "    }\n",
       "\n",
       "    .dataframe thead th {\n",
       "        text-align: left;\n",
       "    }\n",
       "\n",
       "    .dataframe tbody tr th {\n",
       "        vertical-align: top;\n",
       "    }\n",
       "</style>\n",
       "<table border=\"1\" class=\"dataframe\">\n",
       "  <thead>\n",
       "    <tr style=\"text-align: right;\">\n",
       "      <th></th>\n",
       "      <th>Кредит вернули</th>\n",
       "      <th>Кредит не вернули</th>\n",
       "    </tr>\n",
       "  </thead>\n",
       "  <tbody>\n",
       "    <tr>\n",
       "      <th>0</th>\n",
       "      <td>3.0</td>\n",
       "      <td>-3.0</td>\n",
       "    </tr>\n",
       "    <tr>\n",
       "      <th>1</th>\n",
       "      <td>305.0</td>\n",
       "      <td>-305.0</td>\n",
       "    </tr>\n",
       "    <tr>\n",
       "      <th>2</th>\n",
       "      <td>-227.0</td>\n",
       "      <td>227.0</td>\n",
       "    </tr>\n",
       "    <tr>\n",
       "      <th>3</th>\n",
       "      <td>-149.0</td>\n",
       "      <td>149.0</td>\n",
       "    </tr>\n",
       "    <tr>\n",
       "      <th>4</th>\n",
       "      <td>20.0</td>\n",
       "      <td>-20.0</td>\n",
       "    </tr>\n",
       "    <tr>\n",
       "      <th>5</th>\n",
       "      <td>44.0</td>\n",
       "      <td>-44.0</td>\n",
       "    </tr>\n",
       "    <tr>\n",
       "      <th>6</th>\n",
       "      <td>3.0</td>\n",
       "      <td>-3.0</td>\n",
       "    </tr>\n",
       "  </tbody>\n",
       "</table>\n",
       "</div>"
      ],
      "text/plain": [
       "   Кредит вернули  Кредит не вернули\n",
       "0             3.0               -3.0\n",
       "1           305.0             -305.0\n",
       "2          -227.0              227.0\n",
       "3          -149.0              149.0\n",
       "4            20.0              -20.0\n",
       "5            44.0              -44.0\n",
       "6             3.0               -3.0"
      ]
     },
     "execution_count": 230,
     "metadata": {},
     "output_type": "execute_result"
    }
   ],
   "source": [
    "educ_real = np.array(data_ed)\n",
    "pd.DataFrame( np.around(educ_real - expected), columns=(u'Кредит вернули',u'Кредит не вернули'))"
   ]
  },
  {
   "cell_type": "markdown",
   "metadata": {},
   "source": [
    "Для приведения таблицы к одному масштабу - можно каждую колонку поделить на количество клиентов в каждой группе. При наличии образования \"доктор\" (0) наибольшая вероятность что долг вернут, а при наличии образования \"Бакалавр\"(2), самый блоьшаявероятность что долг не вернут"
   ]
  },
  {
   "cell_type": "markdown",
   "metadata": {},
   "source": [
    "## Семейное положение (MARRIAGE):"
   ]
  },
  {
   "cell_type": "markdown",
   "metadata": {},
   "source": [
    "Проверьте, как связан семейный статус с индикатором дефолта: нужно предложить меру, по которой можно измерить возможную связь этих переменных и посчитать ее значение."
   ]
  },
  {
   "cell_type": "code",
   "execution_count": 233,
   "metadata": {},
   "outputs": [
    {
     "data": {
      "text/plain": [
       "<matplotlib.axes._subplots.AxesSubplot at 0x4b9aceb8>"
      ]
     },
     "execution_count": 233,
     "metadata": {},
     "output_type": "execute_result"
    },
    {
     "data": {
      "image/png": "[encoded data removed]",
      "text/plain": [
       "<matplotlib.figure.Figure at 0x4b9aca90>"
      ]
     },
     "metadata": {},
     "output_type": "display_data"
    }
   ],
   "source": [
    "#  (0 = отказываюсь отвечать; 1 = замужем/женат; 2 = холост; 3 = нет данных).\n",
    "data_def_0['MARRIAGE'].hist()\n",
    "data_def_1['MARRIAGE'].hist()"
   ]
  },
  {
   "cell_type": "code",
   "execution_count": 234,
   "metadata": {},
   "outputs": [
    {
     "data": {
      "text/html": [
       "<div>\n",
       "<style>\n",
       "    .dataframe thead tr:only-child th {\n",
       "        text-align: right;\n",
       "    }\n",
       "\n",
       "    .dataframe thead th {\n",
       "        text-align: left;\n",
       "    }\n",
       "\n",
       "    .dataframe tbody tr th {\n",
       "        vertical-align: top;\n",
       "    }\n",
       "</style>\n",
       "<table border=\"1\" class=\"dataframe\">\n",
       "  <thead>\n",
       "    <tr>\n",
       "      <th></th>\n",
       "      <th colspan=\"2\" halign=\"left\">LIMIT_BAL</th>\n",
       "    </tr>\n",
       "    <tr>\n",
       "      <th>default</th>\n",
       "      <th>0</th>\n",
       "      <th>1</th>\n",
       "    </tr>\n",
       "    <tr>\n",
       "      <th>MARRIAGE</th>\n",
       "      <th></th>\n",
       "      <th></th>\n",
       "    </tr>\n",
       "  </thead>\n",
       "  <tbody>\n",
       "    <tr>\n",
       "      <th>0</th>\n",
       "      <td>49</td>\n",
       "      <td>5</td>\n",
       "    </tr>\n",
       "    <tr>\n",
       "      <th>1</th>\n",
       "      <td>10453</td>\n",
       "      <td>3206</td>\n",
       "    </tr>\n",
       "    <tr>\n",
       "      <th>2</th>\n",
       "      <td>12623</td>\n",
       "      <td>3341</td>\n",
       "    </tr>\n",
       "    <tr>\n",
       "      <th>3</th>\n",
       "      <td>239</td>\n",
       "      <td>84</td>\n",
       "    </tr>\n",
       "  </tbody>\n",
       "</table>\n",
       "</div>"
      ],
      "text/plain": [
       "         LIMIT_BAL      \n",
       "default          0     1\n",
       "MARRIAGE                \n",
       "0               49     5\n",
       "1            10453  3206\n",
       "2            12623  3341\n",
       "3              239    84"
      ]
     },
     "execution_count": 234,
     "metadata": {},
     "output_type": "execute_result"
    }
   ],
   "source": [
    "pv = data.pivot_table(columns=['default'], values=['LIMIT_BAL'],index=['MARRIAGE'], aggfunc=len)\n",
    "pv = pv.fillna(0)\n",
    "pv"
   ]
  },
  {
   "cell_type": "markdown",
   "metadata": {},
   "source": [
    "Посмотрим корреляцию между индикатором дефолта и семейное положение. Так как признак категориальный а индикатор дефолта бинарный то воспользуемся коэффициент V Крамера "
   ]
  },
  {
   "cell_type": "code",
   "execution_count": 239,
   "metadata": {
    "collapsed": true
   },
   "outputs": [],
   "source": [
    "data_mar =[]\n",
    "for i in range(0,4):\n",
    "    data_mar.append([pv.iloc[i][0],pv.iloc[i][1]])"
   ]
  },
  {
   "cell_type": "code",
   "execution_count": 240,
   "metadata": {},
   "outputs": [
    {
     "data": {
      "text/plain": [
       "0.034478203662766466"
      ]
     },
     "execution_count": 240,
     "metadata": {},
     "output_type": "execute_result"
    }
   ],
   "source": [
    "chi2, p, dof, expected = sc.stats.chi2_contingency(data_mar)\n",
    "Koef_V_Kr = np.sqrt(chi2 / (np.sum(data_mar) * (2-1)))\n",
    "Koef_V_Kr"
   ]
  },
  {
   "cell_type": "markdown",
   "metadata": {},
   "source": [
    "Значение коэффициента достоточно маленькое, семейное положение не сильно влияет на факт возврата кредита"
   ]
  },
  {
   "cell_type": "markdown",
   "metadata": {},
   "source": [
    "### Возраст (AGE)"
   ]
  },
  {
   "cell_type": "markdown",
   "metadata": {},
   "source": [
    "Относительно двух групп людей вернувших и не вернувших кредит проверьте следующие гипотезы: a) о равенстве медианных значений возрастов людей b) о равенстве распределений с помощью одного из подходящих непараметрических критериев проверки равенства средних."
   ]
  },
  {
   "cell_type": "code",
   "execution_count": 242,
   "metadata": {},
   "outputs": [
    {
     "data": {
      "text/plain": [
       "<matplotlib.axes._subplots.AxesSubplot at 0x41f854e0>"
      ]
     },
     "execution_count": 242,
     "metadata": {},
     "output_type": "execute_result"
    },
    {
     "data": {
      "image/png": "[encoded data removed]",
      "text/plain": [
       "<matplotlib.figure.Figure at 0x742bf080>"
      ]
     },
     "metadata": {},
     "output_type": "display_data"
    }
   ],
   "source": [
    "data_def_0['AGE'].hist()\n",
    "data_def_1['AGE'].hist()"
   ]
  },
  {
   "cell_type": "markdown",
   "metadata": {},
   "source": [
    "### a) гипотеза о равенстве медианных значений возрастов людей"
   ]
  },
  {
   "cell_type": "markdown",
   "metadata": {},
   "source": [
    "Для сравнения медиан воспользуемся методом bootstap"
   ]
  },
  {
   "cell_type": "code",
   "execution_count": 248,
   "metadata": {},
   "outputs": [
    {
     "name": "stdout",
     "output_type": "stream",
     "text": [
      "95% доверительный интервал разности медиан: [-1.  0.]\n"
     ]
    }
   ],
   "source": [
    "np.random.seed(0)\n",
    "data_def_0_median_scores = map(np.median, get_bootstrap_samples(data_def_0['AGE'].values, 1000))\n",
    "data_def_1_median_scores = map(np.median, get_bootstrap_samples(data_def_1['AGE'].values, 1000))\n",
    "delta_median_scores = map(lambda x: x[0] - x[1], zip(data_def_0_median_scores, data_def_1_median_scores))\n",
    "print u\"95% доверительный интервал разности медиан:\",  stat_intervals(delta_median_scores, 0.05)"
   ]
  },
  {
   "cell_type": "markdown",
   "metadata": {},
   "source": [
    "граница 95% интервала равна 0. Отвергнуть гипотезу равенства медиан возрастов разных групп нельзя."
   ]
  },
  {
   "cell_type": "markdown",
   "metadata": {},
   "source": [
    "### b) гипотеза о равенстве распределений с помощью одного из подходящих непараметрических критериев проверки равенства средних"
   ]
  },
  {
   "cell_type": "markdown",
   "metadata": {},
   "source": [
    "Воспользуемся перестановочным критерием"
   ]
  },
  {
   "cell_type": "code",
   "execution_count": 249,
   "metadata": {},
   "outputs": [
    {
     "name": "stdout",
     "output_type": "stream",
     "text": [
      "p-value: 0.017700\n"
     ]
    }
   ],
   "source": [
    "print \"p-value: %f\" % permutation_test(data_def_0['AGE'].values, data_def_1['AGE'].values, max_permutations = 10000)"
   ]
  },
  {
   "cell_type": "markdown",
   "metadata": {},
   "source": [
    "P-value меньше 0.05 - значит гипотезу равенства распределений можно отвергнуть"
   ]
  },
  {
   "cell_type": "markdown",
   "metadata": {},
   "source": [
    "Практически можно сделать вывод что от возраста зависит вернется кредит или нет"
   ]
  },
  {
   "cell_type": "code",
   "execution_count": null,
   "metadata": {
    "collapsed": true
   },
   "outputs": [],
   "source": []
  }
 ],
 "metadata": {
  "kernelspec": {
   "display_name": "Python 2",
   "language": "python",
   "name": "python2"
  },
  "language_info": {
   "codemirror_mode": {
    "name": "ipython",
    "version": 2
   },
   "file_extension": ".py",
   "mimetype": "text/x-python",
   "name": "python",
   "nbconvert_exporter": "python",
   "pygments_lexer": "ipython2",
   "version": "2.7.14"
  }
 },
 "nbformat": 4,
 "nbformat_minor": 2
}
