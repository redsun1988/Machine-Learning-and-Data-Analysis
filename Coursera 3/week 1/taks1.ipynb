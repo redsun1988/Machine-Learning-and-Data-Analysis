{
 "cells": [
  {
   "cell_type": "code",
   "execution_count": 42,
   "metadata": {
    "collapsed": true
   },
   "outputs": [],
   "source": [
    "import numpy as np\n",
    "import pandas as pd\n",
    "import csv\n",
    "import math"
   ]
  },
  {
   "cell_type": "code",
   "execution_count": 7,
   "metadata": {},
   "outputs": [],
   "source": [
    "with open('checkins.dat', 'r') as inf:\n",
    "    new_lines = []\n",
    "    for line in inf:\n",
    "        new_line = [word.strip() for word in line.split('|')]\n",
    "        if len(new_line) == 6 and new_line[3] and new_line[4]:\n",
    "            new_lines.append(new_line)\n",
    "            \n",
    "with open('checkins.csv', 'w') as ouf:\n",
    "    file_writer = csv.writer(ouf)\n",
    "    file_writer.writerows(new_lines)\n",
    "    \n"
   ]
  },
  {
   "cell_type": "code",
   "execution_count": 21,
   "metadata": {},
   "outputs": [],
   "source": [
    "full_data = pd.DataFrame.from_csv(\"checkins.csv\");\n",
    "small_data = full_data.head(100000).loc[:,[u'latitude', u'longitude']]"
   ]
  },
  {
   "cell_type": "code",
   "execution_count": 22,
   "metadata": {},
   "outputs": [],
   "source": [
    "from sklearn.cluster import MeanShift "
   ]
  },
  {
   "cell_type": "code",
   "execution_count": 77,
   "metadata": {},
   "outputs": [],
   "source": [
    "clusterMaster = MeanShift(bandwidth=0.1, min_bin_freq=15, cluster_all=False)"
   ]
  },
  {
   "cell_type": "code",
   "execution_count": 78,
   "metadata": {},
   "outputs": [
    {
     "data": {
      "text/plain": [
       "MeanShift(bandwidth=0.1, bin_seeding=False, cluster_all=False,\n",
       "     min_bin_freq=15, n_jobs=1, seeds=None)"
      ]
     },
     "execution_count": 78,
     "metadata": {},
     "output_type": "execute_result"
    }
   ],
   "source": [
    "clusterMaster.fit(small_data)"
   ]
  },
  {
   "cell_type": "code",
   "execution_count": 80,
   "metadata": {},
   "outputs": [
    {
     "data": {
      "text/plain": [
       "(3230L, 2L)"
      ]
     },
     "execution_count": 80,
     "metadata": {},
     "output_type": "execute_result"
    }
   ],
   "source": [
    "clusterMaster.cluster_centers_.shape"
   ]
  },
  {
   "cell_type": "code",
   "execution_count": 81,
   "metadata": {},
   "outputs": [],
   "source": [
    "def write_list(fileName, listOfValues):\n",
    "    with open(fileName+\".txt\", \"w\") as fout:\n",
    "        for value in listOfValues:\n",
    "            fout.write(str(value[0])+ \", \")\n",
    "            fout.write(str(value[1])+ \"\\n\")\n",
    "\n",
    "write_answer(\"test\", clusterMaster.cluster_centers_)"
   ]
  },
  {
   "cell_type": "code",
   "execution_count": 82,
   "metadata": {
    "collapsed": true
   },
   "outputs": [],
   "source": [
    "offices = np.array([\n",
    "np.array([33.751277, -118.188740]),\n",
    "np.array([25.867736, -80.324116]),\n",
    "np.array([51.503016, -0.075479]),\n",
    "np.array([52.378894, 4.885084]),\n",
    "np.array([39.366487, 117.036146]),\n",
    "np.array([-33.868457, 151.205134])]);"
   ]
  },
  {
   "cell_type": "code",
   "execution_count": 83,
   "metadata": {
    "collapsed": true
   },
   "outputs": [],
   "source": [
    "def CalcDistance(location1, location2):\n",
    "    return math.sqrt((location1[0] - location2[0])**2+(location1[1] - location2[1])**2)"
   ]
  },
  {
   "cell_type": "code",
   "execution_count": 92,
   "metadata": {},
   "outputs": [
    {
     "name": "stdout",
     "output_type": "stream",
     "text": [
      "[0.070847732427199731, 0.022674066158385495, 0.050058294822787869, 0.0093533161859922255, 0.30330785270578703, 0.007834758163107856] 0.00783475816311\n",
      "[array([  33.80987796, -118.14892381]), array([ 25.84567226, -80.3188906 ]), array([ 51.50299126,  -0.12553729]), array([ 52.37296399,   4.89231722]), array([  39.121079,  117.214389]), array([ -33.86063043,  151.20477593])] 5\n",
      "[ -33.86063043  151.20477593]\n"
     ]
    }
   ],
   "source": [
    "closestClusters = []\n",
    "closestClustersDis = []\n",
    "\n",
    "for office in offices:\n",
    "    distances = []\n",
    "    for cluster in clusterMaster.cluster_centers_:\n",
    "        distances.append(CalcDistance(office ,cluster)) \n",
    "    closestClusters.append(clusterMaster.cluster_centers_[np.argmin(distances)])\n",
    "    closestClustersDis.append(np.min(distances))\n",
    "\n",
    "print closestClustersDis, np.min(closestClustersDis)\n",
    "print closestClusters, np.argmin(closestClustersDis)\n",
    "\n",
    "print closestClusters[np.argmin(closestClustersDis)]"
   ]
  },
  {
   "cell_type": "code",
   "execution_count": 70,
   "metadata": {
    "collapsed": true
   },
   "outputs": [],
   "source": [
    "def write_answer(fileName, value):\n",
    "    with open(fileName+\".txt\", \"w\") as fileObj:\n",
    "            fileObj.write(str(value))\n"
   ]
  },
  {
   "cell_type": "code",
   "execution_count": 93,
   "metadata": {},
   "outputs": [],
   "source": [
    "write_answer(\"task1\", \"-33.86063043 151.20477593\")"
   ]
  },
  {
   "cell_type": "code",
   "execution_count": null,
   "metadata": {
    "collapsed": true
   },
   "outputs": [],
   "source": []
  }
 ],
 "metadata": {
  "kernelspec": {
   "display_name": "Python 3",
   "language": "python",
   "name": "python3"
  },
  "language_info": {
   "codemirror_mode": {
    "name": "ipython",
    "version": 3
   },
   "file_extension": ".py",
   "mimetype": "text/x-python",
   "name": "python",
   "nbconvert_exporter": "python",
   "pygments_lexer": "ipython3",
   "version": "3.7.1"
  }
 },
 "nbformat": 4,
 "nbformat_minor": 2
}
