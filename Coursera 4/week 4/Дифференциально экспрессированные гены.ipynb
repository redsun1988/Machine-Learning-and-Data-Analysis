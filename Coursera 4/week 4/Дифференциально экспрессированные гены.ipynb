{
 "cells": [
  {
   "cell_type": "code",
   "execution_count": 28,
   "metadata": {},
   "outputs": [
    {
     "name": "stdout",
     "output_type": "stream",
     "text": [
      "\n"
     ]
    }
   ],
   "source": [
    "import numpy as np\n",
    "import pandas as pd\n",
    "import scipy\n",
    "from statsmodels.stats.weightstats import *"
   ]
  },
  {
   "cell_type": "code",
   "execution_count": 7,
   "metadata": {
    "collapsed": true
   },
   "outputs": [],
   "source": [
    "raw = pd.read_csv(\"gene_high_throughput_sequencing.txt\", sep=\",\");"
   ]
  },
  {
   "attachments": {
    "image.png": {
     "image/png": "[encoded data removed]"
    }
   },
   "cell_type": "markdown",
   "metadata": {},
   "source": [
    "Практическая значимость изменения\n",
    "Цель исследований — найти гены, средняя экспрессия которых отличается не только статистически значимо, но и достаточно сильно. В экспрессионных исследованиях для этого часто используется метрика, которая называется fold change (кратность изменения). Определяется она следующим образом:\n",
    "\n",
    "![image.png](attachment:image.png)\n",
    "\n",
    "где C,T — средние значения экспрессии гена в control и treatment группах соответственно. По сути, fold change показывает, во сколько раз отличаются средние двух выборок.\n",
    "\n",
    "Инструкции к решению задачи\n",
    "Задание состоит из трёх частей. Если не сказано обратное, то уровень значимости нужно принять равным 0.05.\n",
    "\n",
    "Часть 1: применение t-критерия Стьюдента\n",
    "В первой части вам нужно будет применить критерий Стьюдента для проверки гипотезы о равенстве средних в двух независимых выборках. Применить критерий для каждого гена нужно будет дважды:\n",
    "\n",
    "для групп normal (control) и early neoplasia (treatment)\n",
    "для групп early neoplasia (control) и cancer (treatment)\n",
    "В качестве ответа в этой части задания необходимо указать количество статистически значимых отличий, которые вы нашли с помощью t-критерия Стьюдента, то есть число генов, у которых p-value этого теста оказался меньше, чем уровень значимости."
   ]
  },
  {
   "cell_type": "code",
   "execution_count": 20,
   "metadata": {},
   "outputs": [],
   "source": [
    "def FoldChange(array1, array2):\n",
    "    mean1 = np.mean(array1)\n",
    "    mean2 = np.mean(array2)\n",
    "    if (mean1>mean2):\n",
    "        return mean1/mean2\n",
    "    else:\n",
    "        return -mean2/mean1"
   ]
  },
  {
   "cell_type": "code",
   "execution_count": 38,
   "metadata": {},
   "outputs": [
    {
     "name": "stdout",
     "output_type": "stream",
     "text": [
      "['cancer' 'early neoplasia' 'normal']\n",
      "1575 3490\n"
     ]
    }
   ],
   "source": [
    "print np.unique(raw.Diagnosis.values)\n",
    "#'cancer', 'early neoplasia', 'normal'\n",
    "normalPatiens = raw[raw.Diagnosis == \"normal\"]\n",
    "cancerPatiens = raw[raw.Diagnosis == \"cancer\"]\n",
    "earlyNeoplasiaPatiens = raw[raw.Diagnosis == \"early neoplasia\"]\n",
    "studentProbability = pd.DataFrame()\n",
    "counter1 = 0\n",
    "counter2 = 0\n",
    "for columnName in raw.columns[2:]:\n",
    "    pNeoplasia = scipy.stats.ttest_ind(normalPatiens[columnName], earlyNeoplasiaPatiens[columnName], equal_var = False).pvalue\n",
    "    pCancer = scipy.stats.ttest_ind(earlyNeoplasiaPatiens[columnName], cancerPatiens[columnName], equal_var = False).pvalue\n",
    "    studentProbability[columnName] = [pNeoplasia, pCancer]\n",
    "    if pNeoplasia < 0.05:\n",
    "        counter1 +=1\n",
    "    if pCancer < 0.05:\n",
    "        counter2 +=1\n",
    "studentProbability.head(5)\n",
    "\n",
    "print counter1, counter2"
   ]
  },
  {
   "cell_type": "code",
   "execution_count": 39,
   "metadata": {},
   "outputs": [
    {
     "data": {
      "text/html": [
       "<div>\n",
       "<style>\n",
       "    .dataframe thead tr:only-child th {\n",
       "        text-align: right;\n",
       "    }\n",
       "\n",
       "    .dataframe thead th {\n",
       "        text-align: left;\n",
       "    }\n",
       "\n",
       "    .dataframe tbody tr th {\n",
       "        vertical-align: top;\n",
       "    }\n",
       "</style>\n",
       "<table border=\"1\" class=\"dataframe\">\n",
       "  <thead>\n",
       "    <tr style=\"text-align: right;\">\n",
       "      <th></th>\n",
       "      <th>LOC643837</th>\n",
       "      <th>LOC100130417</th>\n",
       "      <th>SAMD11</th>\n",
       "      <th>NOC2L</th>\n",
       "      <th>KLHL17</th>\n",
       "      <th>PLEKHN1</th>\n",
       "      <th>C1orf170</th>\n",
       "      <th>HES4</th>\n",
       "      <th>ISG15</th>\n",
       "      <th>AGRN</th>\n",
       "      <th>...</th>\n",
       "      <th>CLIC2</th>\n",
       "      <th>RPS4Y1</th>\n",
       "      <th>ZFY</th>\n",
       "      <th>PRKY</th>\n",
       "      <th>USP9Y</th>\n",
       "      <th>DDX3Y</th>\n",
       "      <th>CD24</th>\n",
       "      <th>CYorf15B</th>\n",
       "      <th>KDM5D</th>\n",
       "      <th>EIF1AY</th>\n",
       "    </tr>\n",
       "  </thead>\n",
       "  <tbody>\n",
       "    <tr>\n",
       "      <th>0</th>\n",
       "      <td>0.690766</td>\n",
       "      <td>0.000032</td>\n",
       "      <td>0.060273</td>\n",
       "      <td>0.826429</td>\n",
       "      <td>0.049876</td>\n",
       "      <td>0.144267</td>\n",
       "      <td>0.329108</td>\n",
       "      <td>0.023712</td>\n",
       "      <td>0.240148</td>\n",
       "      <td>0.037933</td>\n",
       "      <td>...</td>\n",
       "      <td>0.463274</td>\n",
       "      <td>0.806008</td>\n",
       "      <td>0.424543</td>\n",
       "      <td>0.740591</td>\n",
       "      <td>0.414922</td>\n",
       "      <td>0.640904</td>\n",
       "      <td>0.830134</td>\n",
       "      <td>0.670395</td>\n",
       "      <td>0.793925</td>\n",
       "      <td>0.661031</td>\n",
       "    </tr>\n",
       "    <tr>\n",
       "      <th>1</th>\n",
       "      <td>0.413735</td>\n",
       "      <td>0.653429</td>\n",
       "      <td>0.079556</td>\n",
       "      <td>0.287581</td>\n",
       "      <td>0.463292</td>\n",
       "      <td>0.007681</td>\n",
       "      <td>0.481306</td>\n",
       "      <td>0.578830</td>\n",
       "      <td>0.000740</td>\n",
       "      <td>0.712687</td>\n",
       "      <td>...</td>\n",
       "      <td>0.107366</td>\n",
       "      <td>0.458907</td>\n",
       "      <td>0.893433</td>\n",
       "      <td>0.467608</td>\n",
       "      <td>0.881584</td>\n",
       "      <td>0.659369</td>\n",
       "      <td>0.330617</td>\n",
       "      <td>0.542939</td>\n",
       "      <td>0.565753</td>\n",
       "      <td>0.639010</td>\n",
       "    </tr>\n",
       "  </tbody>\n",
       "</table>\n",
       "<p>2 rows × 15748 columns</p>\n",
       "</div>"
      ],
      "text/plain": [
       "   LOC643837  LOC100130417    SAMD11     NOC2L    KLHL17   PLEKHN1  C1orf170  \\\n",
       "0   0.690766      0.000032  0.060273  0.826429  0.049876  0.144267  0.329108   \n",
       "1   0.413735      0.653429  0.079556  0.287581  0.463292  0.007681  0.481306   \n",
       "\n",
       "       HES4     ISG15      AGRN    ...        CLIC2    RPS4Y1       ZFY  \\\n",
       "0  0.023712  0.240148  0.037933    ...     0.463274  0.806008  0.424543   \n",
       "1  0.578830  0.000740  0.712687    ...     0.107366  0.458907  0.893433   \n",
       "\n",
       "       PRKY     USP9Y     DDX3Y      CD24  CYorf15B     KDM5D    EIF1AY  \n",
       "0  0.740591  0.414922  0.640904  0.830134  0.670395  0.793925  0.661031  \n",
       "1  0.467608  0.881584  0.659369  0.330617  0.542939  0.565753  0.639010  \n",
       "\n",
       "[2 rows x 15748 columns]"
      ]
     },
     "execution_count": 39,
     "metadata": {},
     "output_type": "execute_result"
    }
   ],
   "source": [
    "studentProbability.head(5)"
   ]
  },
  {
   "cell_type": "markdown",
   "metadata": {},
   "source": [
    "Часть 2: поправка методом Холма\n",
    "\n",
    "Для этой части задания вам понадобится модуль multitest из statsmodels.\n",
    "\n",
    "\n",
    "\u0001\u0001\n",
    "В этой части задания нужно будет применить поправку Холма для получившихся двух наборов достигаемых уровней значимости из предыдущей части. Обратите внимание, что поскольку вы будете делать поправку для каждого из двух наборов p-value отдельно, то проблема, связанная с множественной проверкой останется.\n",
    "\n",
    "Для того, чтобы ее устранить, достаточно воспользоваться поправкой Бонферрони, то есть использовать уровень значимости 0.05 / 2 вместо 0.05 для дальнейшего уточнения значений p-value c помощью метода Холма.\n",
    "\n",
    "В качестве ответа к этому заданию требуется ввести количество значимых отличий в каждой группе после того, как произведена коррекция Холма-Бонферрони. Причем это число нужно ввести с учетом практической значимости: посчитайте для каждого значимого изменения fold change и выпишите в ответ число таких значимых изменений, абсолютное значение fold change которых больше, чем 1.5.\n",
    "\n",
    "Обратите внимание, что\n",
    "\n",
    "применять поправку на множественную проверку нужно ко всем значениям достигаемых уровней значимости, а не только для тех, которые меньше значения уровня доверия.\n",
    "при использовании поправки на уровне значимости 0.025 меняются значения достигаемого уровня значимости, но не меняется значение уровня доверия (то есть для отбора значимых изменений скорректированные значения уровня значимости нужно сравнивать с порогом 0.025, а не 0.05)!"
   ]
  },
  {
   "cell_type": "code",
   "execution_count": 40,
   "metadata": {
    "collapsed": true
   },
   "outputs": [],
   "source": [
    "from statsmodels.sandbox.stats.multicomp import multipletests "
   ]
  },
  {
   "cell_type": "code",
   "execution_count": 61,
   "metadata": {},
   "outputs": [
    {
     "data": {
      "text/plain": [
       "array([ 1.        ,  0.50017368,  1.        , ...,  1.        ,\n",
       "        1.        ,  1.        ])"
      ]
     },
     "execution_count": 61,
     "metadata": {},
     "output_type": "execute_result"
    }
   ],
   "source": [
    "reject, p_corrected, a1, a2 = multipletests(studentProbability.loc[0], \n",
    "                                            alpha = 0.025, \n",
    "                                            method = 'holm') \n",
    "\n",
    "counter2_1 = 0\n",
    "for column in studentProbability.columns[reject]:\n",
    "    if abs(FoldChange(normalPatiens[column].values, earlyNeoplasiaPatiens[column].values))>1.5:\n",
    "        counter2_1 +=1\n",
    "print counter2_1"
   ]
  },
  {
   "cell_type": "code",
   "execution_count": 84,
   "metadata": {},
   "outputs": [
    {
     "name": "stdout",
     "output_type": "stream",
     "text": [
      "77\n"
     ]
    }
   ],
   "source": [
    "reject, p_corrected, a1, a2 = multipletests(studentProbability.loc[1], \n",
    "                                            alpha = 0.025, \n",
    "                                            method = 'holm') \n",
    "\n",
    "counter2_2 = 0\n",
    "for column in studentProbability.columns[reject]:\n",
    "    if abs(FoldChange(earlyNeoplasiaPatiens[column].values, cancerPatiens[column].values))>1.5:\n",
    "        counter2_2 +=1\n",
    "print counter2_2"
   ]
  },
  {
   "cell_type": "markdown",
   "metadata": {},
   "source": [
    "Часть 3: поправка методом Бенджамини-Хохберга\n",
    "Данная часть задания аналогична второй части за исключением того, что нужно будет использовать метод Бенджамини-Хохберга.\n",
    "\n",
    "Обратите внимание, что методы коррекции, которые контролируют FDR, допускает больше ошибок первого рода и имеют большую мощность, чем методы, контролирующие FWER. Большая мощность означает, что эти методы будут совершать меньше ошибок второго рода (то есть будут лучше улавливать отклонения от H0, когда они есть, и будут чаще отклонять H0, когда отличий нет).\n",
    "\n",
    "В качестве ответа к этому заданию требуется ввести количество значимых отличий в каждой группе после того, как произведена коррекция Бенджамини-Хохберга, причем так же, как и во второй части, считать только такие отличия, у которых abs(fold change) > 1.5."
   ]
  },
  {
   "cell_type": "code",
   "execution_count": 85,
   "metadata": {},
   "outputs": [
    {
     "name": "stdout",
     "output_type": "stream",
     "text": [
      "4 524\n"
     ]
    }
   ],
   "source": [
    "reject, p_corrected, a1, a2 = multipletests(studentProbability.loc[0], \n",
    "                                            alpha = 0.025, \n",
    "                                            method = 'fdr_bh') \n",
    "\n",
    "counter3_1 = 0\n",
    "for column in studentProbability.columns[reject]:\n",
    "    if abs(FoldChange(normalPatiens[column].values, earlyNeoplasiaPatiens[column].values))>1.5:\n",
    "        counter3_1 +=1\n",
    "\n",
    "reject, p_corrected, a1, a2 = multipletests(studentProbability.loc[1], \n",
    "                                            alpha = 0.025, \n",
    "                                            method = 'fdr_bh') \n",
    "\n",
    "counter3_2 = 0\n",
    "for column in studentProbability.columns[reject]:\n",
    "    if abs(FoldChange(earlyNeoplasiaPatiens[column].values, cancerPatiens[column].values))>1.5:\n",
    "        counter3_2 +=1\n",
    "print counter3_1, counter3_2"
   ]
  },
  {
   "cell_type": "code",
   "execution_count": null,
   "metadata": {
    "collapsed": true
   },
   "outputs": [],
   "source": []
  }
 ],
 "metadata": {
  "kernelspec": {
   "display_name": "Python 2",
   "language": "python",
   "name": "python2"
  },
  "language_info": {
   "codemirror_mode": {
    "name": "ipython",
    "version": 2
   },
   "file_extension": ".py",
   "mimetype": "text/x-python",
   "name": "python",
   "nbconvert_exporter": "python",
   "pygments_lexer": "ipython2",
   "version": "2.7.14"
  }
 },
 "nbformat": 4,
 "nbformat_minor": 2
}
