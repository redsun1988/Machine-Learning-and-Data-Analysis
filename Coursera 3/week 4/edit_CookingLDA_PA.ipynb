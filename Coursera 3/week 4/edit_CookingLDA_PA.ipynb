{
 "cells": [
  {
   "cell_type": "markdown",
   "metadata": {},
   "source": [
    "# Programming Assignment: \n",
    "## Готовим LDA по рецептам"
   ]
  },
  {
   "cell_type": "markdown",
   "metadata": {},
   "source": [
    "Как вы уже знаете, в тематическом моделировании делается предположение о том, что для определения тематики порядок слов в документе не важен; об этом гласит гипотеза «мешка слов». Сегодня мы будем работать с несколько нестандартной для тематического моделирования коллекцией, которую можно назвать «мешком ингредиентов», потому что на состоит из рецептов блюд разных кухонь. Тематические модели ищут слова, которые часто вместе встречаются в документах, и составляют из них темы. Мы попробуем применить эту идею к рецептам и найти кулинарные «темы». Эта коллекция хороша тем, что не требует предобработки. Кроме того, эта задача достаточно наглядно иллюстрирует принцип работы тематических моделей.\n",
    "\n",
    "Для выполнения заданий, помимо часто используемых в курсе библиотек, потребуются модули *json* и *gensim*. Первый входит в дистрибутив Anaconda, второй можно поставить командой \n",
    "\n",
    "*pip install gensim*\n",
    "\n",
    "Построение модели занимает некоторое время. На ноутбуке с процессором Intel Core i7 и тактовой частотой 2400 МГц на построение одной модели уходит менее 10 минут."
   ]
  },
  {
   "cell_type": "markdown",
   "metadata": {},
   "source": [
    "### Загрузка данных"
   ]
  },
  {
   "cell_type": "markdown",
   "metadata": {},
   "source": [
    "Коллекция дана в json-формате: для каждого рецепта известны его id, кухня (cuisine) и список ингредиентов, в него входящих. Загрузить данные можно с помощью модуля json (он входит в дистрибутив Anaconda):"
   ]
  },
  {
   "cell_type": "code",
   "execution_count": 1,
   "metadata": {
    "collapsed": true
   },
   "outputs": [],
   "source": [
    "import json"
   ]
  },
  {
   "cell_type": "code",
   "execution_count": 2,
   "metadata": {
    "collapsed": true
   },
   "outputs": [],
   "source": [
    "with open(\"recipes.json\") as f:\n",
    "    recipes = json.load(f)"
   ]
  },
  {
   "cell_type": "code",
   "execution_count": 3,
   "metadata": {},
   "outputs": [
    {
     "name": "stdout",
     "output_type": "stream",
     "text": [
      "{u'cuisine': u'greek', u'id': 10259, u'ingredients': [u'romaine lettuce', u'black olives', u'grape tomatoes', u'garlic', u'pepper', u'purple onion', u'seasoning', u'garbanzo beans', u'feta cheese crumbles']}\n"
     ]
    }
   ],
   "source": [
    "print recipes[0]"
   ]
  },
  {
   "cell_type": "markdown",
   "metadata": {},
   "source": [
    "### Составление корпуса"
   ]
  },
  {
   "cell_type": "code",
   "execution_count": 4,
   "metadata": {},
   "outputs": [
    {
     "data": {
      "text/plain": [
       "['alabaster==0.7.10',\n",
       " 'anaconda-client==1.6.5',\n",
       " 'anaconda-navigator==1.6.11',\n",
       " 'anaconda-project==0.8.0',\n",
       " 'asn1crypto==0.22.0',\n",
       " 'astroid==1.5.3',\n",
       " 'astropy==2.0.2',\n",
       " 'babel==2.5.0',\n",
       " 'backports-abc==0.5',\n",
       " 'backports.functools-lru-cache==1.4',\n",
       " 'backports.shutil-get-terminal-size==1.0.0',\n",
       " 'backports.ssl-match-hostname==3.5.0.1',\n",
       " 'beautifulsoup4==4.6.0',\n",
       " 'bitarray==0.8.1',\n",
       " 'bkcharts==0.2',\n",
       " 'blaze==0.11.3',\n",
       " 'bleach==2.0.0',\n",
       " 'bokeh==0.12.10',\n",
       " 'boto==2.48.0',\n",
       " 'bottleneck==1.2.1',\n",
       " 'bz2file==0.98',\n",
       " 'cachecontrol==0.12.3',\n",
       " 'cdecimal==2.3',\n",
       " 'certifi==2017.11.5',\n",
       " 'cffi==1.10.0',\n",
       " 'chardet==3.0.4',\n",
       " 'click==6.7',\n",
       " 'cloudpickle==0.4.0',\n",
       " 'clyent==1.2.2',\n",
       " 'colorama==0.3.9',\n",
       " 'comtypes==1.1.2',\n",
       " 'conda-build==3.0.27',\n",
       " 'conda-verify==2.0.0',\n",
       " 'conda==4.4.7',\n",
       " 'configparser==3.5.0',\n",
       " 'contextlib2==0.5.5',\n",
       " 'cryptography==2.0.3',\n",
       " 'cycler==0.10.0',\n",
       " 'cython==0.26.1',\n",
       " 'cytoolz==0.8.2',\n",
       " 'dask==0.15.3',\n",
       " 'datashape==0.5.4',\n",
       " 'decorator==4.1.2',\n",
       " 'distlib==0.2.5',\n",
       " 'distributed==1.19.1',\n",
       " 'docutils==0.14',\n",
       " 'entrypoints==0.2.3',\n",
       " 'enum34==1.1.6',\n",
       " 'et-xmlfile==1.0.1',\n",
       " 'fastcache==1.0.2',\n",
       " 'filelock==2.0.12',\n",
       " 'flask-cors==3.0.3',\n",
       " 'flask==0.12.2',\n",
       " 'funcsigs==1.0.2',\n",
       " 'functools32==3.2.3.post2',\n",
       " 'futures==3.1.1',\n",
       " 'gensim==2.3.0',\n",
       " 'gevent==1.2.2',\n",
       " 'glob2==0.5',\n",
       " 'greenlet==0.4.12',\n",
       " 'grin==1.2.1',\n",
       " 'h5py==2.7.0',\n",
       " 'heapdict==1.0.0',\n",
       " 'html5lib==0.999999999',\n",
       " 'idna==2.6',\n",
       " 'imageio==2.2.0',\n",
       " 'imagesize==0.7.1',\n",
       " 'ipaddress==1.0.18',\n",
       " 'ipykernel==4.6.1',\n",
       " 'ipython-genutils==0.2.0',\n",
       " 'ipython==5.4.1',\n",
       " 'ipywidgets==7.0.0',\n",
       " 'isort==4.2.15',\n",
       " 'itsdangerous==0.24',\n",
       " 'jdcal==1.3',\n",
       " 'jedi==0.10.2',\n",
       " 'jinja2==2.9.6',\n",
       " 'jsonschema==2.6.0',\n",
       " 'jupyter-client==5.1.0',\n",
       " 'jupyter-console==5.2.0',\n",
       " 'jupyter-core==4.3.0',\n",
       " 'jupyterlab-launcher==0.4.0',\n",
       " 'jupyterlab==0.27.0',\n",
       " 'lazy-object-proxy==1.3.1',\n",
       " 'llvmlite==0.20.0',\n",
       " 'locket==0.2.0',\n",
       " 'lockfile==0.12.2',\n",
       " 'lxml==4.1.0',\n",
       " 'markupsafe==1.0',\n",
       " 'matplotlib==2.1.0',\n",
       " 'mccabe==0.6.1',\n",
       " 'menuinst==1.4.10',\n",
       " 'mistune==0.7.4',\n",
       " 'mpmath==0.19',\n",
       " 'msgpack-python==0.4.8',\n",
       " 'multipledispatch==0.4.9',\n",
       " 'navigator-updater==0.1.0',\n",
       " 'nbconvert==5.3.1',\n",
       " 'nbformat==4.4.0',\n",
       " 'networkx==2.0',\n",
       " 'nltk==3.2.4',\n",
       " 'nose==1.3.7',\n",
       " 'notebook==5.0.0',\n",
       " 'numba==0.35.0+10.g143f70e.dirty',\n",
       " 'numexpr==2.6.2',\n",
       " 'numpy==1.13.3',\n",
       " 'numpydoc==0.7.0',\n",
       " 'odo==0.5.1',\n",
       " 'olefile==0.44',\n",
       " 'openpyxl==2.4.8',\n",
       " 'packaging==16.8',\n",
       " 'pandas==0.20.3',\n",
       " 'pandocfilters==1.4.2',\n",
       " 'partd==0.3.8',\n",
       " 'path.py==10.3.1',\n",
       " 'pathlib2==2.3.0',\n",
       " 'patsy==0.4.1',\n",
       " 'pep8==1.7.0',\n",
       " 'pickleshare==0.7.4',\n",
       " 'pillow==4.2.1',\n",
       " 'pip==9.0.1',\n",
       " 'pkginfo==1.4.1',\n",
       " 'ply==3.10',\n",
       " 'progress==1.3',\n",
       " 'prompt-toolkit==1.0.15',\n",
       " 'psutil==5.4.0',\n",
       " 'py==1.4.34',\n",
       " 'pycodestyle==2.3.1',\n",
       " 'pycosat==0.6.3',\n",
       " 'pycparser==2.18',\n",
       " 'pycrypto==2.6.1',\n",
       " 'pycurl==7.43.0',\n",
       " 'pyflakes==1.6.0',\n",
       " 'pygments==2.2.0',\n",
       " 'pylint==1.7.4',\n",
       " 'pyodbc==4.0.17',\n",
       " 'pyopenssl==17.2.0',\n",
       " 'pyparsing==2.2.0',\n",
       " 'pysocks==1.6.7',\n",
       " 'pytest==3.2.1',\n",
       " 'python-dateutil==2.6.1',\n",
       " 'pytz==2017.2',\n",
       " 'pywavelets==0.5.2',\n",
       " 'pywin32==221',\n",
       " 'pyyaml==3.12',\n",
       " 'pyzmq==16.0.2',\n",
       " 'qtawesome==0.4.4',\n",
       " 'qtconsole==4.3.1',\n",
       " 'qtpy==1.3.1',\n",
       " 'requests==2.18.4',\n",
       " 'rope==0.10.5',\n",
       " 'ruamel-yaml==0.11.14',\n",
       " 'scandir==1.6',\n",
       " 'scikit-image==0.13.0',\n",
       " 'scikit-learn==0.19.1',\n",
       " 'scipy==0.19.1',\n",
       " 'seaborn==0.8',\n",
       " 'setuptools==36.5.0.post20170921',\n",
       " 'simplegeneric==0.8.1',\n",
       " 'singledispatch==3.4.0.3',\n",
       " 'six==1.11.0',\n",
       " 'smart-open==1.5.3',\n",
       " 'snowballstemmer==1.2.1',\n",
       " 'sortedcollections==0.5.3',\n",
       " 'sortedcontainers==1.5.7',\n",
       " 'sphinx==1.6.3',\n",
       " 'sphinxcontrib-websupport==1.0.1',\n",
       " 'spyder==3.2.4',\n",
       " 'sqlalchemy==1.1.13',\n",
       " 'statsmodels==0.8.0',\n",
       " 'subprocess32==3.2.7',\n",
       " 'sympy==1.1.1',\n",
       " 'tables==3.4.2',\n",
       " 'tblib==1.3.2',\n",
       " 'testpath==0.3.1',\n",
       " 'toolz==0.8.2',\n",
       " 'tornado==4.5.2',\n",
       " 'traitlets==4.3.2',\n",
       " 'typing==3.6.2',\n",
       " 'unicodecsv==0.14.1',\n",
       " 'urllib3==1.22',\n",
       " 'wcwidth==0.1.7',\n",
       " 'webencodings==0.5.1',\n",
       " 'werkzeug==0.12.2',\n",
       " 'wheel==0.29.0',\n",
       " 'widgetsnbextension==3.0.2',\n",
       " 'win-inet-pton==1.0.1',\n",
       " 'win-unicode-console==0.5',\n",
       " 'wincertstore==0.2',\n",
       " 'wrapt==1.10.11',\n",
       " 'xlrd==1.1.0',\n",
       " 'xlsxwriter==1.0.2',\n",
       " 'xlwings==0.11.4',\n",
       " 'xlwt==1.3.0',\n",
       " 'zict==0.1.3']"
      ]
     },
     "execution_count": 4,
     "metadata": {},
     "output_type": "execute_result"
    }
   ],
   "source": [
    "import pip\n",
    "sorted([\"%s==%s\" % (i.key, i.version) for i in pip.get_installed_distributions()])"
   ]
  },
  {
   "cell_type": "code",
   "execution_count": 5,
   "metadata": {},
   "outputs": [
    {
     "name": "stderr",
     "output_type": "stream",
     "text": [
      "C:\\Users\\KONYAYEV.MAKSIM\\AppData\\Local\\Continuum\\anaconda2\\lib\\site-packages\\gensim\\utils.py:865: UserWarning: detected Windows; aliasing chunkize to chunkize_serial\n",
      "  warnings.warn(\"detected Windows; aliasing chunkize to chunkize_serial\")\n"
     ]
    }
   ],
   "source": [
    "from gensim import corpora, models\n",
    "import numpy as np"
   ]
  },
  {
   "cell_type": "markdown",
   "metadata": {},
   "source": [
    "Наша коллекция небольшая, и целиком помещается в оперативную память. Gensim может работать с такими данными и не требует их сохранения на диск в специальном формате. Для этого коллекция должна быть представлена в виде списка списков, каждый внутренний список соответствует отдельному документу и состоит из его слов. Пример коллекции из двух документов: \n",
    "\n",
    "[[\"hello\", \"world\"], [\"programming\", \"in\", \"python\"]]\n",
    "\n",
    "Преобразуем наши данные в такой формат, а затем создадим объекты corpus и dictionary, с которыми будет работать модель."
   ]
  },
  {
   "cell_type": "code",
   "execution_count": 6,
   "metadata": {
    "collapsed": true
   },
   "outputs": [],
   "source": [
    "texts = [recipe[\"ingredients\"] for recipe in recipes]\n",
    "dictionary = corpora.Dictionary(texts)   # составляем словарь\n",
    "corpus = [dictionary.doc2bow(text) for text in texts]  # составляем корпус документов"
   ]
  },
  {
   "cell_type": "code",
   "execution_count": 7,
   "metadata": {},
   "outputs": [
    {
     "name": "stdout",
     "output_type": "stream",
     "text": [
      "[u'romaine lettuce', u'black olives', u'grape tomatoes', u'garlic', u'pepper', u'purple onion', u'seasoning', u'garbanzo beans', u'feta cheese crumbles']\n",
      "[(0, 1), (1, 1), (2, 1), (3, 1), (4, 1), (5, 1), (6, 1), (7, 1), (8, 1)]\n"
     ]
    }
   ],
   "source": [
    "print texts[0]\n",
    "print corpus[0]"
   ]
  },
  {
   "cell_type": "markdown",
   "metadata": {},
   "source": [
    "У объекта dictionary есть полезная переменная dictionary.token2id, позволяющая находить соответствие между ингредиентами и их индексами."
   ]
  },
  {
   "cell_type": "markdown",
   "metadata": {},
   "source": [
    "### Обучение модели\n",
    "Вам может понадобиться [документация](https://radimrehurek.com/gensim/models/ldamodel.html) LDA в gensim."
   ]
  },
  {
   "cell_type": "markdown",
   "metadata": {},
   "source": [
    "__Задание 1.__ Обучите модель LDA с 40 темами, установив количество проходов по коллекции 5 и оставив остальные параметры по умолчанию. \n",
    "\n",
    "\n",
    "Затем вызовите метод модели *show_topics*, указав количество тем 40 и количество токенов 10, и сохраните результат (топы ингредиентов в темах) в отдельную переменную. Если при вызове метода *show_topics* указать параметр *formatted=True*, то топы ингредиентов будет удобно выводить на печать, если *formatted=False*, будет удобно работать со списком программно. Выведите топы на печать, рассмотрите темы, а затем ответьте на вопрос:\n",
    "\n",
    "Сколько раз ингредиенты \"salt\", \"sugar\", \"water\", \"mushrooms\", \"chicken\", \"eggs\" встретились среди топов-10 всех 40 тем? При ответе __не нужно__ учитывать составные ингредиенты, например, \"hot water\".\n",
    "\n",
    "Передайте 6 чисел в функцию save_answers1 и загрузите сгенерированный файл в форму.\n",
    "\n",
    "У gensim нет возможности фиксировать случайное приближение через параметры метода, но библиотека использует numpy для инициализации матриц. Поэтому, по утверждению автора библиотеки, фиксировать случайное приближение нужно командой, которая написана в следующей ячейке. __Перед строкой кода с построением модели обязательно вставляйте указанную строку фиксации random.seed.__"
   ]
  },
  {
   "cell_type": "code",
   "execution_count": 8,
   "metadata": {
    "collapsed": true
   },
   "outputs": [],
   "source": [
    "np.random.seed(76543)\n",
    "# здесь код для построения модели:\n",
    "ldamodel = models.ldamodel.LdaModel(corpus, id2word=dictionary, num_topics=40, passes=5)"
   ]
  },
  {
   "cell_type": "code",
   "execution_count": 9,
   "metadata": {
    "collapsed": true
   },
   "outputs": [],
   "source": [
    "topics = ldamodel.show_topics(40, 10, formatted=False)\n",
    "joinedTopics = []\n",
    "for doc in topics:\n",
    "    for term in doc[1]:\n",
    "        joinedTopics.append(term[0]) \n",
    "saltCount = joinedTopics.count(unicode(\"salt\"))\n",
    "sugarCount = joinedTopics.count(unicode(\"sugar\"))\n",
    "waterCount = joinedTopics.count(unicode(\"water\"))\n",
    "mushroomsCount = joinedTopics.count(unicode(\"mushrooms\"))\n",
    "chickenCount = joinedTopics.count(unicode(\"chicken\"))\n",
    "eggsCount = joinedTopics.count(unicode(\"eggs\"))\n"
   ]
  },
  {
   "cell_type": "code",
   "execution_count": 10,
   "metadata": {},
   "outputs": [
    {
     "ename": "NameError",
     "evalue": "name 'save_answers1' is not defined",
     "output_type": "error",
     "traceback": [
      "\u001b[1;31m---------------------------------------------------------------------------\u001b[0m",
      "\u001b[1;31mNameError\u001b[0m                                 Traceback (most recent call last)",
      "\u001b[1;32m<ipython-input-10-7985fe817c57>\u001b[0m in \u001b[0;36m<module>\u001b[1;34m()\u001b[0m\n\u001b[1;32m----> 1\u001b[1;33m \u001b[0msave_answers1\u001b[0m\u001b[1;33m(\u001b[0m\u001b[0msaltCount\u001b[0m\u001b[1;33m,\u001b[0m \u001b[0msugarCount\u001b[0m\u001b[1;33m,\u001b[0m \u001b[0mwaterCount\u001b[0m\u001b[1;33m,\u001b[0m \u001b[0mmushroomsCount\u001b[0m\u001b[1;33m,\u001b[0m \u001b[0mchickenCount\u001b[0m\u001b[1;33m,\u001b[0m \u001b[0meggsCount\u001b[0m\u001b[1;33m)\u001b[0m\u001b[1;33m\u001b[0m\u001b[0m\n\u001b[0m",
      "\u001b[1;31mNameError\u001b[0m: name 'save_answers1' is not defined"
     ]
    }
   ],
   "source": [
    "save_answers1(saltCount, sugarCount, waterCount, mushroomsCount, chickenCount, eggsCount)"
   ]
  },
  {
   "cell_type": "code",
   "execution_count": null,
   "metadata": {
    "collapsed": true
   },
   "outputs": [],
   "source": [
    "def save_answers1(c_salt, c_sugar, c_water, c_mushrooms, c_chicken, c_eggs):\n",
    "    with open(\"cooking_LDA_pa_task1.txt\", \"w\") as fout:\n",
    "        fout.write(\" \".join([str(el) for el in [c_salt, c_sugar, c_water, c_mushrooms, c_chicken, c_eggs]]))"
   ]
  },
  {
   "cell_type": "markdown",
   "metadata": {},
   "source": [
    "\n",
    "### Фильтрация словаря\n",
    "В топах тем гораздо чаще встречаются первые три рассмотренных ингредиента, чем последние три. При этом наличие в рецепте курицы, яиц и грибов яснее дает понять, что мы будем готовить, чем наличие соли, сахара и воды. Таким образом, даже в рецептах есть слова, часто встречающиеся в текстах и не несущие смысловой нагрузки, и поэтому их не желательно видеть в темах. Наиболее простой прием борьбы с такими фоновыми элементами — фильтрация словаря по частоте. Обычно словарь фильтруют с двух сторон: убирают очень редкие слова (в целях экономии памяти) и очень частые слова (в целях повышения интерпретируемости тем). Мы уберем только частые слова."
   ]
  },
  {
   "cell_type": "code",
   "execution_count": 10,
   "metadata": {
    "collapsed": true
   },
   "outputs": [],
   "source": [
    "import copy\n",
    "dictionary2 = copy.deepcopy(dictionary)"
   ]
  },
  {
   "cell_type": "markdown",
   "metadata": {},
   "source": [
    "__Задание 2.__ У объекта dictionary2 есть переменная *dfs* — это словарь, ключами которого являются id токена, а элементами — число раз, сколько слово встретилось во всей коллекции. Сохраните в отдельный список ингредиенты, которые встретились в коллекции больше 4000 раз. Вызовите метод словаря *filter_tokens*, подав в качестве первого аргумента полученный список популярных ингредиентов. Вычислите две величины: dict_size_before и dict_size_after — размер словаря до и после фильтрации.\n",
    "\n",
    "Затем, используя новый словарь, создайте новый корпус документов, corpus2, по аналогии с тем, как это сделано в начале ноутбука. Вычислите две величины: corpus_size_before и corpus_size_after — суммарное количество ингредиентов в корпусе (для каждого документа вычислите число различных ингредиентов в нем и просуммируйте по всем документам) до и после фильтрации.\n",
    "\n",
    "Передайте величины dict_size_before, dict_size_after, corpus_size_before, corpus_size_after в функцию save_answers2 и загрузите сгенерированный файл в форму."
   ]
  },
  {
   "cell_type": "code",
   "execution_count": 11,
   "metadata": {},
   "outputs": [
    {
     "name": "stdout",
     "output_type": "stream",
     "text": [
      "6714 6702\n"
     ]
    }
   ],
   "source": [
    "dict_size_before = len(dictionary.dfs)\n",
    "popular_words = {k: v for k, v in dictionary2.dfs.iteritems() if v > 4000}\n",
    "dictionary2.filter_tokens(bad_ids=popular_words)\n",
    "dict_size_after = len(dictionary2.dfs)\n",
    "corpus_after  = [dictionary2.doc2bow(text) for text in texts]  # составляем корпус документов\n",
    "\n",
    "print dict_size_before, dict_size_after "
   ]
  },
  {
   "cell_type": "code",
   "execution_count": 12,
   "metadata": {
    "collapsed": true
   },
   "outputs": [],
   "source": [
    "corpus_size_before = np.sum(map(lambda row:len(row),corpus))\n",
    "corpus_size_after = np.sum(map(lambda row:len(row),corpus_after))"
   ]
  },
  {
   "cell_type": "code",
   "execution_count": null,
   "metadata": {
    "collapsed": true
   },
   "outputs": [],
   "source": [
    "save_answers2(dict_size_before, dict_size_after, corpus_size_before, corpus_size_after)"
   ]
  },
  {
   "cell_type": "code",
   "execution_count": null,
   "metadata": {
    "collapsed": true
   },
   "outputs": [],
   "source": [
    "def save_answers2(dict_size_before, dict_size_after, corpus_size_before, corpus_size_after):\n",
    "    with open(\"cooking_LDA_pa_task2.txt\", \"w\") as fout:\n",
    "        fout.write(\" \".join([str(el) for el in [dict_size_before, dict_size_after, corpus_size_before, corpus_size_after]]))"
   ]
  },
  {
   "cell_type": "markdown",
   "metadata": {},
   "source": [
    "### Сравнение когерентностей\n",
    "__Задание 3.__ Постройте еще одну модель по корпусу corpus2 и словарю dictionary2, остальные параметры оставьте такими же, как при первом построении модели. Сохраните новую модель в другую переменную (не перезаписывайте предыдущую модель). Не забудьте про фиксирование seed!\n",
    "\n",
    "Затем воспользуйтесь методом *top_topics* модели, чтобы вычислить ее когерентность. Передайте в качестве аргумента соответствующий модели корпус. Метод вернет список кортежей (топ токенов, когерентность), отсортированных по убыванию последней. Вычислите среднюю по всем темам когерентность для каждой из двух моделей и передайте в функцию save_answers3. "
   ]
  },
  {
   "cell_type": "code",
   "execution_count": 13,
   "metadata": {
    "collapsed": true
   },
   "outputs": [],
   "source": [
    "np.random.seed(76543)\n",
    "# здесь код для построения модели:\n",
    "ldamodel2 = models.ldamodel.LdaModel(corpus_after, id2word=dictionary2, num_topics=40, passes=5)"
   ]
  },
  {
   "cell_type": "code",
   "execution_count": 14,
   "metadata": {},
   "outputs": [
    {
     "name": "stdout",
     "output_type": "stream",
     "text": [
      "40\n",
      "40\n",
      "-699.455973971 -737.719024686\n"
     ]
    }
   ],
   "source": [
    "top_topics = ldamodel.top_topics(corpus=corpus)\n",
    "coherences = []\n",
    "for topic in top_topics:\n",
    "    coherence_score = topic[1]\n",
    "    coherences.append(coherence_score)\n",
    "\n",
    "meanCoherenceBefore = np.mean(coherences)\n",
    "print len(coherences)\n",
    "\n",
    "top_topics2 = ldamodel2.top_topics(corpus=corpus_after)\n",
    "coherences = []\n",
    "for topic in top_topics2:\n",
    "    coherence_score = topic[1]\n",
    "    coherences.append(coherence_score)\n",
    "\n",
    "meanCoherenceAfter = np.mean(coherences) \n",
    "print len(coherences)\n",
    "\n",
    "print meanCoherenceBefore, meanCoherenceAfter"
   ]
  },
  {
   "cell_type": "code",
   "execution_count": 17,
   "metadata": {
    "collapsed": true
   },
   "outputs": [],
   "source": [
    "save_answers3(meanCoherenceBefore, meanCoherenceAfter)"
   ]
  },
  {
   "cell_type": "code",
   "execution_count": 16,
   "metadata": {
    "collapsed": true
   },
   "outputs": [],
   "source": [
    "def save_answers3(coherence, coherence2):\n",
    "    with open(\"cooking_LDA_pa_task3.txt\", \"w\") as fout:\n",
    "        fout.write(\" \".join([\"%3f\"%el for el in [coherence, coherence2]]))"
   ]
  },
  {
   "cell_type": "markdown",
   "metadata": {},
   "source": [
    "Считается, что когерентность хорошо соотносится с человеческими оценками интерпретируемости тем. Поэтому на больших текстовых коллекциях когерентность обычно повышается, если убрать фоновую лексику. Однако в нашем случае этого не произошло. "
   ]
  },
  {
   "cell_type": "markdown",
   "metadata": {},
   "source": [
    "### Изучение влияния гиперпараметра alpha"
   ]
  },
  {
   "cell_type": "markdown",
   "metadata": {},
   "source": [
    "В этом разделе мы будем работать со второй моделью, то есть той, которая построена по сокращенному корпусу. \n",
    "\n",
    "Пока что мы посмотрели только на матрицу темы-слова, теперь давайте посмотрим на матрицу темы-документы. Выведите темы для нулевого (или любого другого) документа из корпуса, воспользовавшись методом *get_document_topics* второй модели:"
   ]
  },
  {
   "cell_type": "code",
   "execution_count": 27,
   "metadata": {},
   "outputs": [
    {
     "name": "stdout",
     "output_type": "stream",
     "text": [
      "[(5, 0.13075495505244444), (7, 0.50534466736584061), (11, 0.24827537758171386)]\n"
     ]
    }
   ],
   "source": [
    "bow = dictionary2.doc2bow(texts[0])\n",
    "print ldamodel2.get_document_topics(bow, per_word_topics=False)\n"
   ]
  },
  {
   "cell_type": "markdown",
   "metadata": {},
   "source": [
    "Также выведите содержимое переменной *.alpha* второй модели:"
   ]
  },
  {
   "cell_type": "code",
   "execution_count": 26,
   "metadata": {},
   "outputs": [
    {
     "name": "stdout",
     "output_type": "stream",
     "text": [
      "alptha= [ 0.025  0.025  0.025  0.025  0.025  0.025  0.025  0.025  0.025  0.025\n",
      "  0.025  0.025  0.025  0.025  0.025  0.025  0.025  0.025  0.025  0.025\n",
      "  0.025  0.025  0.025  0.025  0.025  0.025  0.025  0.025  0.025  0.025\n",
      "  0.025  0.025  0.025  0.025  0.025  0.025  0.025  0.025  0.025  0.025]\n"
     ]
    }
   ],
   "source": [
    "print \"alptha=\", ldamodel2.alpha"
   ]
  },
  {
   "cell_type": "markdown",
   "metadata": {},
   "source": [
    "У вас должно получиться, что документ характеризуется небольшим числом тем. Попробуем поменять гиперпараметр alpha, задающий априорное распределение Дирихле для распределений тем в документах."
   ]
  },
  {
   "cell_type": "markdown",
   "metadata": {},
   "source": [
    "__Задание 4.__ Обучите третью модель: используйте сокращенный корпус (corpus2 и dictionary2) и установите параметр __alpha=1__, passes=5. Не забудьте про фиксацию seed! Выведите темы новой модели для нулевого документа; должно получиться, что распределение над множеством тем практически равномерное. Чтобы убедиться в том, что во второй модели документы описываются гораздо более разреженными распределениями, чем в третьей, посчитайте суммарное количество элементов, __превосходящих 0.01__, в матрицах темы-документы обеих моделей. Другими словами, запросите темы  модели для каждого документа с параметром *minimum_probability=0.01* и просуммируйте число элементов в получаемых массивах. Передайте две суммы (сначала для модели с alpha по умолчанию, затем для модели в alpha=1) в функцию save_answers4."
   ]
  },
  {
   "cell_type": "code",
   "execution_count": 30,
   "metadata": {},
   "outputs": [],
   "source": [
    "def save_answers4(count_model2, count_model3):\n",
    "    with open(\"cooking_LDA_pa_task4.txt\", \"w\") as fout:\n",
    "        fout.write(\" \".join([str(el) for el in [count_model2, count_model3]]))"
   ]
  },
  {
   "cell_type": "code",
   "execution_count": 31,
   "metadata": {
    "collapsed": true
   },
   "outputs": [],
   "source": [
    "np.random.seed(76543)\n",
    "# здесь код для построения модели:\n",
    "ldamodel3 = models.ldamodel.LdaModel(corpus_after, id2word=dictionary2, num_topics=40, passes=5, alpha=1)"
   ]
  },
  {
   "cell_type": "code",
   "execution_count": 39,
   "metadata": {},
   "outputs": [
    {
     "name": "stdout",
     "output_type": "stream",
     "text": [
      "198141\n"
     ]
    }
   ],
   "source": [
    "count_4_model2 = 0\n",
    "for text in texts:\n",
    "    bow = dictionary2.doc2bow(text)\n",
    "    words = ldamodel2.get_document_topics(bow, per_word_topics=False, minimum_probability=0.01)\n",
    "    count_4_model2 = count_4_model2 + len(words)\n",
    "\n",
    "print count_4_model2"
   ]
  },
  {
   "cell_type": "code",
   "execution_count": 40,
   "metadata": {},
   "outputs": [
    {
     "name": "stdout",
     "output_type": "stream",
     "text": [
      "1590960\n"
     ]
    }
   ],
   "source": [
    "count_4_model3 = 0\n",
    "for text in texts:\n",
    "    bow = dictionary2.doc2bow(text)\n",
    "    words = ldamodel3.get_document_topics(bow, per_word_topics=False, minimum_probability=0.01)\n",
    "    count_4_model3 = count_4_model3 + len(words)\n",
    "\n",
    "print count_4_model3"
   ]
  },
  {
   "cell_type": "code",
   "execution_count": 41,
   "metadata": {
    "collapsed": true
   },
   "outputs": [],
   "source": [
    "save_answers4(count_4_model2, count_4_model3)"
   ]
  },
  {
   "cell_type": "markdown",
   "metadata": {},
   "source": [
    "Таким образом, гиперпараметр __alpha__ влияет на разреженность распределений тем в документах. Аналогично гиперпараметр __eta__ влияет на разреженность распределений слов в темах."
   ]
  },
  {
   "cell_type": "markdown",
   "metadata": {},
   "source": [
    "### LDA как способ понижения размерности\n",
    "Иногда, распределения над темами, найденные с помощью LDA, добавляют в матрицу объекты-признаки как дополнительные, семантические, признаки, и это может улучшить качество решения задачи. Для простоты давайте просто обучим классификатор рецептов на кухни на признаках, полученных из LDA, и измерим точность (accuracy).\n",
    "\n",
    "__Задание 5.__ Используйте модель, построенную по сокращенной выборке с alpha по умолчанию (вторую модель). Составьте матрицу $\\Theta = p(t|d)$ вероятностей тем в документах; вы можете использовать тот же метод get_document_topics, а также вектор правильных ответов y (в том же порядке, в котором рецепты идут в переменной recipes). Создайте объект RandomForestClassifier со 100 деревьями, с помощью функции cross_val_score вычислите среднюю accuracy по трем фолдам (перемешивать данные не нужно) и передайте в функцию save_answers5."
   ]
  },
  {
   "cell_type": "code",
   "execution_count": 62,
   "metadata": {},
   "outputs": [
    {
     "name": "stderr",
     "output_type": "stream",
     "text": [
      "C:\\Users\\KONYAYEV.MAKSIM\\AppData\\Local\\Continuum\\anaconda2\\lib\\site-packages\\sklearn\\cross_validation.py:41: DeprecationWarning: This module was deprecated in version 0.18 in favor of the model_selection module into which all the refactored classes and functions are moved. Also note that the interface of the new CV iterators are different from that of this module. This module will be removed in 0.20.\n",
      "  \"This module will be removed in 0.20.\", DeprecationWarning)\n"
     ]
    }
   ],
   "source": [
    "from sklearn.ensemble import RandomForestClassifier\n",
    "from sklearn.cross_validation import cross_val_score"
   ]
  },
  {
   "cell_type": "code",
   "execution_count": 60,
   "metadata": {},
   "outputs": [
    {
     "name": "stdout",
     "output_type": "stream",
     "text": [
      "[(5, 0.13074228771656146), (7, 0.50452305173773693), (11, 0.2491096605457005)]\n",
      "[[ 0.      0.      0.     ...,  0.      0.      0.    ]\n",
      " [ 0.      0.      0.     ...,  0.      0.      0.    ]\n",
      " [ 0.      0.      0.     ...,  0.      0.      0.    ]\n",
      " ..., \n",
      " [ 0.      0.      0.1025 ...,  0.      0.      0.    ]\n",
      " [ 0.      0.      0.     ...,  0.      0.      0.    ]\n",
      " [ 0.      0.      0.     ...,  0.      0.      0.    ]]\n"
     ]
    }
   ],
   "source": [
    "bow = dictionary2.doc2bow(texts[0])\n",
    "words = ldamodel2.get_document_topics(bow, per_word_topics=False)\n",
    "print words\n",
    "\n",
    "Y = [recipe[\"cuisine\"] for recipe in recipes]\n",
    "X = np.zeros(shape=(len(texts), len(dictionary2)))\n",
    "\n",
    "for idx, text in enumerate(texts):\n",
    "    bow = dictionary2.doc2bow(text)\n",
    "    words = ldamodel2.get_document_topics(bow, per_word_topics=False)\n",
    "    for word in words:\n",
    "        X[idx, word[0]] = word[1]\n",
    "        \n"
   ]
  },
  {
   "cell_type": "code",
   "execution_count": 66,
   "metadata": {},
   "outputs": [
    {
     "data": {
      "text/plain": [
       "RandomForestClassifier(bootstrap=True, class_weight=None, criterion='gini',\n",
       "            max_depth=None, max_features='auto', max_leaf_nodes=None,\n",
       "            min_impurity_decrease=0.0, min_impurity_split=None,\n",
       "            min_samples_leaf=1, min_samples_split=2,\n",
       "            min_weight_fraction_leaf=0.0, n_estimators=100, n_jobs=1,\n",
       "            oob_score=False, random_state=None, verbose=0,\n",
       "            warm_start=False)"
      ]
     },
     "execution_count": 66,
     "metadata": {},
     "output_type": "execute_result"
    }
   ],
   "source": [
    "rfc = RandomForestClassifier(n_estimators=100)\n",
    "rfc.fit(X, Y)"
   ]
  },
  {
   "cell_type": "code",
   "execution_count": 67,
   "metadata": {},
   "outputs": [
    {
     "name": "stdout",
     "output_type": "stream",
     "text": [
      "[ 0.55530423  0.55177615  0.56036825]\n"
     ]
    }
   ],
   "source": [
    "result = cross_val_score(rfc, X, Y, cv=3)\n",
    "print result"
   ]
  },
  {
   "cell_type": "code",
   "execution_count": 71,
   "metadata": {},
   "outputs": [],
   "source": [
    "save_answers5(np.mean(result))"
   ]
  },
  {
   "cell_type": "code",
   "execution_count": 72,
   "metadata": {
    "collapsed": true
   },
   "outputs": [],
   "source": [
    "def save_answers5(accuracy):\n",
    "     with open(\"cooking_LDA_pa_task5.txt\", \"w\") as fout:\n",
    "        fout.write(str(accuracy))"
   ]
  },
  {
   "cell_type": "markdown",
   "metadata": {},
   "source": [
    "Для такого большого количества классов это неплохая точность. Вы можете попроовать обучать RandomForest на исходной матрице частот слов, имеющей значительно большую размерность, и увидеть, что accuracy увеличивается на 10–15%. Таким образом, LDA собрал не всю, но достаточно большую часть информации из выборки, в матрице низкого ранга."
   ]
  },
  {
   "cell_type": "markdown",
   "metadata": {},
   "source": [
    "### LDA — вероятностная модель\n",
    "Матричное разложение, использующееся в LDA, интерпретируется как следующий процесс генерации документов.\n",
    "\n",
    "Для документа $d$ длины $n_d$:\n",
    "1. Из априорного распределения Дирихле с параметром alpha сгенерировать распределение над множеством тем: $\\theta_d \\sim Dirichlet(\\alpha)$\n",
    "1. Для каждого слова $w = 1, \\dots, n_d$:\n",
    "    1. Сгенерировать тему из дискретного распределения $t \\sim \\theta_{d}$\n",
    "    1. Сгенерировать слово из дискретного распределения $w \\sim \\phi_{t}$.\n",
    "    \n",
    "Подробнее об этом в [Википедии](https://en.wikipedia.org/wiki/Latent_Dirichlet_allocation).\n",
    "\n",
    "В контексте нашей задачи получается, что, используя данный генеративный процесс, можно создавать новые рецепты. Вы можете передать в функцию модель и число ингредиентов и сгенерировать рецепт :)"
   ]
  },
  {
   "cell_type": "code",
   "execution_count": 74,
   "metadata": {
    "collapsed": true
   },
   "outputs": [],
   "source": [
    "def generate_recipe(model, num_ingredients):\n",
    "    theta = np.random.dirichlet(model.alpha)\n",
    "    for i in range(num_ingredients):\n",
    "        t = np.random.choice(np.arange(model.num_topics), p=theta)\n",
    "        topic = model.show_topic(t, topn=model.num_terms)\n",
    "        topic_distr = [x[1] for x in topic]\n",
    "        terms = [x[0] for x in topic]\n",
    "        w = np.random.choice(terms, p=topic_distr)\n",
    "        print w"
   ]
  },
  {
   "cell_type": "code",
   "execution_count": 78,
   "metadata": {},
   "outputs": [
    {
     "name": "stdout",
     "output_type": "stream",
     "text": [
      "serrano ham\n",
      "penne\n",
      "salsa\n",
      "whipped topping\n",
      "aleppo pepper\n"
     ]
    }
   ],
   "source": [
    "generate_recipe(ldamodel, 5)"
   ]
  },
  {
   "cell_type": "markdown",
   "metadata": {},
   "source": [
    "### Интерпретация построенной модели\n",
    "Вы можете рассмотреть топы ингредиентов каждой темы. Большиснтво тем сами по себе похожи на рецепты; в некоторых собираются продукты одного вида, например, свежие фрукты или разные виды сыра.\n",
    "\n",
    "Попробуем эмпирически соотнести наши темы с национальными кухнями (cuisine). Построим матрицу $A$ размера темы $x$ кухни, ее элементы $a_{tc}$ — суммы $p(t|d)$ по всем документам $d$, которые отнесены к кухне $c$. Нормируем матрицу на частоты рецептов по разным кухням, чтобы избежать дисбаланса между кухнями. Следующая функция получает на вход объект модели, объект корпуса и исходные данные и возвращает нормированную матрицу $A$. Ее удобно визуализировать с помощью seaborn."
   ]
  },
  {
   "cell_type": "code",
   "execution_count": 79,
   "metadata": {
    "collapsed": true
   },
   "outputs": [],
   "source": [
    "import pandas\n",
    "import seaborn\n",
    "from matplotlib import pyplot as plt\n",
    "%matplotlib inline"
   ]
  },
  {
   "cell_type": "code",
   "execution_count": 80,
   "metadata": {
    "collapsed": true
   },
   "outputs": [],
   "source": [
    "def compute_topic_cuisine_matrix(model, corpus, recipes):\n",
    "    # составляем вектор целевых признаков\n",
    "    targets = list(set([recipe[\"cuisine\"] for recipe in recipes]))\n",
    "    # составляем матрицу\n",
    "    tc_matrix = pandas.DataFrame(data=np.zeros((model.num_topics, len(targets))), columns=targets)\n",
    "    for recipe, bow in zip(recipes, corpus):\n",
    "        recipe_topic = model.get_document_topics(bow)\n",
    "        for t, prob in recipe_topic:\n",
    "            tc_matrix[recipe[\"cuisine\"]][t] += prob\n",
    "    # нормируем матрицу\n",
    "    target_sums = pandas.DataFrame(data=np.zeros((1, len(targets))), columns=targets)\n",
    "    for recipe in recipes:\n",
    "        target_sums[recipe[\"cuisine\"]] += 1\n",
    "    return pandas.DataFrame(tc_matrix.values/target_sums.values, columns=tc_matrix.columns)"
   ]
  },
  {
   "cell_type": "code",
   "execution_count": 81,
   "metadata": {
    "collapsed": true
   },
   "outputs": [],
   "source": [
    "def plot_matrix(tc_matrix):\n",
    "    plt.figure(figsize=(10, 10))\n",
    "    seaborn.heatmap(tc_matrix, square=True)"
   ]
  },
  {
   "cell_type": "code",
   "execution_count": 83,
   "metadata": {},
   "outputs": [],
   "source": [
    "# Визуализируйте матрицу\n",
    "matrix = compute_topic_cuisine_matrix(ldamodel, corpus, recipes)"
   ]
  },
  {
   "cell_type": "code",
   "execution_count": 84,
   "metadata": {},
   "outputs": [
    {
     "data": {
      "image/png": "[encoded data removed]",
      "text/plain": [
       "<matplotlib.figure.Figure at 0x1fe8a828>"
      ]
     },
     "metadata": {},
     "output_type": "display_data"
    }
   ],
   "source": [
    "plot_matrix(matrix)"
   ]
  },
  {
   "cell_type": "markdown",
   "metadata": {},
   "source": [
    "Чем темнее квадрат в матрице, тем больше связь этой темы с данной кухней. Мы видим, что у нас есть темы, которые связаны с несколькими кухнями. Такие темы показывают набор ингредиентов, которые популярны в кухнях нескольких народов, то есть указывают на схожесть кухонь этих народов. Некоторые темы распределены по всем кухням равномерно, они показывают наборы продуктов, которые часто используются в кулинарии всех стран. "
   ]
  },
  {
   "cell_type": "markdown",
   "metadata": {},
   "source": [
    "Жаль, что в датасете нет названий рецептов, иначе темы было бы проще интерпретировать..."
   ]
  },
  {
   "cell_type": "markdown",
   "metadata": {},
   "source": [
    "### Заключение\n",
    "В этом задании вы построили несколько моделей LDA, посмотрели, на что влияют гиперпараметры модели и как можно использовать построенную модель. "
   ]
  }
 ],
 "metadata": {
  "kernelspec": {
   "display_name": "Python 2",
   "language": "python",
   "name": "python2"
  },
  "language_info": {
   "codemirror_mode": {
    "name": "ipython",
    "version": 2
   },
   "file_extension": ".py",
   "mimetype": "text/x-python",
   "name": "python",
   "nbconvert_exporter": "python",
   "pygments_lexer": "ipython2",
   "version": "2.7.14"
  }
 },
 "nbformat": 4,
 "nbformat_minor": 1
}
