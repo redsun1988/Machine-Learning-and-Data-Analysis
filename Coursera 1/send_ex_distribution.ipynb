{
 "cells": [
  {
   "cell_type": "code",
   "execution_count": 1,
   "metadata": {
    "collapsed": true
   },
   "outputs": [],
   "source": [
    "import pandas as pd\n",
    "import numpy as np\n",
    "import matplotlib.pyplot as plt\n",
    "import scipy.stats as sts\n",
    "from math import sqrt\n",
    "%matplotlib inline"
   ]
  },
  {
   "cell_type": "markdown",
   "metadata": {},
   "source": [
    "# Pareto distribution\n",
    "## Let's define $\\xi$ as pareto random value"
   ]
  },
  {
   "cell_type": "markdown",
   "metadata": {},
   "source": [
    "## comparing theoretical probability density function with histogram(sample) "
   ]
  },
  {
   "cell_type": "code",
   "execution_count": 2,
   "metadata": {
    "scrolled": true
   },
   "outputs": [
    {
     "data": {
      "text/plain": [
       "<matplotlib.text.Text at 0x5619a20>"
      ]
     },
     "execution_count": 2,
     "metadata": {},
     "output_type": "execute_result"
    },
    {
     "data": {
      "image/png": "[encoded data removed]",
      "text/plain": [
       "<matplotlib.figure.Figure at 0xbf60ac8>"
      ]
     },
     "metadata": {},
     "output_type": "display_data"
    }
   ],
   "source": [
    "b=2.62\n",
    "pareto_rv = sts.pareto(b)\n",
    "sample = pareto_rv.rvs(1000)\n",
    "plt.hist(sample,bins=50,normed=True,label='empirical pdf')\n",
    "\n",
    "# Ð½Ð° Ñ‚Ð¾Ð¼ Ð¶Ðµ Ð³Ñ€Ð°Ñ„Ð¸ÐºÐµ Ð¿Ð¾ÑÑ‚Ñ€Ð¾Ð¸Ð¼ Ñ‚ÐµÐ¾Ñ€ÐµÑ‚Ð¸Ñ‡ÐµÑÐºÑƒÑŽ Ð¿Ð»Ð¾Ñ‚Ð½Ð¾ÑÑ‚ÑŒ Ñ€Ð°ÑÐ¿Ñ€ÐµÐ´ÐµÐ»ÐµÐ½Ð¸Ñ:\n",
    "x = np.linspace(-4,4,100)\n",
    "pdf = pareto_rv.pdf(x)\n",
    "plt.plot(x, pdf, label='theoretical pdf', alpha=0.5)\n",
    "plt.legend()\n",
    "plt.ylabel('$f(x)$')\n",
    "plt.xlabel('$x$')"
   ]
  },
  {
   "cell_type": "markdown",
   "metadata": {},
   "source": [
    "## obtaining expactation and variance of pareto distribution"
   ]
  },
  {
   "cell_type": "code",
   "execution_count": 3,
   "metadata": {},
   "outputs": [
    {
     "name": "stdout",
     "output_type": "stream",
     "text": [
      "1.61019907469\n"
     ]
    }
   ],
   "source": [
    "#Let's calculate expectation and variance\n",
    "from scipy.stats import pareto\n",
    "\n",
    "mean, var = pareto.stats(b, moments='mv')\n",
    "print var"
   ]
  },
  {
   "cell_type": "markdown",
   "metadata": {},
   "source": [
    "In our case $x_{m}=1$\n",
    "$$\\mathbb {E} [X]={\\frac {bx_{m}}{b-1}}$$\n",
    "$$\\mathrm {D} [X]=\\left({\\frac {x_{m}}{b-1}}\\right)^{2}{\\frac {b}{b-2}}$$\n"
   ]
  },
  {
   "cell_type": "markdown",
   "metadata": {},
   "source": [
    "## We are trying to check Central limit theorem,wich states that \n",
    "$$ X_{n}\\sim N(E\\xi,\\frac{D\\xi}{n})    ,n \\rightarrow \\inf$$\n",
    "Where $\\bar X_{n}:=\\sum_{k=1}^{n}x_{i}$"
   ]
  },
  {
   "cell_type": "markdown",
   "metadata": {},
   "source": [
    "## here we define funtion to find sample mean (Ð²Ñ‹Ð±Ð¾Ñ€Ð¾Ñ‡Ð½Ð¾Ðµ ÑÑ€ÐµÐ´Ð½ÐµÐµ)"
   ]
  },
  {
   "cell_type": "code",
   "execution_count": 30,
   "metadata": {
    "collapsed": true
   },
   "outputs": [],
   "source": [
    "def s_mean(smpl,n):\n",
    "    xn=0\n",
    "    denom=float(n)\n",
    "    for i in range(n):\n",
    "        xn+=smpl[i]/denom\n",
    "    return xn"
   ]
  },
  {
   "cell_type": "markdown",
   "metadata": {},
   "source": [
    "## creating 3 arrays to store 1000 of generated samples(each consists of n[i] elements)"
   ]
  },
  {
   "cell_type": "code",
   "execution_count": 31,
   "metadata": {
    "collapsed": true
   },
   "outputs": [],
   "source": [
    "xn1=np.array([])\n",
    "xn2=np.array([])\n",
    "xn3=np.array([])\n",
    "n=[10,50,1000]\n",
    "for i in range(3):\n",
    "    for k in range(1000):\n",
    "        cdf = pareto_rv.rvs(n[i]) \n",
    "        if i==0 :\n",
    "            xn1=np.append(xn1,s_mean(cdf,n[i]))\n",
    "        elif i==1:\n",
    "            xn2=np.append(xn2,s_mean(cdf,n[i]))\n",
    "        else:\n",
    "            xn3=np.append(xn3,s_mean(cdf,n[i]))\n"
   ]
  },
  {
   "cell_type": "markdown",
   "metadata": {},
   "source": [
    "## That's it! Plotting and comparing histogram of s_variance's distribution with norm pdf ,to which it converges in measure(more precisely N(E$\\xi$,$\\frac{D\\xi}{n}$))"
   ]
  },
  {
   "cell_type": "markdown",
   "metadata": {},
   "source": [
    "## n[i] is number of elements in each of 1000 samples"
   ]
  },
  {
   "cell_type": "markdown",
   "metadata": {},
   "source": [
    "## i=0;n[i]=10"
   ]
  },
  {
   "cell_type": "code",
   "execution_count": 32,
   "metadata": {},
   "outputs": [
    {
     "data": {
      "text/plain": [
       "<matplotlib.text.Text at 0xf4b4860>"
      ]
     },
     "execution_count": 32,
     "metadata": {},
     "output_type": "execute_result"
    },
    {
     "data": {
      "image/png": "[encoded data removed]",
      "text/plain": [
       "<matplotlib.figure.Figure at 0xf0d8898>"
      ]
     },
     "metadata": {},
     "output_type": "display_data"
    }
   ],
   "source": [
    "plt.hist(xn1,bins=50,normed=True,label='s_mean_distrib')\n",
    "plt.ylabel('fraction of samples')\n",
    "plt.xlabel('$x$')\n",
    "i=0\n",
    "norm_rv = sts.norm(mean, sqrt(var/n[i]))\n",
    "x = np.linspace(0,4,100)\n",
    "pdf = norm_rv.pdf(x)\n",
    "plt.plot(x, pdf, label='theoretical pdf', alpha=0.5)\n",
    "plt.legend()\n",
    "plt.ylabel('$f(x)$')\n",
    "plt.xlabel('$x$')"
   ]
  },
  {
   "cell_type": "markdown",
   "metadata": {},
   "source": [
    "## i=1;n[i]=50"
   ]
  },
  {
   "cell_type": "code",
   "execution_count": 33,
   "metadata": {},
   "outputs": [
    {
     "data": {
      "text/plain": [
       "<matplotlib.text.Text at 0xea44e48>"
      ]
     },
     "execution_count": 33,
     "metadata": {},
     "output_type": "execute_result"
    },
    {
     "data": {
      "image/png": "[encoded data removed]",
      "text/plain": [
       "<matplotlib.figure.Figure at 0x1102fbe0>"
      ]
     },
     "metadata": {},
     "output_type": "display_data"
    }
   ],
   "source": [
    "plt.hist(xn2,bins=50,normed=True,label='s_mean_distrib')\n",
    "plt.ylabel('fraction of samples')\n",
    "plt.xlabel('$x$')\n",
    "i=1\n",
    "norm_rv = sts.norm(mean, sqrt(var/n[i]))\n",
    "x = np.linspace(1,4,100)\n",
    "pdf = norm_rv.pdf(x)\n",
    "plt.plot(x, pdf, label='theoretical pdf', alpha=0.5)\n",
    "plt.legend()\n",
    "plt.ylabel('$f(x)$')\n",
    "plt.xlabel('$x$')"
   ]
  },
  {
   "cell_type": "markdown",
   "metadata": {},
   "source": [
    "## i=2; n[i]=1000"
   ]
  },
  {
   "cell_type": "code",
   "execution_count": 34,
   "metadata": {},
   "outputs": [
    {
     "data": {
      "text/plain": [
       "<matplotlib.text.Text at 0xe65d0f0>"
      ]
     },
     "execution_count": 34,
     "metadata": {},
     "output_type": "execute_result"
    },
    {
     "data": {
      "image/png": "[encoded data removed]",
      "text/plain": [
       "<matplotlib.figure.Figure at 0x1146a208>"
      ]
     },
     "metadata": {},
     "output_type": "display_data"
    }
   ],
   "source": [
    "plt.hist(xn3,bins=100,normed=True,label='s_mean_distrib')\n",
    "plt.ylabel('fraction of samples')\n",
    "plt.xlabel('$x$')\n",
    "i=2\n",
    "norm_rv = sts.norm(mean,sqrt(var/n[i]))\n",
    "x = np.linspace(1,4,100)\n",
    "pdf = norm_rv.pdf(x)\n",
    "plt.plot(x, pdf, label='theoretical pdf', alpha=0.5)\n",
    "plt.legend()\n",
    "plt.ylabel('$f(x)$')\n",
    "plt.xlabel('$x$')"
   ]
  },
  {
   "cell_type": "markdown",
   "metadata": {},
   "source": [
    "# Conclusion"
   ]
  },
  {
   "cell_type": "markdown",
   "metadata": {
    "collapsed": true
   },
   "source": [
    "It seems that N(E$\\xi$,$\\frac{D\\xi}{n}$) approximates distribution of sample variance well, only if we have n[i]>1000 ,where \n",
    "$\\xi$ is pareto random value"
   ]
  },
  {
   "cell_type": "markdown",
   "metadata": {},
   "source": [
    "Ð§ÐµÐ¼ Ð±Ð¾Ð»ÑŒÑˆÐµ n, Ñ‚ÐµÐ¼ Ñ‚Ð¾Ñ‡Ð½ÐµÐµ Ð°Ð¿Ð¿Ñ€Ð¾ÐºÑÐ¸Ð¼Ð°Ñ†Ð¸Ñ."
   ]
  }
 ],
 "metadata": {
  "kernelspec": {
   "display_name": "Python 2",
   "language": "python",
   "name": "python2"
  },
  "language_info": {
   "codemirror_mode": {
    "name": "ipython",
    "version": 2
   },
   "file_extension": ".py",
   "mimetype": "text/x-python",
   "name": "python",
   "nbconvert_exporter": "python",
   "pygments_lexer": "ipython2",
   "version": "2.7.13"
  }
 },
 "nbformat": 4,
 "nbformat_minor": 2
}
