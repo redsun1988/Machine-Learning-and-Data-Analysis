{
 "cells": [
  {
   "cell_type": "code",
   "execution_count": 113,
   "metadata": {},
   "outputs": [],
   "source": [
    "#Загружаем нужные библиотеки\n",
    "from matplotlib.colors import ListedColormap\n",
    "from sklearn import cross_validation, datasets, metrics, tree \n",
    "from sklearn.model_selection import cross_val_score\n",
    "\n",
    "import numpy as np"
   ]
  },
  {
   "cell_type": "code",
   "execution_count": 114,
   "metadata": {},
   "outputs": [
    {
     "data": {
      "text/plain": [
       "\"\\nNotes\\n-----\\nData Set Characteristics:\\n    :Number of Instances: 5620\\n    :Number of Attributes: 64\\n    :Attribute Information: 8x8 image of integer pixels in the range 0..16.\\n    :Missing Attribute Values: None\\n    :Creator: E. Alpaydin (alpaydin '@' boun.edu.tr)\\n    :Date: July; 1998\\n\""
      ]
     },
     "execution_count": 114,
     "metadata": {},
     "output_type": "execute_result"
    }
   ],
   "source": [
    "#Загружаем источник данных\n",
    "digits_set = datasets.load_digits();\n",
    "X = digits_set.data\n",
    "Y = digits_set.target\n",
    "\"\"\"\n",
    "Notes\n",
    "-----\n",
    "Data Set Characteristics:\n",
    "    :Number of Instances: 5620\n",
    "    :Number of Attributes: 64\n",
    "    :Attribute Information: 8x8 image of integer pixels in the range 0..16.\n",
    "    :Missing Attribute Values: None\n",
    "    :Creator: E. Alpaydin (alpaydin '@' boun.edu.tr)\n",
    "    :Date: July; 1998\n",
    "\"\"\""
   ]
  },
  {
   "cell_type": "code",
   "execution_count": 115,
   "metadata": {
    "collapsed": true
   },
   "outputs": [],
   "source": [
    "\"\"\"\n",
    "1.\n",
    "\n",
    "Создайте DecisionTreeClassifier с настройками по умолчанию и измерьте качество его работы с помощью cross_val_score. \n",
    "Эта величина и будет ответом в пункте 1.\n",
    "\"\"\"\n",
    "clf = tree.DecisionTreeClassifier(random_state=1)"
   ]
  },
  {
   "cell_type": "code",
   "execution_count": 116,
   "metadata": {},
   "outputs": [
    {
     "name": "stdout",
     "output_type": "stream",
     "text": [
      "The answer in the first task is  0.83086244395\n"
     ]
    }
   ],
   "source": [
    "#Кросс валидация\n",
    "\n",
    "validationResult1 = cross_val_score(clf, X, Y, cv=10)\n",
    "print \"The answer in the first task is \", validationResult.mean()"
   ]
  },
  {
   "cell_type": "code",
   "execution_count": 78,
   "metadata": {},
   "outputs": [],
   "source": [
    "#Бэггинг\n",
    "\"\"\"\n",
    "2.\n",
    "\n",
    "Воспользуйтесь BaggingClassifier из sklearn.ensemble, чтобы обучить бэггинг над DecisionTreeClassifier.\n",
    "Используйте в BaggingClassifier параметры по умолчанию, задав только количество деревьев равным 100.\n",
    "Качество классификации новой модели - ответ в пункте 2. Обратите внимание, как соотносится качество работы \n",
    "композиции решающих деревьев с качеством работы одного решающего дерева.\n",
    "\n",
    "class sklearn.ensemble.BaggingClassifier(base_estimator=None, n_estimators=10, max_samples=1.0, max_features=1.0, \n",
    "bootstrap=True, bootstrap_features=False, \n",
    "oob_score=False, warm_start=False, n_jobs=1, random_state=None, verbose=0)\n",
    "\"\"\"\n",
    "#Импортируем беггинг из простарства имён ансамбль\n",
    "from sklearn.ensemble import BaggingClassifier\n",
    "\n",
    "\n",
    "baggingClf = BaggingClassifier(base_estimator=clf, n_estimators=100)\n",
    "validationResult2 = cross_val_score(baggingClf, X, Y, cv=10)"
   ]
  },
  {
   "cell_type": "code",
   "execution_count": 79,
   "metadata": {},
   "outputs": [
    {
     "name": "stdout",
     "output_type": "stream",
     "text": [
      "The mean reasult for the bagging classifier is  0.92329323338\n"
     ]
    }
   ],
   "source": [
    "print \"The mean reasult for the bagging classifier is \", validationResult2.mean()"
   ]
  },
  {
   "cell_type": "code",
   "execution_count": 125,
   "metadata": {},
   "outputs": [],
   "source": [
    "\"\"\"\n",
    "3.\n",
    "\n",
    "Теперь изучите параметры BaggingClassifier и выберите их такими, чтобы каждый базовый алгоритм обучался не на всех d признаках, \n",
    "а на d√ случайных признаков.\n",
    "Качество работы получившегося классификатора - ответ в пункте 3. Корень из числа признаков \n",
    "- часто используемая эвристика в задачах классификации, в задачах регрессии же часто берут число признаков, деленное на три. \n",
    "Но в общем случае ничто не мешает вам выбирать любое другое число \n",
    "случайных признаков.\n",
    "\"\"\"\n",
    "#Импортируем библиотеку math\n",
    "import math\n",
    "\n",
    "featuresCount = math.sqrt(X.shape[1])\n",
    "baggingClf = BaggingClassifier(base_estimator=clf, n_estimators=100, bootstrap_features=True, max_features=int(featuresCount))\n",
    "validationResult3 = cross_val_score(baggingClf, X, Y, cv=10)"
   ]
  },
  {
   "cell_type": "code",
   "execution_count": 126,
   "metadata": {},
   "outputs": [
    {
     "name": "stdout",
     "output_type": "stream",
     "text": [
      "The mean reasult for the bagging classifier with  8.0  features is  0.927587444797\n"
     ]
    }
   ],
   "source": [
    "print \"The mean reasult for the bagging classifier with \", featuresCount, \" features is \", validationResult3.mean()"
   ]
  },
  {
   "cell_type": "code",
   "execution_count": 107,
   "metadata": {},
   "outputs": [],
   "source": [
    "\"\"\"\n",
    "4.\n",
    "\n",
    "Наконец, давайте попробуем выбирать случайные признаки не один раз на все дерево, а при построении каждой вершины дерева. \n",
    "Сделать это несложно: нужно убрать выбор случайного подмножества признаков в BaggingClassifier и добавить \n",
    "его в DecisionTreeClassifier. Какой параметр за это отвечает, можно понять из документации sklearn, либо просто попробовать \n",
    "угадать (скорее всего, у вас сразу получится). Попробуйте выбирать опять же d√ признаков. Качество полученного классификатора\n",
    "на контрольной выборке и будет ответом в пункте 4.\n",
    "\"\"\"\n",
    "clf2 = tree.DecisionTreeClassifier(random_state=1, max_features=featuresCount)\n",
    "baggingClf2 = BaggingClassifier(base_estimator=clf2, n_estimators=100)\n",
    "validationResult4 = cross_val_score(baggingClf2, X, Y, cv=10)"
   ]
  },
  {
   "cell_type": "code",
   "execution_count": 108,
   "metadata": {},
   "outputs": [
    {
     "name": "stdout",
     "output_type": "stream",
     "text": [
      "The mean reasult for the bagging classifier with  0.125  features is  0.952215839115\n"
     ]
    }
   ],
   "source": [
    "print \"The mean reasult for the bagging classifier with \", featuresCount, \" features is \", validationResult4.mean()"
   ]
  },
  {
   "cell_type": "code",
   "execution_count": 84,
   "metadata": {},
   "outputs": [],
   "source": [
    "\"\"\"\n",
    "5.\n",
    "\n",
    "Полученный в пункте 4 классификатор - бэггинг на рандомизированных деревьях (в которых при построении каждой вершины выбирается\n",
    "случайное подмножество признаков и разбиение ищется только по ним). Это в точности соответствует алгоритму Random Forest,\n",
    "поэтому почему бы не сравнить качество работы классификатора с RandomForestClassifier из sklearn.ensemble. \n",
    "Сделайте это, а затем изучите, как качество классификации на данном датасете зависит от количества деревьев, \n",
    "количества признаков, выбираемых при построении каждой вершины дерева, а также ограничений на глубину дерева. \n",
    "Для наглядности лучше построить графики зависимости качества от значений параметров, \n",
    "но для сдачи задания это делать не обязательно.\n",
    "\"\"\"\n",
    "#Импортируем случайный лес из простарства имён ансамбль\n",
    "from sklearn.ensemble import RandomForestClassifier\n",
    "\n",
    "rfClassifier = RandomForestClassifier(n_estimators = 100, random_state = 1)\n",
    "\n"
   ]
  },
  {
   "cell_type": "code",
   "execution_count": 87,
   "metadata": {},
   "outputs": [
    {
     "name": "stdout",
     "output_type": "stream",
     "text": [
      "\n"
     ]
    }
   ],
   "source": [
    "validationResult5 = cross_val_score(rfClassifier, X, Y, cv=10)"
   ]
  },
  {
   "cell_type": "code",
   "execution_count": 88,
   "metadata": {},
   "outputs": [
    {
     "name": "stdout",
     "output_type": "stream",
     "text": [
      "The mean reasult for the random forest classifier with is  0.957213001227\n"
     ]
    }
   ],
   "source": [
    "print \"The mean reasult for the random forest classifier with is \", validationResult5.mean()"
   ]
  },
  {
   "cell_type": "code",
   "execution_count": null,
   "metadata": {
    "collapsed": true
   },
   "outputs": [],
   "source": []
  },
  {
   "cell_type": "code",
   "execution_count": 92,
   "metadata": {},
   "outputs": [],
   "source": [
    "scores = []\n",
    "counts = []\n",
    "for count in np.linspace(1, 100, 10):\n",
    "    tempClassifier = RandomForestClassifier(n_estimators = int(count), random_state = 1)\n",
    "    tempValidationResult = cross_val_score(tempClassifier, X, Y, cv=10)\n",
    "    counts.append(count)\n",
    "    scores.append(tempValidationResult.mean())\n",
    "#counts, scores, test_scores ;"
   ]
  },
  {
   "cell_type": "code",
   "execution_count": 94,
   "metadata": {},
   "outputs": [
    {
     "name": "stdout",
     "output_type": "stream",
     "text": [
      "Populating the interactive namespace from numpy and matplotlib\n"
     ]
    },
    {
     "data": {
      "text/plain": [
       "<matplotlib.legend.Legend at 0xab3f908>"
      ]
     },
     "execution_count": 94,
     "metadata": {},
     "output_type": "execute_result"
    },
    {
     "data": {
      "image/png": "[encoded data removed]",
      "text/plain": [
       "<matplotlib.figure.Figure at 0xa65ffd0>"
      ]
     },
     "metadata": {},
     "output_type": "display_data"
    }
   ],
   "source": [
    "%pylab inline\n",
    "\n",
    "pylab.grid(True)\n",
    "pylab.plot(counts, scores, 'g-', marker='o', label='random forest')\n",
    "pylab.ylim((0.0, 1.05))\n",
    "pylab.legend(loc='lower right')"
   ]
  },
  {
   "cell_type": "code",
   "execution_count": 95,
   "metadata": {
    "collapsed": true
   },
   "outputs": [],
   "source": [
    "\"\"\"\n",
    "1) Случайный лес сильно переобучается с ростом количества деревьев\n",
    "\n",
    "2) При очень маленьком числе деревьев (5, 10, 15), случайный лес работает хуже, чем при большем числе деревьев\n",
    "\n",
    "3) С ростом количества деревьев в случайном лесе, в какой-то момент деревьев становится достаточно \n",
    "для высокого качества классификации, а затем качество существенно не меняется.\n",
    "\n",
    "4) При большом количестве признаков (для данного датасета - 40, 50) качество классификации становится хуже, \n",
    "чем при малом количестве признаков (5, 10). Это связано с тем, что чем меньше признаков выбирается в каждом узле, \n",
    "тем более различными получаются деревья (ведь деревья сильно неустойчивы к изменениям в обучающей выборке), \n",
    "и тем лучше работает их композиция.\n",
    "\n",
    "5) При большом количестве признаков (40, 50, 60) качество классификации лучше, чем при малом количестве признаков (5, 10). \n",
    "Это связано с тем, что чем больше признаков - тем больше информации об объектах, а значит алгоритм может \n",
    "делать прогнозы более точно.\n",
    "\n",
    "6) При небольшой максимальной глубине деревьев (5-6) качество работы случайного леса намного лучше, \n",
    "чем без ограничения глубины, т.к. деревья получаются не переобученными. С ростом глубины деревьев качество ухудшается.\n",
    "\n",
    "7) При небольшой максимальной глубине деревьев (5-6) качество работы случайного леса заметно хуже, \n",
    "чем без ограничений, т.к. деревья получаются недообученными. С ростом глубины качество сначала улучшается, \n",
    "а затем не меняется существенно, т.к. из-за усреднения прогнозов и различий деревьев их переобученность \n",
    "в бэггинге не сказывается на итоговом качестве (все деревья преобучены по-разному, \n",
    "и при усреднении они компенсируют переобученность друг-друга).\n",
    "\"\"\"\n",
    "\n",
    "#Answers 2, 3, 5, 7"
   ]
  },
  {
   "cell_type": "code",
   "execution_count": 102,
   "metadata": {
    "collapsed": true
   },
   "outputs": [],
   "source": [
    "def write_answer(fileName, value):\n",
    "    with open(fileName+\".txt\", \"w\") as fout:\n",
    "        fout.write(str(value))\n"
   ]
  },
  {
   "cell_type": "code",
   "execution_count": 127,
   "metadata": {},
   "outputs": [
    {
     "name": "stdout",
     "output_type": "stream",
     "text": [
      "0.83086244395\n",
      "0.92329323338\n",
      "0.927587444797\n",
      "0.952215839115\n"
     ]
    }
   ],
   "source": [
    "print validationResult1.mean()\n",
    "print validationResult2.mean()\n",
    "print validationResult3.mean()\n",
    "print validationResult4.mean()\n",
    "\n",
    "#write_answer(\"task1\", validationResult1.mean())\n",
    "#write_answer(\"task2\", validationResult2.mean())\n",
    "write_answer(\"task3\", validationResult3.mean())\n",
    "#write_answer(\"task4\", validationResult4.mean())\n",
    "write_answer(\"task5\", \"2 3 5 7\")"
   ]
  },
  {
   "cell_type": "code",
   "execution_count": null,
   "metadata": {
    "collapsed": true
   },
   "outputs": [],
   "source": []
  },
  {
   "cell_type": "code",
   "execution_count": null,
   "metadata": {
    "collapsed": true
   },
   "outputs": [],
   "source": []
  }
 ],
 "metadata": {
  "kernelspec": {
   "display_name": "Python 2",
   "language": "python",
   "name": "python2"
  },
  "language_info": {
   "codemirror_mode": {
    "name": "ipython",
    "version": 2
   },
   "file_extension": ".py",
   "mimetype": "text/x-python",
   "name": "python",
   "nbconvert_exporter": "python",
   "pygments_lexer": "ipython2",
   "version": "2.7.13"
  }
 },
 "nbformat": 4,
 "nbformat_minor": 2
}
