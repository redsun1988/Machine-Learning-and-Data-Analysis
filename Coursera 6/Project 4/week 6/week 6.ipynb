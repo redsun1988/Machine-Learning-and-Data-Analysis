{
 "cells": [
  {
   "cell_type": "code",
   "execution_count": 68,
   "metadata": {
    "collapsed": true
   },
   "outputs": [],
   "source": [
    "#URL что бы собрать отзывы\n",
    "#Импортируем библиотеки\n",
    "import requests\n",
    "import bs4\n",
    "from multiprocessing import Pool\n",
    "import codecs\n",
    "import pandas as pd\n",
    "import matplotlib.pyplot\n",
    "%matplotlib inline"
   ]
  },
  {
   "cell_type": "markdown",
   "metadata": {},
   "source": [
    "# Собираем данные от отзывах с товары - mail.ru "
   ]
  },
  {
   "cell_type": "code",
   "execution_count": 103,
   "metadata": {
    "scrolled": false
   },
   "outputs": [],
   "source": [
    "marks = []\n",
    "comments = []\n",
    "pagecount = 100\n",
    "\n",
    "for i in range(1, pagecount):\n",
    "    url = \"https://torg.mail.ru/review/goods/?page=\"+str(i)\n",
    "    req = requests.get(url)\n",
    "    parser = bs4.BeautifulSoup(req.text, \"html.parser\")\n",
    "    #print parser.prettify()\n",
    "    for review in parser.findAll(\"div\", attrs={\"class\": \"review-item__body\"}):\n",
    "        str_value = review.find(\"span\", attrs={\"class\": \"review-item__rating-counter\"}).text\n",
    "        comment_node = review.find(\"a\", attrs={\"class\": \"more\"})\n",
    "        title = review.find(\"div\", attrs={\"class\": \"review-item__title\"})\n",
    "        if title != None and title.text == u\"Достоинства\": \n",
    "            marks.append(1)\n",
    "            comments.append(title.findNext(\"p\").text)\n",
    "            title = title.findNext(\"div\", attrs={\"class\": \"review-item__title\"})\n",
    "            if title != None and title.text == u\"Недостатки\": \n",
    "                marks.append(0)\n",
    "                comments.append(title.findNext(\"p\").text)\n",
    "        \n",
    "data = pd.DataFrame({\"comments\" : comments, \"marks\": marks})"
   ]
  },
  {
   "cell_type": "code",
   "execution_count": 106,
   "metadata": {},
   "outputs": [
    {
     "name": "stdout",
     "output_type": "stream",
     "text": [
      "Количество данных -  2367\n"
     ]
    },
    {
     "data": {
      "text/plain": [
       "array([[<matplotlib.axes._subplots.AxesSubplot object at 0x0000000010B5E518>]], dtype=object)"
      ]
     },
     "execution_count": 106,
     "metadata": {},
     "output_type": "execute_result"
    },
    {
     "data": {
      "image/png": "[encoded data removed]",
      "text/plain": [
       "<matplotlib.figure.Figure at 0xf5ffda0>"
      ]
     },
     "metadata": {},
     "output_type": "display_data"
    }
   ],
   "source": [
    "print \"Количество данных - \", len(data)\n",
    "#Гистограмма распределения классов \n",
    "data.hist(bins=2)"
   ]
  },
  {
   "cell_type": "code",
   "execution_count": 107,
   "metadata": {},
   "outputs": [
    {
     "name": "stderr",
     "output_type": "stream",
     "text": [
      "C:\\Users\\KONYAYEV.MAKSIM\\AppData\\Local\\Continuum\\anaconda2\\lib\\site-packages\\sklearn\\cross_validation.py:41: DeprecationWarning: This module was deprecated in version 0.18 in favor of the model_selection module into which all the refactored classes and functions are moved. Also note that the interface of the new CV iterators are different from that of this module. This module will be removed in 0.20.\n",
      "  \"This module will be removed in 0.20.\", DeprecationWarning)\n"
     ]
    }
   ],
   "source": [
    "#Импортируем доп библиотеки\n",
    "import nltk\n",
    "import numpy as np\n",
    "import unicodedata\n",
    "\n",
    "from sklearn.cross_validation import cross_val_score\n",
    "from sklearn.pipeline import Pipeline\n",
    "\n",
    "from sklearn.feature_extraction.text import TfidfTransformer, CountVectorizer, TfidfVectorizer\n",
    "from sklearn.linear_model import LogisticRegression, SGDClassifier\n",
    "from sklearn.svm import LinearSVC\n",
    "\n",
    "#Функция создания каскада - пайплайна из ветроризатора, трансформатора и класификатора\n",
    "def text_classifier(vectorizer, transformer ,classifier):\n",
    "    if (transformer is None) :\n",
    "        return Pipeline(\n",
    "                [(\"vectorizer\", vectorizer),\n",
    "                 (\"classifier\", classifier)]\n",
    "            )\n",
    "    else: \n",
    "        return Pipeline(\n",
    "            [(\"vectorizer\", vectorizer),\n",
    "             (\"transformer\", transformer),\n",
    "             (\"classifier\", classifier)]\n",
    "        )"
   ]
  },
  {
   "cell_type": "code",
   "execution_count": 108,
   "metadata": {
    "collapsed": true
   },
   "outputs": [],
   "source": [
    "#Подбор лучших параметров\n",
    "from sklearn.model_selection import GridSearchCV\n",
    "\n",
    "ngram_range = [(1,2),(1,3),(1,4),(2,3),(2,4),(3,5),(4,9),(5,9)]\n",
    "param_grid = {\n",
    "    \"vectorizer\": [TfidfVectorizer(), CountVectorizer()],\n",
    "    \"vectorizer__analyzer\": [\"word\", \"char\", \"char_wb\"],\n",
    "    \"vectorizer__ngram_range\": ngram_range,\n",
    "    #\"vectorizer__stop_words\": [None, \"english\"],\n",
    "    \"classifier\": [LogisticRegression(), LinearSVC(), SGDClassifier()],\n",
    "    #\"vectorizer__max_df\": np.arange(0.9,1.0, 0.05),\n",
    "    #\"vectorizer__min_df\": np.arange(0.0,0.10, 0.05),\n",
    "}"
   ]
  },
  {
   "cell_type": "code",
   "execution_count": 110,
   "metadata": {
    "collapsed": true
   },
   "outputs": [],
   "source": [
    "#Загрузка данных\n",
    "X = data.comments.values \n",
    "Y = data.marks.values"
   ]
  },
  {
   "cell_type": "code",
   "execution_count": 111,
   "metadata": {},
   "outputs": [
    {
     "data": {
      "text/plain": [
       "GridSearchCV(cv=None, error_score='raise',\n",
       "       estimator=Pipeline(memory=None,\n",
       "     steps=[('vectorizer', CountVectorizer(analyzer=u'word', binary=False, decode_error=u'strict',\n",
       "        dtype=<type 'numpy.int64'>, encoding=u'utf-8', input=u'content',\n",
       "        lowercase=True, max_df=1.0, max_features=None, min_df=1,\n",
       "        ngram_range=(1, 1), preprocessor=None, stop_words=None,\n",
       "    ...ax_iter=1000,\n",
       "     multi_class='ovr', penalty='l2', random_state=None, tol=0.0001,\n",
       "     verbose=0))]),\n",
       "       fit_params=None, iid=True, n_jobs=-1,\n",
       "       param_grid={'vectorizer__ngram_range': [(1, 2), (1, 3), (1, 4), (2, 3), (2, 4), (3, 5), (4, 9), (5, 9)], 'classifier': [LogisticRegression(C=1.0, class_weight=None, dual=False, fit_intercept=True,\n",
       "          intercept_scaling=1, max_iter=100, multi_class='ovr', n_jobs=1,\n",
       "          penalty='l2', rando...  strip_accents=None, token_pattern=u'(?u)\\\\b\\\\w\\\\w+\\\\b',\n",
       "        tokenizer=None, vocabulary=None)]},\n",
       "       pre_dispatch='2*n_jobs', refit=True, return_train_score='warn',\n",
       "       scoring=None, verbose=0)"
      ]
     },
     "execution_count": 111,
     "metadata": {},
     "output_type": "execute_result"
    }
   ],
   "source": [
    "pipLine = text_classifier(CountVectorizer(), None ,LinearSVC())\n",
    "gridSearchCV = GridSearchCV(pipLine, param_grid=param_grid, n_jobs = -1)\n",
    "gridSearchCV.fit(X, Y)"
   ]
  },
  {
   "cell_type": "code",
   "execution_count": 112,
   "metadata": {},
   "outputs": [
    {
     "data": {
      "text/plain": [
       "{'classifier': LinearSVC(C=1.0, class_weight=None, dual=True, fit_intercept=True,\n",
       "      intercept_scaling=1, loss='squared_hinge', max_iter=1000,\n",
       "      multi_class='ovr', penalty='l2', random_state=None, tol=0.0001,\n",
       "      verbose=0),\n",
       " 'vectorizer': TfidfVectorizer(analyzer='char', binary=False, decode_error=u'strict',\n",
       "         dtype=<type 'numpy.int64'>, encoding=u'utf-8', input=u'content',\n",
       "         lowercase=True, max_df=1.0, max_features=None, min_df=1,\n",
       "         ngram_range=(3, 5), norm=u'l2', preprocessor=None, smooth_idf=True,\n",
       "         stop_words=None, strip_accents=None, sublinear_tf=False,\n",
       "         token_pattern=u'(?u)\\\\b\\\\w\\\\w+\\\\b', tokenizer=None, use_idf=True,\n",
       "         vocabulary=None),\n",
       " 'vectorizer__analyzer': 'char',\n",
       " 'vectorizer__ngram_range': (3, 5)}"
      ]
     },
     "execution_count": 112,
     "metadata": {},
     "output_type": "execute_result"
    }
   ],
   "source": [
    "gridSearchCV.best_params_"
   ]
  },
  {
   "cell_type": "code",
   "execution_count": 113,
   "metadata": {},
   "outputs": [
    {
     "data": {
      "text/plain": [
       "0.88001689902830582"
      ]
     },
     "execution_count": 113,
     "metadata": {},
     "output_type": "execute_result"
    }
   ],
   "source": [
    "gridSearchCV.best_score_"
   ]
  },
  {
   "cell_type": "code",
   "execution_count": 114,
   "metadata": {},
   "outputs": [
    {
     "data": {
      "text/plain": [
       "Pipeline(memory=None,\n",
       "     steps=[('vectorizer', TfidfVectorizer(analyzer='char', binary=False, decode_error=u'strict',\n",
       "        dtype=<type 'numpy.int64'>, encoding=u'utf-8', input=u'content',\n",
       "        lowercase=True, max_df=1.0, max_features=None, min_df=1,\n",
       "        ngram_range=(3, 5), norm=u'l2', preprocessor=None, smooth_idf...ax_iter=1000,\n",
       "     multi_class='ovr', penalty='l2', random_state=None, tol=0.0001,\n",
       "     verbose=0))])"
      ]
     },
     "execution_count": 114,
     "metadata": {},
     "output_type": "execute_result"
    }
   ],
   "source": [
    "#Использование лучших настроек\n",
    "pl = text_classifier(TfidfVectorizer(ngram_range=(3, 5), analyzer='char'),None,LinearSVC())\n",
    "\n",
    "pl.fit(X, Y)\n",
    "#predict = pl.predict(test_data.text.values)"
   ]
  },
  {
   "cell_type": "code",
   "execution_count": 125,
   "metadata": {},
   "outputs": [
    {
     "name": "stdout",
     "output_type": "stream",
     "text": [
      "[0 0 0 0 1 1 1 1 0 1 0 0 1 1 1 1 1 0 1 1 0 0 0 1 1 1 1 0 0 1 0 1 0 0 0 1 1\n",
      " 0 1 0 1 1 1 0 0 1 1 0 0 0 0 0 0 0 0 1 1 1 1 1 0 1 0 0 0 0 0 0 0 0 0 0 0 0\n",
      " 0 1 0 0 0 0 0 0 0 0 1 0 1 1 0 0 1 0 0 1 0 0 1 0 1 0]\n"
     ]
    }
   ],
   "source": [
    "text_reader = open(\"test_mod.txt\", \"r\")\n",
    "testInput = list(text_reader)\n",
    "testOutput = pl.predict(testInput)\n"
   ]
  },
  {
   "cell_type": "code",
   "execution_count": 121,
   "metadata": {
    "collapsed": true
   },
   "outputs": [],
   "source": [
    "import pickle\n",
    "#Сохранение данных в файл с помощью pickle\n",
    "pickle.dump(pl, open( \"defaultClassifier.pkl\", \"wb\" ))"
   ]
  },
  {
   "cell_type": "code",
   "execution_count": 129,
   "metadata": {
    "collapsed": true
   },
   "outputs": [],
   "source": []
  },
  {
   "cell_type": "code",
   "execution_count": 142,
   "metadata": {},
   "outputs": [],
   "source": [
    "submitFile = open(\"week6.txt\", \"w\")\n",
    "submitFile.write(\"Id,y\\n\")\n",
    "currentId = 0;\n",
    "for value in testOutput:\n",
    "    strValue = \"neg\"\n",
    "    if value == 1:\n",
    "        strValue = \"pos\"\n",
    "    submitFile.write(str(currentId)+\",\"+strValue+\"\\n\")\n",
    "    currentId = currentId+1\n",
    "submitFile.close()"
   ]
  },
  {
   "cell_type": "code",
   "execution_count": null,
   "metadata": {
    "collapsed": true
   },
   "outputs": [],
   "source": []
  }
 ],
 "metadata": {
  "kernelspec": {
   "display_name": "Python 2",
   "language": "python",
   "name": "python2"
  },
  "language_info": {
   "codemirror_mode": {
    "name": "ipython",
    "version": 2
   },
   "file_extension": ".py",
   "mimetype": "text/x-python",
   "name": "python",
   "nbconvert_exporter": "python",
   "pygments_lexer": "ipython2",
   "version": "2.7.14"
  }
 },
 "nbformat": 4,
 "nbformat_minor": 2
}
