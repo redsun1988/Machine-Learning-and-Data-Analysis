{
 "cells": [
  {
   "cell_type": "code",
   "execution_count": 147,
   "metadata": {
    "collapsed": true
   },
   "outputs": [],
   "source": [
    "#Импортируем библиотеки \n",
    "import numpy as np\n",
    "from scipy import stats"
   ]
  },
  {
   "cell_type": "code",
   "execution_count": 148,
   "metadata": {},
   "outputs": [
    {
     "name": "stdout",
     "output_type": "stream",
     "text": [
      "Populating the interactive namespace from numpy and matplotlib\n"
     ]
    },
    {
     "name": "stderr",
     "output_type": "stream",
     "text": [
      "C:\\Users\\KONYAYEV.MAKSIM\\AppData\\Local\\Continuum\\anaconda2\\lib\\site-packages\\IPython\\core\\magics\\pylab.py:161: UserWarning: pylab import has clobbered these variables: ['f', 'random']\n",
      "`%matplotlib` prevents importing * from pylab and numpy\n",
      "  \"\\n`%matplotlib` prevents importing * from pylab and numpy\"\n"
     ]
    }
   ],
   "source": [
    "%pylab inline"
   ]
  },
  {
   "cell_type": "code",
   "execution_count": 149,
   "metadata": {
    "collapsed": true
   },
   "outputs": [],
   "source": [
    "#75% работников ресторанов утверждают, что испытывают на работе \n",
    "#Принаем вероятност спытывания стресса за биномиальную случ. величину. Проводим 100 испытаний с вероятностью 75%\n",
    "n = 100\n",
    "F_H0 = stats.binom(n, 0.75)"
   ]
  },
  {
   "cell_type": "code",
   "execution_count": 150,
   "metadata": {},
   "outputs": [
    {
     "data": {
      "image/png": "[encoded data removed]",
      "text/plain": [
       "<matplotlib.figure.Figure at 0xc2bb710>"
      ]
     },
     "metadata": {},
     "output_type": "display_data"
    }
   ],
   "source": [
    "#Строим график\n",
    "x = np.linspace(0,101,102)\n",
    "\n",
    "pylab.bar(x, F_H0.pmf(x), align = 'center')\n",
    "xlim(60, 90) \n",
    "pylab.show()"
   ]
  },
  {
   "cell_type": "code",
   "execution_count": 157,
   "metadata": {},
   "outputs": [
    {
     "data": {
      "image/png": "[encoded data removed]",
      "text/plain": [
       "<matplotlib.figure.Figure at 0xd1a6f60>"
      ]
     },
     "metadata": {},
     "output_type": "display_data"
    }
   ],
   "source": [
    "#Крупная ресторанная сеть опрашивает 100 своих работников, чтобы выяснить, отличается ли уровень стресса\n",
    "#работников в их ресторанах от среднего. 67 из 100 работников отметили высокий уровень стресса.\n",
    "x = np.linspace(0,101,102)\n",
    "\n",
    "pylab.bar(x, F_H0.pmf(x), align = 'center')\n",
    "pylab.bar(np.linspace(0,67,68), F_H0.pmf(np.linspace(0,67,68)), align = 'center', color='red')\n",
    "pylab.bar(np.linspace(83,100,18), F_H0.pmf(np.linspace(83,100,18)), align = 'center', color='red')\n",
    "xlim(60, 90) \n",
    "pylab.show()"
   ]
  },
  {
   "cell_type": "code",
   "execution_count": 152,
   "metadata": {},
   "outputs": [
    {
     "name": "stdout",
     "output_type": "stream",
     "text": [
      "0.0822225889139\n"
     ]
    }
   ],
   "source": [
    "#Вычисляем вероятность статистики принять такое значение\n",
    "#pvalue = stats.binom_test(67, 100, 0.75, alternative = 'less')\n",
    "#С форума\n",
    "pvalue = stats.binom_test(67, 100, .75, alternative = 'two-sided')\n",
    "print pvalue"
   ]
  },
  {
   "cell_type": "code",
   "execution_count": 153,
   "metadata": {},
   "outputs": [
    {
     "name": "stdout",
     "output_type": "stream",
     "text": [
      "23.36\n"
     ]
    }
   ],
   "source": [
    "#Сосны\n",
    "coordsX = []\n",
    "coordsY = []\n",
    "with open(\"pines.txt\") as f:\n",
    "    lines = f.read().splitlines()\n",
    "    \n",
    "for inx, line in enumerate(lines):\n",
    "    if inx != 0:\n",
    "        coordsX.append(float(line.split()[0])) \n",
    "        coordsY.append(float(line.split()[1]))\n",
    "\n",
    "ret = stats.binned_statistic_2d(coordsX, coordsY, None, 'count', bins=[5,5])\n",
    "print ret.statistic.sum()/25"
   ]
  },
  {
   "cell_type": "code",
   "execution_count": 154,
   "metadata": {
    "collapsed": true
   },
   "outputs": [],
   "source": [
    "import pylab as pl\n",
    "observedValues = ret.statistic.ravel().astype(int)\n",
    "observedCount = np.bincount(testValues)\n",
    "#max1 = np.max(observedValues)"
   ]
  },
  {
   "cell_type": "code",
   "execution_count": 155,
   "metadata": {},
   "outputs": [
    {
     "data": {
      "text/plain": [
       "<Container object of 51 artists>"
      ]
     },
     "execution_count": 155,
     "metadata": {},
     "output_type": "execute_result"
    },
    {
     "data": {
      "image/png": "[encoded data removed]",
      "text/plain": [
       "<matplotlib.figure.Figure at 0xb6ee630>"
      ]
     },
     "metadata": {},
     "output_type": "display_data"
    }
   ],
   "source": [
    "pl.bar(range(observedCount.shape[0]), observedCount)"
   ]
  },
  {
   "cell_type": "code",
   "execution_count": 140,
   "metadata": {
    "collapsed": true
   },
   "outputs": [],
   "source": [
    "import random"
   ]
  },
  {
   "cell_type": "code",
   "execution_count": 141,
   "metadata": {
    "collapsed": true
   },
   "outputs": [],
   "source": [
    "#expectedYCoord = np.array([200 * random.random() for i in range(len(coordsY))])\n",
    "#expectedXCoord = np.array([200 * random.random() for i in range(len(coordsY))])"
   ]
  },
  {
   "cell_type": "code",
   "execution_count": 164,
   "metadata": {},
   "outputs": [
    {
     "name": "stdout",
     "output_type": "stream",
     "text": [
      "[ 23.36  23.36  23.36  23.36  23.36  23.36  23.36  23.36  23.36  23.36\n",
      "  23.36  23.36  23.36  23.36  23.36  23.36  23.36  23.36  23.36  23.36\n",
      "  23.36  23.36  23.36  23.36  23.36] [18 26 29 25 20 14 12 22 34 25 12 24 15 50 37  8 19 31 50  7  7  8 37 27 27]\n"
     ]
    }
   ],
   "source": [
    "expectedValues = np.array([23.36] * 25) #np.array([23 for i in range(25)])\n",
    "\n",
    "#expectedValues = stats.binned_statistic_2d(expectedXCoord, expectedYCoord, None, 'count', bins=[5,5]).statistic.ravel().astype(int)\n",
    "#expectedCount = np.bincount(expectedValues)\n",
    "#maxCountEx = np.max(expectedValues)\n",
    "\n",
    "#exCount2 = np.append(expectedCount, np.zeros(maxCountTest - expectedCount.shape+1)).astype(int)\n",
    "\n",
    "print expectedValues, observedValues\n",
    "#pl.bar(range(exCount2.shape[0]), exCount2)"
   ]
  },
  {
   "cell_type": "code",
   "execution_count": 165,
   "metadata": {},
   "outputs": [
    {
     "data": {
      "text/plain": [
       "Power_divergenceResult(statistic=150.58904109589042, pvalue=2.5746697749672791e-20)"
      ]
     },
     "execution_count": 165,
     "metadata": {},
     "output_type": "execute_result"
    }
   ],
   "source": [
    "stats.chisquare(observedValues, expectedValues, ddof = 0)"
   ]
  },
  {
   "cell_type": "code",
   "execution_count": 161,
   "metadata": {},
   "outputs": [
    {
     "name": "stdout",
     "output_type": "stream",
     "text": [
      "584 25\n"
     ]
    }
   ],
   "source": []
  },
  {
   "cell_type": "code",
   "execution_count": null,
   "metadata": {
    "collapsed": true
   },
   "outputs": [],
   "source": []
  }
 ],
 "metadata": {
  "kernelspec": {
   "display_name": "Python 2",
   "language": "python",
   "name": "python2"
  },
  "language_info": {
   "codemirror_mode": {
    "name": "ipython",
    "version": 2
   },
   "file_extension": ".py",
   "mimetype": "text/x-python",
   "name": "python",
   "nbconvert_exporter": "python",
   "pygments_lexer": "ipython2",
   "version": "2.7.14"
  }
 },
 "nbformat": 4,
 "nbformat_minor": 2
}
