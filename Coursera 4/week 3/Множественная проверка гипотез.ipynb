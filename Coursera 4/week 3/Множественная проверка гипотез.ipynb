{
 "cells": [
  {
   "cell_type": "code",
   "execution_count": 3,
   "metadata": {
    "collapsed": true
   },
   "outputs": [],
   "source": [
    "import pandas as pd\n",
    "import numpy as np\n",
    "from scipy.stats import pearsonr\n",
    "from statsmodels.sandbox.stats.multicomp import multipletests "
   ]
  },
  {
   "cell_type": "markdown",
   "metadata": {},
   "source": [
    "Task 2\n",
    "\n",
    "Классификатор C4.5 и три его модификации: с оптимизацией гиперпараметра m, гиперпараметра cf и с одновременной оптимизацией обоих гиперпараметров. Эти четыре классификатора сравнивались на 14 наборах данных. На каждом датасете был посчитан AUC каждого классификатора. Данные записаны в файле:\n",
    "AUCs.txt\n",
    "Используя критерий знаковых рангов, проведите попарное сравнение каждого классификатора с каждым. Выберите два классификатора, различие между которыми наиболее статистически значимо."
   ]
  },
  {
   "cell_type": "code",
   "execution_count": 25,
   "metadata": {},
   "outputs": [
    {
     "name": "stdout",
     "output_type": "stream",
     "text": [
      "C4.5-C4.5+m WilcoxonResult(statistic=6.5, pvalue=0.01075713311978963)\n",
      "C4.5-C4.5+cf WilcoxonResult(statistic=43.0, pvalue=0.86126233009534803)\n",
      "C4.5-C4.5+m+cf WilcoxonResult(statistic=11.0, pvalue=0.015906444101703374)\n",
      "C4.5+m-C4.5+cf WilcoxonResult(statistic=17.0, pvalue=0.046332729793395394)\n",
      "C4.5+m-C4.5+m+cf WilcoxonResult(statistic=22.0, pvalue=0.32782567584464062)\n",
      "C4.5+cf-C4.5+m+cf WilcoxonResult(statistic=10.0, pvalue=0.022909099354356588)\n"
     ]
    }
   ],
   "source": [
    "from scipy import stats \n",
    "dataTask2 = pd.read_csv(\"AUCs.txt\", sep=\"\\t\")\n",
    "#C4.5  C4.5+m  C4.5+cf  C4.5+m+cf\n",
    "print \"C4.5-C4.5+m\", stats.wilcoxon(dataTask2[\"C4.5\"].values, dataTask2[\"C4.5+m\"].values)\n",
    "print \"C4.5-C4.5+cf\", stats.wilcoxon(dataTask2[\"C4.5\"].values, dataTask2[\"C4.5+cf\"].values)\n",
    "print \"C4.5-C4.5+m+cf\", stats.wilcoxon(dataTask2[\"C4.5\"].values, dataTask2[\"C4.5+m+cf\"].values)\n",
    "\n",
    "print \"C4.5+m-C4.5+cf\", stats.wilcoxon(dataTask2[\"C4.5+m\"].values, dataTask2[\"C4.5+cf\"].values)\n",
    "print \"C4.5+m-C4.5+m+cf\", stats.wilcoxon(dataTask2[\"C4.5+m\"].values, dataTask2[\"C4.5+m+cf\"].values)\n",
    "\n",
    "print \"C4.5+cf-C4.5+m+cf\", stats.wilcoxon(dataTask2[\"C4.5+cf\"].values, dataTask2[\"C4.5+m+cf\"].values)"
   ]
  },
  {
   "cell_type": "markdown",
   "metadata": {},
   "source": [
    "Task 3\n",
    "\n",
    "Сколько статистически значимых на уровне 0.05 различий мы обнаружили?"
   ]
  },
  {
   "cell_type": "code",
   "execution_count": 12,
   "metadata": {
    "collapsed": true
   },
   "outputs": [],
   "source": [
    "#4"
   ]
  },
  {
   "cell_type": "markdown",
   "metadata": {},
   "source": [
    "Task 4\n",
    "\n",
    "Судя по данным из предыдущего опроса, настройка какого из параметров классификатора даёт более значимое увеличение качества?"
   ]
  },
  {
   "cell_type": "code",
   "execution_count": 13,
   "metadata": {
    "collapsed": true
   },
   "outputs": [],
   "source": [
    "#m"
   ]
  },
  {
   "cell_type": "markdown",
   "metadata": {},
   "source": [
    "Task 5\n",
    "\n",
    "Сравнивая 4 классификатора между собой, мы проверили 6 гипотез. Давайте сделаем поправку на множественную проверку. Начнём с метода Холма. Сколько гипотез можно отвергнуть на уровне значимости 0.05 после поправки этим методом?"
   ]
  },
  {
   "cell_type": "code",
   "execution_count": 22,
   "metadata": {},
   "outputs": [
    {
     "name": "stdout",
     "output_type": "stream",
     "text": [
      "p_original [ 0.01075713  0.86126233  0.01590644  0.04633273  0.32782568  0.0229091 ]\n",
      "p_corrected [ 0.0645428   0.86126233  0.07953222  0.13899819  0.65565135  0.0916364 ]\n",
      "6\n"
     ]
    }
   ],
   "source": [
    "from statsmodels.sandbox.stats.multicomp import multipletests \n",
    "\n",
    "p_original = np.array([stats.wilcoxon(dataTask2[\"C4.5\"].values, dataTask2[\"C4.5+m\"].values).pvalue,\n",
    "         stats.wilcoxon(dataTask2[\"C4.5\"].values, dataTask2[\"C4.5+cf\"].values).pvalue,\n",
    "         stats.wilcoxon(dataTask2[\"C4.5\"].values, dataTask2[\"C4.5+m+cf\"].values).pvalue,\n",
    "         stats.wilcoxon(dataTask2[\"C4.5+m\"].values, dataTask2[\"C4.5+cf\"].values).pvalue,\n",
    "         stats.wilcoxon(dataTask2[\"C4.5+m\"].values, dataTask2[\"C4.5+m+cf\"].values).pvalue,\n",
    "         stats.wilcoxon(dataTask2[\"C4.5+cf\"].values, dataTask2[\"C4.5+m+cf\"].values).pvalue\n",
    "         ]);\n",
    "\n",
    "reject, p_corrected, a1, a2 = multipletests(p_original, \n",
    "                                            alpha = 0.05, \n",
    "                                            method = 'holm') \n",
    "\n",
    "print \"p_original\", p_original\n",
    "print \"p_corrected\", p_corrected\n",
    "print len(p_corrected[p_corrected>0.05])"
   ]
  },
  {
   "cell_type": "markdown",
   "metadata": {},
   "source": [
    "Task 6\n",
    "\n",
    "Сколько гипотез можно отвергнуть на уровне значимости 0.05 после поправки методом Бенджамини-Хохберга?"
   ]
  },
  {
   "cell_type": "code",
   "execution_count": 24,
   "metadata": {},
   "outputs": [
    {
     "name": "stdout",
     "output_type": "stream",
     "text": [
      "p_corrected [ 0.0458182   0.86126233  0.0458182   0.06949909  0.39339081  0.0458182 ]\n",
      "3\n"
     ]
    }
   ],
   "source": [
    "\n",
    "reject, p_corrected, a1, a2 = multipletests(p_original, \n",
    "                                            alpha = 0.05, \n",
    "                                            method = 'fdr_bh')\n",
    "print \"p_corrected\", p_corrected\n",
    "print len(p_corrected[p_corrected>0.05])"
   ]
  },
  {
   "cell_type": "code",
   "execution_count": null,
   "metadata": {
    "collapsed": true
   },
   "outputs": [],
   "source": []
  },
  {
   "cell_type": "code",
   "execution_count": null,
   "metadata": {
    "collapsed": true
   },
   "outputs": [],
   "source": []
  }
 ],
 "metadata": {
  "kernelspec": {
   "display_name": "Python 2",
   "language": "python",
   "name": "python2"
  },
  "language_info": {
   "codemirror_mode": {
    "name": "ipython",
    "version": 2
   },
   "file_extension": ".py",
   "mimetype": "text/x-python",
   "name": "python",
   "nbconvert_exporter": "python",
   "pygments_lexer": "ipython2",
   "version": "2.7.14"
  }
 },
 "nbformat": 4,
 "nbformat_minor": 2
}
