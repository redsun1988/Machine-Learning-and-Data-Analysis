{
 "cells": [
  {
   "cell_type": "code",
   "execution_count": 4,
   "metadata": {},
   "outputs": [],
   "source": [
    "import numpy as np\n",
    "import math as mt\n",
    "from scipy import optimize\n",
    "def f(x):\n",
    "    return mt.sin(x / 5.) * mt.exp(x / 10.) + 5 * mt.exp(-x / 2.)\n",
    "\n",
    "y1 = optimize.minimize(f, [2.], method='BFGS').fun\n",
    "y2 = optimize.minimize(f, [30.], method='BFGS').fun\n",
    "\n",
    "file_obj = open('week3task1.txt', 'w')\n",
    "string = \"{:1.2f}\".format(y1)+ ' ' +\"{:1.2f}\".format(y2)\n",
    "file_obj.write(string)\n",
    "file_obj.close()"
   ]
  },
  {
   "cell_type": "code",
   "execution_count": null,
   "metadata": {
    "collapsed": true
   },
   "outputs": [],
   "source": []
  }
 ],
 "metadata": {
  "kernelspec": {
   "display_name": "Python 2",
   "language": "python",
   "name": "python2"
  },
  "language_info": {
   "codemirror_mode": {
    "name": "ipython",
    "version": 2
   },
   "file_extension": ".py",
   "mimetype": "text/x-python",
   "name": "python",
   "nbconvert_exporter": "python",
   "pygments_lexer": "ipython2",
   "version": "2.7.13"
  }
 },
 "nbformat": 4,
 "nbformat_minor": 2
}
