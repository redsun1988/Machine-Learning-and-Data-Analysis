{
 "cells": [
  {
   "cell_type": "code",
   "execution_count": 75,
   "metadata": {
    "collapsed": true
   },
   "outputs": [],
   "source": [
    "import numpy as np\n",
    "import pandas as pd\n",
    "import scipy.stats as ss\n",
    "import statsmodels.stats.proportion as smp\n",
    "import matplotlib.pyplot as plt\n",
    "%matplotlib inline"
   ]
  },
  {
   "cell_type": "markdown",
   "metadata": {},
   "source": [
    "Загрузим данные и посмотрим на них"
   ]
  },
  {
   "cell_type": "code",
   "execution_count": 76,
   "metadata": {
    "collapsed": true
   },
   "outputs": [],
   "source": [
    "df = pd.read_csv('credit_card_default_analysis.csv')"
   ]
  },
  {
   "cell_type": "code",
   "execution_count": 77,
   "metadata": {},
   "outputs": [
    {
     "data": {
      "text/html": [
       "<div>\n",
       "<style scoped>\n",
       "    .dataframe tbody tr th:only-of-type {\n",
       "        vertical-align: middle;\n",
       "    }\n",
       "\n",
       "    .dataframe tbody tr th {\n",
       "        vertical-align: top;\n",
       "    }\n",
       "\n",
       "    .dataframe thead th {\n",
       "        text-align: right;\n",
       "    }\n",
       "</style>\n",
       "<table border=\"1\" class=\"dataframe\">\n",
       "  <thead>\n",
       "    <tr style=\"text-align: right;\">\n",
       "      <th></th>\n",
       "      <th>ID</th>\n",
       "      <th>LIMIT_BAL</th>\n",
       "      <th>SEX</th>\n",
       "      <th>EDUCATION</th>\n",
       "      <th>MARRIAGE</th>\n",
       "      <th>AGE</th>\n",
       "      <th>PAY_0</th>\n",
       "      <th>PAY_2</th>\n",
       "      <th>PAY_3</th>\n",
       "      <th>PAY_4</th>\n",
       "      <th>...</th>\n",
       "      <th>BILL_AMT4</th>\n",
       "      <th>BILL_AMT5</th>\n",
       "      <th>BILL_AMT6</th>\n",
       "      <th>PAY_AMT1</th>\n",
       "      <th>PAY_AMT2</th>\n",
       "      <th>PAY_AMT3</th>\n",
       "      <th>PAY_AMT4</th>\n",
       "      <th>PAY_AMT5</th>\n",
       "      <th>PAY_AMT6</th>\n",
       "      <th>default</th>\n",
       "    </tr>\n",
       "  </thead>\n",
       "  <tbody>\n",
       "    <tr>\n",
       "      <th>0</th>\n",
       "      <td>1</td>\n",
       "      <td>20000</td>\n",
       "      <td>2</td>\n",
       "      <td>2</td>\n",
       "      <td>1</td>\n",
       "      <td>24</td>\n",
       "      <td>2</td>\n",
       "      <td>2</td>\n",
       "      <td>0</td>\n",
       "      <td>0</td>\n",
       "      <td>...</td>\n",
       "      <td>0</td>\n",
       "      <td>0</td>\n",
       "      <td>0</td>\n",
       "      <td>0</td>\n",
       "      <td>689</td>\n",
       "      <td>0</td>\n",
       "      <td>0</td>\n",
       "      <td>0</td>\n",
       "      <td>0</td>\n",
       "      <td>1</td>\n",
       "    </tr>\n",
       "    <tr>\n",
       "      <th>1</th>\n",
       "      <td>2</td>\n",
       "      <td>120000</td>\n",
       "      <td>2</td>\n",
       "      <td>2</td>\n",
       "      <td>2</td>\n",
       "      <td>26</td>\n",
       "      <td>0</td>\n",
       "      <td>2</td>\n",
       "      <td>0</td>\n",
       "      <td>0</td>\n",
       "      <td>...</td>\n",
       "      <td>3272</td>\n",
       "      <td>3455</td>\n",
       "      <td>3261</td>\n",
       "      <td>0</td>\n",
       "      <td>1000</td>\n",
       "      <td>1000</td>\n",
       "      <td>1000</td>\n",
       "      <td>0</td>\n",
       "      <td>2000</td>\n",
       "      <td>1</td>\n",
       "    </tr>\n",
       "    <tr>\n",
       "      <th>2</th>\n",
       "      <td>3</td>\n",
       "      <td>90000</td>\n",
       "      <td>2</td>\n",
       "      <td>2</td>\n",
       "      <td>2</td>\n",
       "      <td>34</td>\n",
       "      <td>0</td>\n",
       "      <td>0</td>\n",
       "      <td>0</td>\n",
       "      <td>0</td>\n",
       "      <td>...</td>\n",
       "      <td>14331</td>\n",
       "      <td>14948</td>\n",
       "      <td>15549</td>\n",
       "      <td>1518</td>\n",
       "      <td>1500</td>\n",
       "      <td>1000</td>\n",
       "      <td>1000</td>\n",
       "      <td>1000</td>\n",
       "      <td>5000</td>\n",
       "      <td>0</td>\n",
       "    </tr>\n",
       "    <tr>\n",
       "      <th>3</th>\n",
       "      <td>4</td>\n",
       "      <td>50000</td>\n",
       "      <td>2</td>\n",
       "      <td>2</td>\n",
       "      <td>1</td>\n",
       "      <td>37</td>\n",
       "      <td>0</td>\n",
       "      <td>0</td>\n",
       "      <td>0</td>\n",
       "      <td>0</td>\n",
       "      <td>...</td>\n",
       "      <td>28314</td>\n",
       "      <td>28959</td>\n",
       "      <td>29547</td>\n",
       "      <td>2000</td>\n",
       "      <td>2019</td>\n",
       "      <td>1200</td>\n",
       "      <td>1100</td>\n",
       "      <td>1069</td>\n",
       "      <td>1000</td>\n",
       "      <td>0</td>\n",
       "    </tr>\n",
       "    <tr>\n",
       "      <th>4</th>\n",
       "      <td>5</td>\n",
       "      <td>50000</td>\n",
       "      <td>1</td>\n",
       "      <td>2</td>\n",
       "      <td>1</td>\n",
       "      <td>57</td>\n",
       "      <td>0</td>\n",
       "      <td>0</td>\n",
       "      <td>0</td>\n",
       "      <td>0</td>\n",
       "      <td>...</td>\n",
       "      <td>20940</td>\n",
       "      <td>19146</td>\n",
       "      <td>19131</td>\n",
       "      <td>2000</td>\n",
       "      <td>36681</td>\n",
       "      <td>10000</td>\n",
       "      <td>9000</td>\n",
       "      <td>689</td>\n",
       "      <td>679</td>\n",
       "      <td>0</td>\n",
       "    </tr>\n",
       "  </tbody>\n",
       "</table>\n",
       "<p>5 rows × 25 columns</p>\n",
       "</div>"
      ],
      "text/plain": [
       "   ID  LIMIT_BAL  SEX  EDUCATION  MARRIAGE  AGE  PAY_0  PAY_2  PAY_3  PAY_4  \\\n",
       "0   1      20000    2          2         1   24      2      2      0      0   \n",
       "1   2     120000    2          2         2   26      0      2      0      0   \n",
       "2   3      90000    2          2         2   34      0      0      0      0   \n",
       "3   4      50000    2          2         1   37      0      0      0      0   \n",
       "4   5      50000    1          2         1   57      0      0      0      0   \n",
       "\n",
       "    ...     BILL_AMT4  BILL_AMT5  BILL_AMT6  PAY_AMT1  PAY_AMT2  PAY_AMT3  \\\n",
       "0   ...             0          0          0         0       689         0   \n",
       "1   ...          3272       3455       3261         0      1000      1000   \n",
       "2   ...         14331      14948      15549      1518      1500      1000   \n",
       "3   ...         28314      28959      29547      2000      2019      1200   \n",
       "4   ...         20940      19146      19131      2000     36681     10000   \n",
       "\n",
       "   PAY_AMT4  PAY_AMT5  PAY_AMT6  default  \n",
       "0         0         0         0        1  \n",
       "1      1000         0      2000        1  \n",
       "2      1000      1000      5000        0  \n",
       "3      1100      1069      1000        0  \n",
       "4      9000       689       679        0  \n",
       "\n",
       "[5 rows x 25 columns]"
      ]
     },
     "execution_count": 77,
     "metadata": {},
     "output_type": "execute_result"
    }
   ],
   "source": [
    "df.head()"
   ]
  },
  {
   "cell_type": "code",
   "execution_count": 78,
   "metadata": {},
   "outputs": [
    {
     "name": "stdout",
     "output_type": "stream",
     "text": [
      "<class 'pandas.core.frame.DataFrame'>\n",
      "RangeIndex: 30000 entries, 0 to 29999\n",
      "Data columns (total 25 columns):\n",
      "ID           30000 non-null int64\n",
      "LIMIT_BAL    30000 non-null int64\n",
      "SEX          30000 non-null int64\n",
      "EDUCATION    30000 non-null int64\n",
      "MARRIAGE     30000 non-null int64\n",
      "AGE          30000 non-null int64\n",
      "PAY_0        30000 non-null int64\n",
      "PAY_2        30000 non-null int64\n",
      "PAY_3        30000 non-null int64\n",
      "PAY_4        30000 non-null int64\n",
      "PAY_5        30000 non-null int64\n",
      "PAY_6        30000 non-null int64\n",
      "BILL_AMT1    30000 non-null int64\n",
      "BILL_AMT2    30000 non-null int64\n",
      "BILL_AMT3    30000 non-null int64\n",
      "BILL_AMT4    30000 non-null int64\n",
      "BILL_AMT5    30000 non-null int64\n",
      "BILL_AMT6    30000 non-null int64\n",
      "PAY_AMT1     30000 non-null int64\n",
      "PAY_AMT2     30000 non-null int64\n",
      "PAY_AMT3     30000 non-null int64\n",
      "PAY_AMT4     30000 non-null int64\n",
      "PAY_AMT5     30000 non-null int64\n",
      "PAY_AMT6     30000 non-null int64\n",
      "default      30000 non-null int64\n",
      "dtypes: int64(25)\n",
      "memory usage: 5.7 MB\n"
     ]
    }
   ],
   "source": [
    "df.info()"
   ]
  },
  {
   "cell_type": "markdown",
   "metadata": {},
   "source": [
    "Мы видим, что у нас есть 25 признаков для 30 000 заёмщиков, и пропусков в значениях признакав нет. Все наши признаки целочисленного типа."
   ]
  },
  {
   "cell_type": "markdown",
   "metadata": {},
   "source": [
    "## 1. Исследование размера кредитного лимита (LIMIT_BAL)"
   ]
  },
  {
   "cell_type": "code",
   "execution_count": 79,
   "metadata": {},
   "outputs": [
    {
     "data": {
      "image/png": "[encoded data removed]",
      "text/plain": [
       "<matplotlib.figure.Figure at 0xc032828>"
      ]
     },
     "metadata": {},
     "output_type": "display_data"
    }
   ],
   "source": [
    "df['default'].value_counts().plot(kind='bar');\n",
    "plt.title('Кол-во заёмщиков вернувших и не вернувших кредит');"
   ]
  },
  {
   "cell_type": "code",
   "execution_count": 80,
   "metadata": {},
   "outputs": [
    {
     "data": {
      "text/plain": [
       "0    23364\n",
       "1     6636\n",
       "Name: default, dtype: int64"
      ]
     },
     "execution_count": 80,
     "metadata": {},
     "output_type": "execute_result"
    }
   ],
   "source": [
    "df['default'].value_counts()"
   ]
  },
  {
   "cell_type": "markdown",
   "metadata": {},
   "source": [
    "Мы видим, что кол-во заемщиков вернувших кредит почти в 4 раза больше, чем не вернувших. То есть выборка не сбалансированная.\n",
    "\n",
    "Построим гистограммы распределения размера кредитного лимита: \n",
    " 1. среди тех, кто вернул кредит\n",
    " 2. среди тех, кто не вернул"
   ]
  },
  {
   "cell_type": "code",
   "execution_count": 81,
   "metadata": {
    "collapsed": true
   },
   "outputs": [],
   "source": [
    "limit_bal_returned = df[df['default']==0]['LIMIT_BAL'].values\n",
    "limit_bal_not_returned = df[df['default']==1]['LIMIT_BAL'].values"
   ]
  },
  {
   "cell_type": "code",
   "execution_count": 82,
   "metadata": {},
   "outputs": [
    {
     "data": {
      "image/png": "[encoded data removed]",
      "text/plain": [
       "<matplotlib.figure.Figure at 0xaf657b8>"
      ]
     },
     "metadata": {},
     "output_type": "display_data"
    }
   ],
   "source": [
    "plt.figure(figsize=(10,10))\n",
    "\n",
    "plt.subplot(211)\n",
    "plt.hist(limit_bal_returned, bins=15);\n",
    "plt.xlabel('Размер кредитного лимита')\n",
    "plt.ylabel('Кол-во заёмщиков')\n",
    "plt.title('Распределение кредитного лимита среди вернувших кредит');\n",
    "\n",
    "plt.subplot(212)\n",
    "plt.hist(limit_bal_not_returned, bins=15);\n",
    "plt.xlabel('Размер кредитного лимита')\n",
    "plt.ylabel('Кол-во заёмщиков')\n",
    "plt.title('Распределение кредитного лимита среди НЕ вернувших кредит');"
   ]
  },
  {
   "cell_type": "markdown",
   "metadata": {},
   "source": [
    "Мы видим, что распределения сильно скошены и далеки от нормального распределения. \n",
    "\n",
    "Так же на графиках видно, что значения размера кредитного лимита для не вернувших кредит меньше, чем для вернувших. \n",
    "\n",
    "Так как мы не можем сделать предположения, из какого распределения получена наша выборка, то воспользуемся Bootstrap методом для получения интервальной оценки медиан каждой подвыборки: вернувших и не вернувших кредит. Bootstrap является универсальным методом для подсчёта статистик и не имеет специфичных требований к распределению данных и самим данным."
   ]
  },
  {
   "cell_type": "code",
   "execution_count": 83,
   "metadata": {
    "collapsed": true
   },
   "outputs": [],
   "source": [
    "def create_bootstrap_samples(data, n_samples=1000):\n",
    "    indices = np.random.randint(len(data), size=(n_samples, len(data)))\n",
    "    \n",
    "    return data[indices]\n",
    "\n",
    "def get_stat_interval(stat, alpha=0.05):\n",
    "    return np.percentile(stat, [100*alpha/2, 100*(1-alpha/2)])"
   ]
  },
  {
   "cell_type": "code",
   "execution_count": 84,
   "metadata": {},
   "outputs": [
    {
     "name": "stdout",
     "output_type": "stream",
     "text": [
      "95% доверительный интервал для медианы размера кредитного лимита заёмщиков, вернувших кредит: (150000.0, 150000.0)\n"
     ]
    }
   ],
   "source": [
    "# Получим интервальную оценку медианы \n",
    "# для размера кредитного лимита вернувших кредит. \n",
    "np.random.seed(0)\n",
    "\n",
    "bootstrap_samples = create_bootstrap_samples(limit_bal_returned)\n",
    "bootstrap_medians_0 = np.median(bootstrap_samples, axis=1)\n",
    "\n",
    "med_stat_int_for_returned = get_stat_interval(bootstrap_medians_0, alpha=0.05)\n",
    "print(\"95% доверительный интервал для медианы размера кредитного лимита заёмщиков, вернувших кредит: ({}, {})\"\n",
    "       .format(*med_stat_int_for_returned))"
   ]
  },
  {
   "cell_type": "code",
   "execution_count": 85,
   "metadata": {},
   "outputs": [
    {
     "name": "stdout",
     "output_type": "stream",
     "text": [
      "95% доверительный интервал для медианы размера кредитного лимита заёмщиков, не вернувших кредит: (80000.0, 90000.0)\n"
     ]
    }
   ],
   "source": [
    "# Получим интервальную оценку медианы \n",
    "# для размера кредитного лимита НЕ вернувших кредит. \n",
    "np.random.seed(0)\n",
    "\n",
    "bootstrap_samples = create_bootstrap_samples(limit_bal_not_returned)\n",
    "bootstrap_medians_1 = np.median(bootstrap_samples, axis=1)\n",
    "\n",
    "med_stat_int_for_not_returned = get_stat_interval(bootstrap_medians_1, alpha=0.05)\n",
    "print(\"95% доверительный интервал для медианы размера кредитного лимита заёмщиков, не вернувших кредит: ({}, {})\"\n",
    "       .format(*med_stat_int_for_not_returned))"
   ]
  },
  {
   "cell_type": "markdown",
   "metadata": {},
   "source": [
    "Мы видим, что 95% доверительный интервалы, построенные с помощью Bootstrap, не пересекаются. А именно 95% доверительный интервал для размера кредитного лимита вернувших кредит лежит полностью правее, чем для НЕ вернувших. Это говорит о том, что медианы распределений отличаются, и гипотеза о равенстве медиан отвергается на уровне значимости 0.05."
   ]
  },
  {
   "cell_type": "markdown",
   "metadata": {},
   "source": [
    "Построим доверительный интервал для разности медиан:"
   ]
  },
  {
   "cell_type": "code",
   "execution_count": 86,
   "metadata": {},
   "outputs": [
    {
     "name": "stdout",
     "output_type": "stream",
     "text": [
      "95% доверительный интервал для разности медиан кредитного лимита заёмщиков, вернувших и не вернувших кредит: (60000.0, 70000.0)\n"
     ]
    }
   ],
   "source": [
    "med_diff_int = get_stat_interval(bootstrap_medians_0 - bootstrap_medians_1, alpha=0.05)\n",
    "print(\"95% доверительный интервал для разности медиан кредитного лимита заёмщиков, вернувших и не вернувших кредит: ({}, {})\"\n",
    "       .format(*med_diff_int))"
   ]
  },
  {
   "cell_type": "markdown",
   "metadata": {},
   "source": [
    "Мы видим, что 95% доверительный интервал для разности медиан не содержит 0 и лежит строго правее нуля, то есть мы можем отвергнуть нулевую гипотезу о равенстве медиан на уровне значимости 0.05 в пользу двусторонней альтернативы о неравенстве медиан или односторонней альтернативы, что медиана первой подвыборки (вернувших кредит) больше медианы второй подвыборки (не вернувших кредит)"
   ]
  },
  {
   "cell_type": "markdown",
   "metadata": {},
   "source": [
    "Так как наши подвыборки для размера кредитного лимита независимые, а именно получены на разных объектах (заёмщиках - вернувших и не вернувших кредит), то воспользуемся критерием Манна-Уитни о равенстве распределений для независимых выборок. "
   ]
  },
  {
   "cell_type": "markdown",
   "metadata": {},
   "source": [
    "Непараметрический ранговый критерий Манна-Уитни для независимых выборок:\n",
    "\n",
    "1. Нулевая гипотеза: Распределения совпадают $F_{1}(x)$ = $F_{2}(x)$\n",
    "2. Двусторонняя альтернатива: Распределения не совпадают $F_{1}(x)$ = $F_{2}(x+\\Delta), $ где $ \\Delta != 0$\n",
    "3. Условия применимости: независимость выборок"
   ]
  },
  {
   "cell_type": "code",
   "execution_count": 87,
   "metadata": {},
   "outputs": [
    {
     "data": {
      "text/plain": [
       "MannwhitneyuResult(statistic=95786286.5, pvalue=1.2255485818223303e-189)"
      ]
     },
     "execution_count": 87,
     "metadata": {},
     "output_type": "execute_result"
    }
   ],
   "source": [
    "ss.mannwhitneyu(limit_bal_returned, limit_bal_not_returned, \n",
    "                alternative='two-sided')"
   ]
  },
  {
   "cell_type": "markdown",
   "metadata": {},
   "source": [
    "Мы видим, что достигаемый уровень значимости критерия Манна-Уитни много меньше 0.05, то есть гипотеза о равенстве распределений уверенно отвеграется на уровне значимости 0.05. "
   ]
  },
  {
   "cell_type": "code",
   "execution_count": 116,
   "metadata": {},
   "outputs": [
    {
     "name": "stdout",
     "output_type": "stream",
     "text": [
      "Численная оценка практической значимости = -1.6666666666666667\n"
     ]
    }
   ],
   "source": [
    "# функция для подсчёта численно оценке практической значимости\n",
    "def calc_fold_change(C, T):\n",
    "    if T>=C:\n",
    "        return T/C\n",
    "    elif T<C:\n",
    "        return -C/T\n",
    "    else:\n",
    "        return 1\n",
    "\n",
    "print('Численная оценка практической значимости = {}'\n",
    "      .format(calc_fold_change(np.median(limit_bal_returned), np.median(limit_bal_not_returned))))"
   ]
  },
  {
   "cell_type": "markdown",
   "metadata": {},
   "source": [
    "Из численной оценки мы видим, что средний кредитный лимит вернувших кредит в 1.67 раз больше, чем у тех, кто не вернул кредит. Это значимое отличие. Но с логической точки зрения результаты не сильно значимы, так как из здравого смысла мы понимаем, что кредитный лимит для заёмщиков, не вернувших кредит, будет меньше, чем для заёмщиков, вернувших кредит. Но тем неменее строгая проверка гипотезы о равенстве распределений и её отвержение достаточно важны для подтверждения имперических знаний и наблюдений."
   ]
  },
  {
   "cell_type": "markdown",
   "metadata": {},
   "source": [
    "## 2. Исследование пола заёмщиков"
   ]
  },
  {
   "cell_type": "code",
   "execution_count": 88,
   "metadata": {},
   "outputs": [
    {
     "data": {
      "image/png": "[encoded data removed]",
      "text/plain": [
       "<matplotlib.figure.Figure at 0xb8b2cf8>"
      ]
     },
     "metadata": {},
     "output_type": "display_data"
    }
   ],
   "source": [
    "df['SEX'].value_counts().plot(kind='bar');\n",
    "plt.title('Кол-во заёмщиков разного пола');"
   ]
  },
  {
   "cell_type": "code",
   "execution_count": 89,
   "metadata": {},
   "outputs": [
    {
     "data": {
      "text/plain": [
       "2    18112\n",
       "1    11888\n",
       "Name: SEX, dtype: int64"
      ]
     },
     "execution_count": 89,
     "metadata": {},
     "output_type": "execute_result"
    }
   ],
   "source": [
    "df['SEX'].value_counts()"
   ]
  },
  {
   "cell_type": "markdown",
   "metadata": {},
   "source": [
    "Мы видим, что кол-во заемщиков женского пола почти в 1.5 раза больше мужского. То есть выборка не сбалансированна по признаку пола.\n",
    "\n",
    "Построим графики распределения пола в двух группах:\n",
    "\n",
    "1. среди тех, кто вернул кредит\n",
    "2. среди тех, кто не вернул"
   ]
  },
  {
   "cell_type": "code",
   "execution_count": 90,
   "metadata": {
    "collapsed": true
   },
   "outputs": [],
   "source": [
    "sex_returned = df[df['default']==0]['SEX']\n",
    "sex_not_returned = df[df['default']==1]['SEX']"
   ]
  },
  {
   "cell_type": "code",
   "execution_count": 91,
   "metadata": {},
   "outputs": [
    {
     "data": {
      "image/png": "[encoded data removed]",
      "text/plain": [
       "<matplotlib.figure.Figure at 0xbfa5c50>"
      ]
     },
     "metadata": {},
     "output_type": "display_data"
    }
   ],
   "source": [
    "plt.figure(figsize=(10,10))\n",
    "\n",
    "plt.subplot(211)\n",
    "sex_returned.value_counts().plot(kind='bar');\n",
    "plt.xlabel('Пол заёмщиков')\n",
    "plt.ylabel('Кол-во заёмщиков')\n",
    "plt.title('Пол заёмщиков среди вернувших кредит');\n",
    "\n",
    "plt.subplot(212)\n",
    "sex_not_returned.value_counts().plot(kind='bar');\n",
    "plt.xlabel('Пол заёмщиков')\n",
    "plt.ylabel('Кол-во заёмщиков')\n",
    "plt.title('Пол заёмщиков среди НЕ вернувших кредит');"
   ]
  },
  {
   "cell_type": "markdown",
   "metadata": {
    "collapsed": true
   },
   "source": [
    "Из графиков мы видим, что соотношение мужчин и женщин достаточно сильно отличаются в подгруппах, то есть доля мужчин в группе не вернувших кредит больше, чем в группе вернувших кредит. Исследуем это подробнее."
   ]
  },
  {
   "cell_type": "markdown",
   "metadata": {},
   "source": [
    "Доли мужчин и женщин в численном выражении в обеих подгруппах."
   ]
  },
  {
   "cell_type": "code",
   "execution_count": 92,
   "metadata": {},
   "outputs": [
    {
     "data": {
      "text/plain": [
       "2    0.61415\n",
       "1    0.38585\n",
       "Name: SEX, dtype: float64"
      ]
     },
     "execution_count": 92,
     "metadata": {},
     "output_type": "execute_result"
    }
   ],
   "source": [
    "sex_returned.value_counts() / len(sex_returned)"
   ]
  },
  {
   "cell_type": "code",
   "execution_count": 93,
   "metadata": {},
   "outputs": [
    {
     "data": {
      "text/plain": [
       "2    0.567058\n",
       "1    0.432942\n",
       "Name: SEX, dtype: float64"
      ]
     },
     "execution_count": 93,
     "metadata": {},
     "output_type": "execute_result"
    }
   ],
   "source": [
    "sex_not_returned.value_counts() / len(sex_not_returned)"
   ]
  },
  {
   "cell_type": "markdown",
   "metadata": {},
   "source": [
    "#### 1. Построим 95% доверительный интервал для доли мужчин в обеих группах. Воспользуемся доверительным интервалом Уилсона для доли."
   ]
  },
  {
   "cell_type": "code",
   "execution_count": 94,
   "metadata": {},
   "outputs": [
    {
     "data": {
      "text/plain": [
       "(0.3796273158089251, 0.392110265969876)"
      ]
     },
     "execution_count": 94,
     "metadata": {},
     "output_type": "execute_result"
    }
   ],
   "source": [
    "smp.proportion_confint(sum(sex_returned==1), len(sex_returned), method='wilson')"
   ]
  },
  {
   "cell_type": "code",
   "execution_count": 95,
   "metadata": {},
   "outputs": [
    {
     "data": {
      "text/plain": [
       "(0.421062418034934, 0.4448982369717182)"
      ]
     },
     "execution_count": 95,
     "metadata": {},
     "output_type": "execute_result"
    }
   ],
   "source": [
    "smp.proportion_confint(sum(sex_not_returned==1), len(sex_not_returned), method='wilson')"
   ]
  },
  {
   "cell_type": "markdown",
   "metadata": {},
   "source": [
    "Мы видим, что 95% доверительный интевал доли мужчин в подвыборке вернувших кредит лежит полностью левее 95% доверительного интевала доли мужчин в подвыборке не вернувших кредит. Это говорит о том, что гипотеза о равенстве долей отвергается на уровне значимости 0.05. "
   ]
  },
  {
   "cell_type": "markdown",
   "metadata": {},
   "source": [
    "Построим доверительный интервал для разности долей мужчин в группах вернувших и не вернувших кредит (воспользуемся формулами для разности двух долей для независимых выборок):"
   ]
  },
  {
   "cell_type": "code",
   "execution_count": 120,
   "metadata": {},
   "outputs": [],
   "source": [
    "# Перекодируем значения 2 в 0 для подсчета статистик ниже\n",
    "sex_returned_replaced_values = np.array(sex_returned)\n",
    "sex_returned_replaced_values[sex_returned_replaced_values==2]=0\n",
    "\n",
    "sex_not_returned_replaced_values = np.array(sex_not_returned)\n",
    "sex_not_returned_replaced_values[sex_not_returned_replaced_values==2]=0"
   ]
  },
  {
   "cell_type": "code",
   "execution_count": 121,
   "metadata": {},
   "outputs": [
    {
     "name": "stdout",
     "output_type": "stream",
     "text": [
      "95% доверительный интервал для разности долей мужчин, вернувших и не вернувших кредит: (-0.060548077974896725, -0.03363493274962867)\n"
     ]
    }
   ],
   "source": [
    "def proportions_diff_confint_ind(sample1, sample2, alpha = 0.05):    \n",
    "    z = ss.norm.ppf(1 - alpha / 2.)\n",
    "    \n",
    "    p1 = float(sum(sample1)) / len(sample1)\n",
    "    p2 = float(sum(sample2)) / len(sample2)\n",
    "    \n",
    "    left_boundary = (p1 - p2) - z * np.sqrt(p1 * (1 - p1)/ len(sample1) + p2 * (1 - p2)/ len(sample2))\n",
    "    right_boundary = (p1 - p2) + z * np.sqrt(p1 * (1 - p1)/ len(sample1) + p2 * (1 - p2)/ len(sample2))\n",
    "    \n",
    "    return (left_boundary, right_boundary)\n",
    "\n",
    "def proportions_diff_z_stat_ind(sample1, sample2):\n",
    "    n1 = len(sample1)\n",
    "    n2 = len(sample2)\n",
    "    \n",
    "    p1 = float(sum(sample1)) / n1\n",
    "    p2 = float(sum(sample2)) / n2 \n",
    "    P = float(p1*n1 + p2*n2) / (n1 + n2)\n",
    "    \n",
    "    return (p1 - p2) / np.sqrt(P * (1 - P) * (1. / n1 + 1. / n2))\n",
    "\n",
    "def proportions_diff_z_test(z_stat, alternative = 'two-sided'):\n",
    "    if alternative not in ('two-sided', 'less', 'greater'):\n",
    "        raise ValueError(\"alternative not recognized\\n\"\n",
    "                         \"should be 'two-sided', 'less' or 'greater'\")\n",
    "    \n",
    "    if alternative == 'two-sided':\n",
    "        return 2 * (1 - ss.norm.cdf(np.abs(z_stat)))\n",
    "    \n",
    "    if alternative == 'less':\n",
    "        return ss.norm.cdf(z_stat)\n",
    "\n",
    "    if alternative == 'greater':\n",
    "        return 1 - ss.norm.cdf(z_stat)\n",
    "\n",
    "print(\"95% доверительный интервал для разности долей мужчин, вернувших и не вернувших кредит: ({}, {})\"\n",
    "      .format(*proportions_diff_confint_ind(sex_returned_replaced_values, sex_not_returned_replaced_values)))"
   ]
  },
  {
   "cell_type": "markdown",
   "metadata": {},
   "source": [
    "Мы видим, что 95% доверительный интервал для разности долей мужчин в двух подвыборках вернувших и не вернувших кредит не содержит 0 и лежит строго левее нуля, то есть мы можем отвергнуть нулевую гипотезу о равенстве долей на уровне значимости 0.05 в пользу двусторонней альтернативы о неравенстве долей или односторонней альтернативы, что доля мужчин в первой подвыборке (вернувших кредит) меньше доли мужчин во второй подвыборке (не вернувших кредит). Посчитаем точные значения достигаемых уровней значимости для описанных гипотез:"
   ]
  },
  {
   "cell_type": "code",
   "execution_count": 127,
   "metadata": {},
   "outputs": [
    {
     "name": "stdout",
     "output_type": "stream",
     "text": [
      "Достигаемый уровень значимости для двусторонней альтернативы:  4.472866521609831e-12\n"
     ]
    }
   ],
   "source": [
    "pvalue_two_sided = proportions_diff_z_test(proportions_diff_z_stat_ind(sex_returned_replaced_values, \n",
    "                                                                       sex_not_returned_replaced_values), \n",
    "                                           alternative='two-sided')\n",
    "print('Достигаемый уровень значимости для двусторонней альтернативы:', pvalue_two_sided)"
   ]
  },
  {
   "cell_type": "code",
   "execution_count": 129,
   "metadata": {},
   "outputs": [
    {
     "name": "stdout",
     "output_type": "stream",
     "text": [
      "Достигаемый уровень значимости для односторонней альтернативы:  4.472866521609831e-12\n"
     ]
    }
   ],
   "source": [
    "pvalue_less = proportions_diff_z_test(proportions_diff_z_stat_ind(sex_returned_replaced_values, \n",
    "                                                                  sex_not_returned_replaced_values), \n",
    "                                      alternative='less')\n",
    "print('Достигаемый уровень значимости для односторонней альтернативы:', pvalue_two_sided)"
   ]
  },
  {
   "cell_type": "markdown",
   "metadata": {},
   "source": [
    "#### 2. Воспользуемся z-критерием для двух долей, что проверить гипотезу о равенстве долей мужчин в обеих группах."
   ]
  },
  {
   "cell_type": "markdown",
   "metadata": {},
   "source": [
    "Z-критерий для двух долей для двух независимых выборок:\n",
    "\n",
    "1. Нулевая гипотеза: Доли совпадают  $p_{1} = p_{2}$ \n",
    "2. Двусторонняя альтернатива: Доли не совпадают  $p_{1} != p_{2}$\n",
    "3. Условие применимости: данные взяты из распределений Бернулли"
   ]
  },
  {
   "cell_type": "code",
   "execution_count": 46,
   "metadata": {},
   "outputs": [
    {
     "data": {
      "text/plain": [
       "4.472804335814113e-12"
      ]
     },
     "execution_count": 46,
     "metadata": {},
     "output_type": "execute_result"
    }
   ],
   "source": [
    "stat, pvalue = smp.proportions_ztest([sum(sex_returned==1), sum(sex_not_returned==1)], \n",
    "                      [len(sex_returned), len(sex_not_returned)])\n",
    "pvalue"
   ]
  },
  {
   "cell_type": "markdown",
   "metadata": {},
   "source": [
    "Мы видим, что гипотеза о равенстве долей мужчин в обеих группах уверенно отвергается против двусторонней альтернативы на уровне значимости 0.05. "
   ]
  },
  {
   "cell_type": "code",
   "execution_count": 48,
   "metadata": {},
   "outputs": [
    {
     "data": {
      "text/plain": [
       "2.2364021679070564e-12"
      ]
     },
     "execution_count": 48,
     "metadata": {},
     "output_type": "execute_result"
    }
   ],
   "source": [
    "# Теперь проверим ту же самую гипотезу, но уже против односторонней альтернативы,\n",
    "# что доля мужчин в подвыборке вернувших кредит МЕНЬШЕ, чем в подвыборке не вернувших кредит\n",
    "\n",
    "stat, pvalue = smp.proportions_ztest([sum(sex_returned==1), sum(sex_not_returned==1)], \n",
    "                      [len(sex_returned), len(sex_not_returned)], \n",
    "                  alternative='smaller')\n",
    "pvalue"
   ]
  },
  {
   "cell_type": "markdown",
   "metadata": {},
   "source": [
    "Мы видим, что гипотеза о равенстве долей мужчин в обеих группах уверенно отвергается против односторонней альтернативы, что доля мужчин в первый подвыборке МЕНЬШЕ, чем во второй на уровне значимости 0.05."
   ]
  },
  {
   "cell_type": "code",
   "execution_count": 49,
   "metadata": {},
   "outputs": [
    {
     "data": {
      "text/plain": [
       "0.9999999999977636"
      ]
     },
     "execution_count": 49,
     "metadata": {},
     "output_type": "execute_result"
    }
   ],
   "source": [
    "# Теперь проверим ту же самую гипотезу, но уже против односторонней альтернативы,\n",
    "# что доля мужчин в подвыборке вернувших кредит БОЛЬШЕ, чем в подвыборке не вернувших кредит\n",
    "\n",
    "stat, pvalue = smp.proportions_ztest([sum(sex_returned==1), sum(sex_not_returned==1)], \n",
    "                      [len(sex_returned), len(sex_not_returned)], \n",
    "                  alternative='larger')\n",
    "pvalue"
   ]
  },
  {
   "cell_type": "markdown",
   "metadata": {},
   "source": [
    "Мы видим, что гипотеза против односторонней альтернативы о том, что доля мужчин в подвыборке вернувших кредит БОЛЬШЕ, чем в подвыборке не вернувших не отвергается, и это правильно так как мы на предыдущем шаге показали, что доля на самом деле меньше, а не больше. "
   ]
  },
  {
   "cell_type": "markdown",
   "metadata": {},
   "source": [
    "## 3. Исследование образования заёмщиков"
   ]
  },
  {
   "cell_type": "code",
   "execution_count": 24,
   "metadata": {},
   "outputs": [
    {
     "data": {
      "image/png": "[encoded data removed]",
      "text/plain": [
       "<matplotlib.figure.Figure at 0xc023d68>"
      ]
     },
     "metadata": {},
     "output_type": "display_data"
    }
   ],
   "source": [
    "df['EDUCATION'].value_counts().plot(kind='bar');\n",
    "plt.title('Вид образования заёмщиков');"
   ]
  },
  {
   "cell_type": "markdown",
   "metadata": {},
   "source": [
    "Мы видим, что подавляющее большинство заёмщиков имеют три вида образования:\n",
    "1. Бакалавр (самый распространенный тип образования в нашей выборке)\n",
    "2. Магистр (второй распространенный тип образвания в выборке)\n",
    "3. Выпускник школы (третий распространенный тип образования)"
   ]
  },
  {
   "cell_type": "markdown",
   "metadata": {},
   "source": [
    "Построим графики распределения образования в двух группах:\n",
    "\n",
    "1. среди тех, кто вернул кредит\n",
    "2. среди тех, кто не вернул"
   ]
  },
  {
   "cell_type": "code",
   "execution_count": 25,
   "metadata": {
    "collapsed": true
   },
   "outputs": [],
   "source": [
    "education_returned = df[df['default']==0]['EDUCATION']\n",
    "education_not_returned = df[df['default']==1]['EDUCATION']"
   ]
  },
  {
   "cell_type": "code",
   "execution_count": 26,
   "metadata": {},
   "outputs": [
    {
     "data": {
      "image/png": "[encoded data removed]",
      "text/plain": [
       "<matplotlib.figure.Figure at 0xc00a240>"
      ]
     },
     "metadata": {},
     "output_type": "display_data"
    }
   ],
   "source": [
    "plt.figure(figsize=(10,10))\n",
    "\n",
    "plt.subplot(211)\n",
    "education_returned.value_counts().plot(kind='bar');\n",
    "plt.xlabel('Тип образования')\n",
    "plt.ylabel('Кол-во заёмщиков')\n",
    "plt.title('Распределение типа образования среди вернувших кредит');\n",
    "\n",
    "plt.subplot(212)\n",
    "education_not_returned.value_counts().plot(kind='bar');\n",
    "plt.xlabel('Тип образования')\n",
    "plt.ylabel('Кол-во заёмщиков')\n",
    "plt.title('Распределение типа образования среди НЕ вернувших кредит');"
   ]
  },
  {
   "cell_type": "markdown",
   "metadata": {},
   "source": [
    "Из графиков мы видим, что распределение видов образования в подргуппах очень схожи, нет существенных бросающихся в глаза отличий долей заёмщиков с каким-нибудь конкретным видом образования. Исследуем подробнее и внимательнее данные в численном выражении."
   ]
  },
  {
   "cell_type": "markdown",
   "metadata": {},
   "source": [
    "Доли видов образования в численном выражении в обеих подгруппах: вернувших и не вернувших кредит"
   ]
  },
  {
   "cell_type": "code",
   "execution_count": 27,
   "metadata": {},
   "outputs": [
    {
     "data": {
      "text/plain": [
       "2    0.457970\n",
       "1    0.365905\n",
       "3    0.157507\n",
       "5    0.011214\n",
       "4    0.004965\n",
       "6    0.001840\n",
       "0    0.000599\n",
       "Name: EDUCATION, dtype: float64"
      ]
     },
     "execution_count": 27,
     "metadata": {},
     "output_type": "execute_result"
    }
   ],
   "source": [
    "education_returned.value_counts() / len(education_returned)"
   ]
  },
  {
   "cell_type": "code",
   "execution_count": 28,
   "metadata": {},
   "outputs": [
    {
     "data": {
      "text/plain": [
       "2    0.501808\n",
       "1    0.306811\n",
       "3    0.186407\n",
       "5    0.002712\n",
       "6    0.001206\n",
       "4    0.001055\n",
       "Name: EDUCATION, dtype: float64"
      ]
     },
     "execution_count": 28,
     "metadata": {},
     "output_type": "execute_result"
    }
   ],
   "source": [
    "education_not_returned.value_counts() / len(education_not_returned)"
   ]
  },
  {
   "cell_type": "markdown",
   "metadata": {},
   "source": [
    "Видно, что доля бакалавров не вернувших кредит (0.501808) больше, чем доля вернувших (0.457970). А соотношение магистров обратное, доля магистров не вернувших кредит (0.306811) меньше, чем вернувших (0.365905). \n",
    "\n",
    "Доля выпускников школ не вернувших кредит (0.186407) больше, чем доля вернувших (0.157507). А соотношение долей прочих видов образования обратное, доля не вернувших кредит (0.002712) меньше, чем вернувших (0.011214). И так далее."
   ]
  },
  {
   "cell_type": "markdown",
   "metadata": {},
   "source": [
    "То есть по данным можно сказать, что тип образования влияет на то, вернет ли человек долг или нет. Исследуем данный предварительный вывод подробнее."
   ]
  },
  {
   "cell_type": "markdown",
   "metadata": {},
   "source": [
    "#### Проверим гипотезу о том, что тип образования не влияет на то, вернет ли человек долг или нет."
   ]
  },
  {
   "cell_type": "markdown",
   "metadata": {},
   "source": [
    "Проверим, что признаки вид образования и вернет человек долг или нет не являются независимыми. Сделаем это с помощью критерия Хи-квадрат о независимости значений в таблице сопряженности. "
   ]
  },
  {
   "cell_type": "markdown",
   "metadata": {},
   "source": [
    "Критерий Хи-квадрат (<a href='https://docs.scipy.org/doc/scipy/reference/generated/scipy.stats.chi2_contingency.html'>scipy.stats.chi2_contingency</a>):\n",
    "\n",
    "1. Нулевая гипотеза: Признаки независимые (<a href='http://www.machinelearning.ru/wiki/index.php?title=Таблица_сопряженности'>Критерий \"хи-квадрат\" для анализа таблиц сопряженности</a>)\n",
    "2. Альтернатива: Признаки зависимые\n",
    "3. Условие применимости: Ожидаемое кол-во значений в каждой ячейке таблицы < 5 не более чем в 20% ячеек. Кол-во значений в таблице > 40. "
   ]
  },
  {
   "cell_type": "markdown",
   "metadata": {},
   "source": [
    "Для наших данных условие применимости критерия выполняются. Смотрите ниже распечатку таблиц сопряженности: observed_freqs, expected_freqs"
   ]
  },
  {
   "cell_type": "code",
   "execution_count": 29,
   "metadata": {},
   "outputs": [
    {
     "data": {
      "text/plain": [
       "1.2332626245415605e-32"
      ]
     },
     "execution_count": 29,
     "metadata": {},
     "output_type": "execute_result"
    }
   ],
   "source": [
    "# Создадим таблицу сопряженности наблюдаемых значений: [education x default]\n",
    "observed_freqs = []\n",
    "unique_educations = np.unique(df['EDUCATION'])\n",
    "for education in unique_educations:\n",
    "    observed_freqs.append([len(education_returned[education_returned==education]), \n",
    "                     len(education_not_returned[education_not_returned==education])])\n",
    "\n",
    "observed_freqs = np.array(observed_freqs)\n",
    "stat, pvalue, dof, expected_freqs = ss.chi2_contingency(observed_freqs, correction=True)\n",
    "\n",
    "pvalue"
   ]
  },
  {
   "cell_type": "code",
   "execution_count": 31,
   "metadata": {},
   "outputs": [
    {
     "data": {
      "text/html": [
       "<div>\n",
       "<style scoped>\n",
       "    .dataframe tbody tr th:only-of-type {\n",
       "        vertical-align: middle;\n",
       "    }\n",
       "\n",
       "    .dataframe tbody tr th {\n",
       "        vertical-align: top;\n",
       "    }\n",
       "\n",
       "    .dataframe thead th {\n",
       "        text-align: right;\n",
       "    }\n",
       "</style>\n",
       "<table border=\"1\" class=\"dataframe\">\n",
       "  <thead>\n",
       "    <tr style=\"text-align: right;\">\n",
       "      <th></th>\n",
       "      <th>0</th>\n",
       "      <th>1</th>\n",
       "    </tr>\n",
       "  </thead>\n",
       "  <tbody>\n",
       "    <tr>\n",
       "      <th>0</th>\n",
       "      <td>10.9032</td>\n",
       "      <td>3.0968</td>\n",
       "    </tr>\n",
       "    <tr>\n",
       "      <th>1</th>\n",
       "      <td>8243.5980</td>\n",
       "      <td>2341.4020</td>\n",
       "    </tr>\n",
       "    <tr>\n",
       "      <th>2</th>\n",
       "      <td>10926.5640</td>\n",
       "      <td>3103.4360</td>\n",
       "    </tr>\n",
       "    <tr>\n",
       "      <th>3</th>\n",
       "      <td>3829.3596</td>\n",
       "      <td>1087.6404</td>\n",
       "    </tr>\n",
       "    <tr>\n",
       "      <th>4</th>\n",
       "      <td>95.7924</td>\n",
       "      <td>27.2076</td>\n",
       "    </tr>\n",
       "    <tr>\n",
       "      <th>5</th>\n",
       "      <td>218.0640</td>\n",
       "      <td>61.9360</td>\n",
       "    </tr>\n",
       "    <tr>\n",
       "      <th>6</th>\n",
       "      <td>39.7188</td>\n",
       "      <td>11.2812</td>\n",
       "    </tr>\n",
       "  </tbody>\n",
       "</table>\n",
       "</div>"
      ],
      "text/plain": [
       "            0          1\n",
       "0     10.9032     3.0968\n",
       "1   8243.5980  2341.4020\n",
       "2  10926.5640  3103.4360\n",
       "3   3829.3596  1087.6404\n",
       "4     95.7924    27.2076\n",
       "5    218.0640    61.9360\n",
       "6     39.7188    11.2812"
      ]
     },
     "execution_count": 31,
     "metadata": {},
     "output_type": "execute_result"
    }
   ],
   "source": [
    "pd.DataFrame(expected_freqs)"
   ]
  },
  {
   "cell_type": "code",
   "execution_count": 32,
   "metadata": {},
   "outputs": [
    {
     "data": {
      "text/html": [
       "<div>\n",
       "<style scoped>\n",
       "    .dataframe tbody tr th:only-of-type {\n",
       "        vertical-align: middle;\n",
       "    }\n",
       "\n",
       "    .dataframe tbody tr th {\n",
       "        vertical-align: top;\n",
       "    }\n",
       "\n",
       "    .dataframe thead th {\n",
       "        text-align: right;\n",
       "    }\n",
       "</style>\n",
       "<table border=\"1\" class=\"dataframe\">\n",
       "  <thead>\n",
       "    <tr style=\"text-align: right;\">\n",
       "      <th></th>\n",
       "      <th>0</th>\n",
       "      <th>1</th>\n",
       "    </tr>\n",
       "  </thead>\n",
       "  <tbody>\n",
       "    <tr>\n",
       "      <th>0</th>\n",
       "      <td>14</td>\n",
       "      <td>0</td>\n",
       "    </tr>\n",
       "    <tr>\n",
       "      <th>1</th>\n",
       "      <td>8549</td>\n",
       "      <td>2036</td>\n",
       "    </tr>\n",
       "    <tr>\n",
       "      <th>2</th>\n",
       "      <td>10700</td>\n",
       "      <td>3330</td>\n",
       "    </tr>\n",
       "    <tr>\n",
       "      <th>3</th>\n",
       "      <td>3680</td>\n",
       "      <td>1237</td>\n",
       "    </tr>\n",
       "    <tr>\n",
       "      <th>4</th>\n",
       "      <td>116</td>\n",
       "      <td>7</td>\n",
       "    </tr>\n",
       "    <tr>\n",
       "      <th>5</th>\n",
       "      <td>262</td>\n",
       "      <td>18</td>\n",
       "    </tr>\n",
       "    <tr>\n",
       "      <th>6</th>\n",
       "      <td>43</td>\n",
       "      <td>8</td>\n",
       "    </tr>\n",
       "  </tbody>\n",
       "</table>\n",
       "</div>"
      ],
      "text/plain": [
       "       0     1\n",
       "0     14     0\n",
       "1   8549  2036\n",
       "2  10700  3330\n",
       "3   3680  1237\n",
       "4    116     7\n",
       "5    262    18\n",
       "6     43     8"
      ]
     },
     "execution_count": 32,
     "metadata": {},
     "output_type": "execute_result"
    }
   ],
   "source": [
    "pd.DataFrame(observed_freqs)"
   ]
  },
  {
   "cell_type": "markdown",
   "metadata": {},
   "source": [
    "Мы видимо, что гипотеза о независимости значений в таблице сопряженности (гипотеза о том, что признаки образования и возврат долга независимы) увернно отвергается на уровне значимости 0.05. То есть признаки зависимые и тип образования влияет на то, вернет ли человек долг или нет. Давайте взглянем на эту зависимость более детально. "
   ]
  },
  {
   "cell_type": "code",
   "execution_count": 33,
   "metadata": {
    "collapsed": true
   },
   "outputs": [],
   "source": [
    "# Cоставим таблицу сопряженности \"образование\" на \"возврат долга\", \n",
    "# где значение ячейки есть разность между наблюдаемым и ожидаемым количеством человек\n",
    "education_df = pd.DataFrame(observed_freqs - expected_freqs, \n",
    "                            columns=['returned', 'not_returned'])"
   ]
  },
  {
   "cell_type": "code",
   "execution_count": 34,
   "metadata": {},
   "outputs": [
    {
     "data": {
      "text/html": [
       "<div>\n",
       "<style scoped>\n",
       "    .dataframe tbody tr th:only-of-type {\n",
       "        vertical-align: middle;\n",
       "    }\n",
       "\n",
       "    .dataframe tbody tr th {\n",
       "        vertical-align: top;\n",
       "    }\n",
       "\n",
       "    .dataframe thead th {\n",
       "        text-align: right;\n",
       "    }\n",
       "</style>\n",
       "<table border=\"1\" class=\"dataframe\">\n",
       "  <thead>\n",
       "    <tr style=\"text-align: right;\">\n",
       "      <th></th>\n",
       "      <th>returned</th>\n",
       "      <th>not_returned</th>\n",
       "    </tr>\n",
       "  </thead>\n",
       "  <tbody>\n",
       "    <tr>\n",
       "      <th>0</th>\n",
       "      <td>3.0968</td>\n",
       "      <td>-3.0968</td>\n",
       "    </tr>\n",
       "    <tr>\n",
       "      <th>1</th>\n",
       "      <td>305.4020</td>\n",
       "      <td>-305.4020</td>\n",
       "    </tr>\n",
       "    <tr>\n",
       "      <th>2</th>\n",
       "      <td>-226.5640</td>\n",
       "      <td>226.5640</td>\n",
       "    </tr>\n",
       "    <tr>\n",
       "      <th>3</th>\n",
       "      <td>-149.3596</td>\n",
       "      <td>149.3596</td>\n",
       "    </tr>\n",
       "    <tr>\n",
       "      <th>4</th>\n",
       "      <td>20.2076</td>\n",
       "      <td>-20.2076</td>\n",
       "    </tr>\n",
       "    <tr>\n",
       "      <th>5</th>\n",
       "      <td>43.9360</td>\n",
       "      <td>-43.9360</td>\n",
       "    </tr>\n",
       "    <tr>\n",
       "      <th>6</th>\n",
       "      <td>3.2812</td>\n",
       "      <td>-3.2812</td>\n",
       "    </tr>\n",
       "  </tbody>\n",
       "</table>\n",
       "</div>"
      ],
      "text/plain": [
       "   returned  not_returned\n",
       "0    3.0968       -3.0968\n",
       "1  305.4020     -305.4020\n",
       "2 -226.5640      226.5640\n",
       "3 -149.3596      149.3596\n",
       "4   20.2076      -20.2076\n",
       "5   43.9360      -43.9360\n",
       "6    3.2812       -3.2812"
      ]
     },
     "execution_count": 34,
     "metadata": {},
     "output_type": "execute_result"
    }
   ],
   "source": [
    "education_df"
   ]
  },
  {
   "cell_type": "code",
   "execution_count": 35,
   "metadata": {},
   "outputs": [
    {
     "data": {
      "text/plain": [
       "array([ 0.00000000e+00,  0.00000000e+00, -4.54747351e-13,  2.27373675e-13,\n",
       "        0.00000000e+00,  7.10542736e-15, -1.77635684e-15])"
      ]
     },
     "execution_count": 35,
     "metadata": {},
     "output_type": "execute_result"
    }
   ],
   "source": [
    "education_df.values.sum(axis=1)"
   ]
  },
  {
   "cell_type": "markdown",
   "metadata": {},
   "source": [
    "Мы видим, что кол-во вернувших и не вернувших долг по видам образования совпадает с точностью до знака [в трех случаях полностью совпадает и практически совпадает (с точностью до е-13 для остальных)]."
   ]
  },
  {
   "cell_type": "code",
   "execution_count": 36,
   "metadata": {},
   "outputs": [
    {
     "data": {
      "text/plain": [
       "(1, 2)"
      ]
     },
     "execution_count": 36,
     "metadata": {},
     "output_type": "execute_result"
    }
   ],
   "source": [
    "# найдем виды образования являющиеся наилучшим индикатором, \n",
    "# что человек отдасть долг или не отдаст\n",
    "education_df['returned'].values.argmax(), education_df['not_returned'].values.argmax(), "
   ]
  },
  {
   "cell_type": "markdown",
   "metadata": {},
   "source": [
    "Из таблицы (и численного исследования) выше наглядно видно, что \n",
    "1. наличие степени магистра является наилучшим индикатором того, что человек отдаст долг. \n",
    "2. наличие степени бакалавра является наилучшим индикатором того, что не отдаст долг."
   ]
  },
  {
   "cell_type": "markdown",
   "metadata": {},
   "source": [
    "Чтобы привести значения ячеек таблицы выше к одному масштабу, не потеряв в интерпретируемости, можно поделить каждый столбец на его максимальное значение. Тогда мы не потеряем в интерпретируемсти и все значения будут находится на отрезке [0, 1]"
   ]
  },
  {
   "cell_type": "markdown",
   "metadata": {},
   "source": [
    "## 4. Исследование семейного положения заёмщиков"
   ]
  },
  {
   "cell_type": "code",
   "execution_count": 38,
   "metadata": {},
   "outputs": [
    {
     "data": {
      "image/png": "[encoded data removed]",
      "text/plain": [
       "<matplotlib.figure.Figure at 0xb9904a8>"
      ]
     },
     "metadata": {},
     "output_type": "display_data"
    }
   ],
   "source": [
    "df['MARRIAGE'].value_counts().plot(kind='bar');\n",
    "plt.title('Семейное положение заёмщиков');"
   ]
  },
  {
   "cell_type": "markdown",
   "metadata": {},
   "source": [
    "Мы видим, что подавляющее большинство заёмщиков имеет два вида семейного положения:\n",
    "\n",
    "1. Холост (самый распространенный вид)\n",
    "2. Женат/Замужем"
   ]
  },
  {
   "cell_type": "markdown",
   "metadata": {},
   "source": [
    "Построим графики распределения семейного положения заёмщиков в двух группах:\n",
    "\n",
    "1. среди тех, кто вернул кредит\n",
    "2. среди тех, кто не вернул"
   ]
  },
  {
   "cell_type": "code",
   "execution_count": 39,
   "metadata": {
    "collapsed": true
   },
   "outputs": [],
   "source": [
    "marriage_returned = df[df['default']==0]['MARRIAGE']\n",
    "marriage_not_returned = df[df['default']==1]['MARRIAGE']"
   ]
  },
  {
   "cell_type": "code",
   "execution_count": 40,
   "metadata": {},
   "outputs": [
    {
     "data": {
      "image/png": "[encoded data removed]",
      "text/plain": [
       "<matplotlib.figure.Figure at 0xb9af8d0>"
      ]
     },
     "metadata": {},
     "output_type": "display_data"
    }
   ],
   "source": [
    "plt.figure(figsize=(10,10))\n",
    "\n",
    "plt.subplot(211)\n",
    "marriage_returned.value_counts().plot(kind='bar');\n",
    "plt.xlabel('Статус семейного положения')\n",
    "plt.ylabel('Кол-во заёмщиков')\n",
    "plt.title('Распределение семейного положения заёмщиков среди вернувших кредит');\n",
    "\n",
    "plt.subplot(212)\n",
    "marriage_not_returned.value_counts().plot(kind='bar');\n",
    "plt.xlabel('Статус семейного положения')\n",
    "plt.ylabel('Кол-во заёмщиков')\n",
    "plt.title('Распределение семейного положения заёмщиков среди НЕ вернувших кредит');"
   ]
  },
  {
   "cell_type": "markdown",
   "metadata": {},
   "source": [
    "Из графиков мы видим, что распределение семейного положения заёмщиков в подгруппах схожи, но доля замужних и женатых среди не вернувших кредит выше. Исследуем это подробнее.\n",
    "\n",
    "Доли семёного положения заёмщиков в численном выражении в обеих подгруппах: вернувших и не вернувших кредит:"
   ]
  },
  {
   "cell_type": "code",
   "execution_count": 41,
   "metadata": {},
   "outputs": [
    {
     "data": {
      "text/plain": [
       "2    0.540276\n",
       "1    0.447398\n",
       "3    0.010229\n",
       "0    0.002097\n",
       "Name: MARRIAGE, dtype: float64"
      ]
     },
     "execution_count": 41,
     "metadata": {},
     "output_type": "execute_result"
    }
   ],
   "source": [
    "marriage_returned.value_counts() / len(marriage_returned)"
   ]
  },
  {
   "cell_type": "code",
   "execution_count": 42,
   "metadata": {},
   "outputs": [
    {
     "data": {
      "text/plain": [
       "2    0.503466\n",
       "1    0.483122\n",
       "3    0.012658\n",
       "0    0.000753\n",
       "Name: MARRIAGE, dtype: float64"
      ]
     },
     "execution_count": 42,
     "metadata": {},
     "output_type": "execute_result"
    }
   ],
   "source": [
    "marriage_not_returned.value_counts() / len(marriage_not_returned)"
   ]
  },
  {
   "cell_type": "markdown",
   "metadata": {},
   "source": [
    "Видно, что доля холостых заёмщиков не вернувших кредит (0.503466) меньше, чем доля вернувших (0.540276). А соотношение замужних и женатых обратное, доля замужних и женатых не вернувших кредит (0.483122) больше, чем вернувших (0.447398). И так далее. "
   ]
  },
  {
   "cell_type": "markdown",
   "metadata": {},
   "source": [
    "То есть по данным можно сказать, что статус семейного положения влияет на то, вернет ли человек долг или нет. Исследуем это подробнее."
   ]
  },
  {
   "cell_type": "markdown",
   "metadata": {},
   "source": [
    "В качестве меры измерения связи признаков семейного положения и возврат долга воспользуемся коэффициентом Крамера для измерения силы взаимосвязи между двумя категориальными признаками. \n",
    "\n",
    "Для подсчета коэффициента Крамера мы воспользуемся критерием/статистикой Хи-квадрат. Выше (в пункте 3) критерий Хи-квадрат был уже подробно описан, поэтому не будем здесь еще раз повторять. Из таблиц сопряженности expected_freqs и observed_freqs ниже видно, что условия применения критерия выполняются."
   ]
  },
  {
   "cell_type": "code",
   "execution_count": 43,
   "metadata": {},
   "outputs": [
    {
     "data": {
      "text/plain": [
       "8.825862457577375e-08"
      ]
     },
     "execution_count": 43,
     "metadata": {},
     "output_type": "execute_result"
    }
   ],
   "source": [
    "# Создадим таблицу сопряженности наблюдаемых значений: [marriage x default]\n",
    "observed_freqs = []\n",
    "unique_statuses = np.unique(df['MARRIAGE'])\n",
    "for status in unique_statuses:\n",
    "    observed_freqs.append([len(marriage_returned[marriage_returned==status]), \n",
    "                     len(marriage_not_returned[marriage_not_returned==status])])\n",
    "\n",
    "observed_freqs = np.array(observed_freqs)\n",
    "stat, pvalue, dof, expected_freqs = ss.chi2_contingency(observed_freqs, correction=True)\n",
    "\n",
    "pvalue"
   ]
  },
  {
   "cell_type": "code",
   "execution_count": 44,
   "metadata": {},
   "outputs": [
    {
     "data": {
      "text/html": [
       "<div>\n",
       "<style scoped>\n",
       "    .dataframe tbody tr th:only-of-type {\n",
       "        vertical-align: middle;\n",
       "    }\n",
       "\n",
       "    .dataframe tbody tr th {\n",
       "        vertical-align: top;\n",
       "    }\n",
       "\n",
       "    .dataframe thead th {\n",
       "        text-align: right;\n",
       "    }\n",
       "</style>\n",
       "<table border=\"1\" class=\"dataframe\">\n",
       "  <thead>\n",
       "    <tr style=\"text-align: right;\">\n",
       "      <th></th>\n",
       "      <th>0</th>\n",
       "      <th>1</th>\n",
       "    </tr>\n",
       "  </thead>\n",
       "  <tbody>\n",
       "    <tr>\n",
       "      <th>0</th>\n",
       "      <td>49</td>\n",
       "      <td>5</td>\n",
       "    </tr>\n",
       "    <tr>\n",
       "      <th>1</th>\n",
       "      <td>10453</td>\n",
       "      <td>3206</td>\n",
       "    </tr>\n",
       "    <tr>\n",
       "      <th>2</th>\n",
       "      <td>12623</td>\n",
       "      <td>3341</td>\n",
       "    </tr>\n",
       "    <tr>\n",
       "      <th>3</th>\n",
       "      <td>239</td>\n",
       "      <td>84</td>\n",
       "    </tr>\n",
       "  </tbody>\n",
       "</table>\n",
       "</div>"
      ],
      "text/plain": [
       "       0     1\n",
       "0     49     5\n",
       "1  10453  3206\n",
       "2  12623  3341\n",
       "3    239    84"
      ]
     },
     "execution_count": 44,
     "metadata": {},
     "output_type": "execute_result"
    }
   ],
   "source": [
    "pd.DataFrame(observed_freqs)"
   ]
  },
  {
   "cell_type": "code",
   "execution_count": 45,
   "metadata": {},
   "outputs": [
    {
     "data": {
      "text/html": [
       "<div>\n",
       "<style scoped>\n",
       "    .dataframe tbody tr th:only-of-type {\n",
       "        vertical-align: middle;\n",
       "    }\n",
       "\n",
       "    .dataframe tbody tr th {\n",
       "        vertical-align: top;\n",
       "    }\n",
       "\n",
       "    .dataframe thead th {\n",
       "        text-align: right;\n",
       "    }\n",
       "</style>\n",
       "<table border=\"1\" class=\"dataframe\">\n",
       "  <thead>\n",
       "    <tr style=\"text-align: right;\">\n",
       "      <th></th>\n",
       "      <th>0</th>\n",
       "      <th>1</th>\n",
       "    </tr>\n",
       "  </thead>\n",
       "  <tbody>\n",
       "    <tr>\n",
       "      <th>0</th>\n",
       "      <td>42.0552</td>\n",
       "      <td>11.9448</td>\n",
       "    </tr>\n",
       "    <tr>\n",
       "      <th>1</th>\n",
       "      <td>10637.6292</td>\n",
       "      <td>3021.3708</td>\n",
       "    </tr>\n",
       "    <tr>\n",
       "      <th>2</th>\n",
       "      <td>12432.7632</td>\n",
       "      <td>3531.2368</td>\n",
       "    </tr>\n",
       "    <tr>\n",
       "      <th>3</th>\n",
       "      <td>251.5524</td>\n",
       "      <td>71.4476</td>\n",
       "    </tr>\n",
       "  </tbody>\n",
       "</table>\n",
       "</div>"
      ],
      "text/plain": [
       "            0          1\n",
       "0     42.0552    11.9448\n",
       "1  10637.6292  3021.3708\n",
       "2  12432.7632  3531.2368\n",
       "3    251.5524    71.4476"
      ]
     },
     "execution_count": 45,
     "metadata": {},
     "output_type": "execute_result"
    }
   ],
   "source": [
    "pd.DataFrame(expected_freqs)"
   ]
  },
  {
   "cell_type": "code",
   "execution_count": 107,
   "metadata": {},
   "outputs": [
    {
     "data": {
      "text/plain": [
       "0.034478203662766466"
      ]
     },
     "execution_count": 107,
     "metadata": {},
     "output_type": "execute_result"
    }
   ],
   "source": [
    "# Посчитаем коэффициент Крамера для наших признаков\n",
    "np.sqrt(stat/(observed_freqs.sum()*(min(observed_freqs.shape) - 1)))"
   ]
  },
  {
   "cell_type": "markdown",
   "metadata": {},
   "source": [
    "Мы видим, что коэффициент Крамера близок к нулю, то есть взаимосвязь наших признаков мала, но она все-таки есть, пусть и не большая, также гипотеза о независимости признаков критерием Хи-квадрат отвергается на уровне значимости 0.05 в пользу альтернативы: зависимости признаков."
   ]
  },
  {
   "cell_type": "markdown",
   "metadata": {},
   "source": [
    "## 5. Исследование возраста заёмщиков"
   ]
  },
  {
   "cell_type": "code",
   "execution_count": 46,
   "metadata": {},
   "outputs": [
    {
     "data": {
      "image/png": "[encoded data removed]",
      "text/plain": [
       "<matplotlib.figure.Figure at 0xd974f98>"
      ]
     },
     "metadata": {},
     "output_type": "display_data"
    }
   ],
   "source": [
    "plt.figure(figsize=(12, 8))\n",
    "\n",
    "df['AGE'].value_counts().plot(kind='bar');\n",
    "plt.title('Возраст заёмщиков');"
   ]
  },
  {
   "cell_type": "markdown",
   "metadata": {},
   "source": [
    "Мы видим, что количество заёмщиков достаточно равномерно убывает с возрастом. Возраст колеблется от 29 до 79 лет."
   ]
  },
  {
   "cell_type": "markdown",
   "metadata": {},
   "source": [
    "Построим графики распределения семейного положения заёмщиков в двух группах:\n",
    "\n",
    "1. среди тех, кто вернул кредит\n",
    "2. среди тех, кто не вернул"
   ]
  },
  {
   "cell_type": "code",
   "execution_count": 47,
   "metadata": {
    "collapsed": true
   },
   "outputs": [],
   "source": [
    "age_returned = df[df['default']==0]['AGE']\n",
    "age_not_returned = df[df['default']==1]['AGE']"
   ]
  },
  {
   "cell_type": "code",
   "execution_count": 48,
   "metadata": {},
   "outputs": [
    {
     "data": {
      "image/png": "[encoded data removed]",
      "text/plain": [
       "<matplotlib.figure.Figure at 0x11cac518>"
      ]
     },
     "metadata": {},
     "output_type": "display_data"
    }
   ],
   "source": [
    "plt.figure(figsize=(12, 8))\n",
    "\n",
    "plt.subplot(211)\n",
    "age_returned.value_counts().plot(kind='bar');\n",
    "plt.title('Возраст заёмщиков, вернувших кредит');\n",
    "\n",
    "plt.subplot(212)\n",
    "age_not_returned.value_counts().plot(kind='bar');\n",
    "plt.title('Возраст заёмщиков, не вернувших кредит');"
   ]
  },
  {
   "cell_type": "markdown",
   "metadata": {},
   "source": [
    "Из графиков мы видим, что распределения очень спохожи. Построим еще гистограммы распределений."
   ]
  },
  {
   "cell_type": "code",
   "execution_count": 49,
   "metadata": {},
   "outputs": [
    {
     "data": {
      "image/png": "[encoded data removed]",
      "text/plain": [
       "<matplotlib.figure.Figure at 0xd60f080>"
      ]
     },
     "metadata": {},
     "output_type": "display_data"
    }
   ],
   "source": [
    "plt.figure(figsize=(10,10))\n",
    "\n",
    "plt.subplot(211)\n",
    "plt.hist(age_returned, bins=15);\n",
    "plt.xlabel('Возраст заёмщиков')\n",
    "plt.ylabel('Кол-во заёмщиков')\n",
    "plt.title('Распределение возраста заёмщиков среди вернувших кредит');\n",
    "\n",
    "plt.subplot(212)\n",
    "plt.hist(age_not_returned, bins=15);\n",
    "plt.xlabel('Возраст заёмщиков')\n",
    "plt.ylabel('Кол-во заёмщиков')\n",
    "plt.title('Распределение возраста заёмщиков среди НЕ вернувших кредит');"
   ]
  },
  {
   "cell_type": "markdown",
   "metadata": {},
   "source": [
    "Мы видим, что распределения сильно скошены и далеки от нормального распределения.\n",
    "\n",
    "Так же на графиках видно, что интервалы значений возраста для не вернувших кредит и для вернувших практически одинаковы: от 29 до 79."
   ]
  },
  {
   "cell_type": "markdown",
   "metadata": {},
   "source": [
    "#### 1. Проверим гипотезу о равенстве медианных значений возрастов людей"
   ]
  },
  {
   "cell_type": "markdown",
   "metadata": {},
   "source": [
    "Так как мы не можем сделать предположения, из какого распределения получена наша выборка, то воспользуемся Bootstrap методом для получения интервальной оценки медиан каждой подвыборки: вернувших и не вернувших кредит."
   ]
  },
  {
   "cell_type": "code",
   "execution_count": 110,
   "metadata": {},
   "outputs": [
    {
     "name": "stdout",
     "output_type": "stream",
     "text": [
      "95% доверительный интервал для медианы возраста заёмщиков, вернувших кредит: (34.0, 34.0)\n"
     ]
    }
   ],
   "source": [
    "# Получим интервальную оценку медианы для возраста заёмщиков, вернувших кредит. \n",
    "np.random.seed(0)\n",
    "\n",
    "bootstrap_samples = create_bootstrap_samples(age_returned.values)\n",
    "bootstrap_medians_0 = np.median(bootstrap_samples, axis=1)\n",
    "\n",
    "med_stat_int_for_returned = get_stat_interval(bootstrap_medians_0, alpha=0.05)\n",
    "print(\"95% доверительный интервал для медианы возраста заёмщиков, вернувших кредит: ({}, {})\"\n",
    "       .format(*med_stat_int_for_returned))"
   ]
  },
  {
   "cell_type": "code",
   "execution_count": 111,
   "metadata": {},
   "outputs": [
    {
     "name": "stdout",
     "output_type": "stream",
     "text": [
      "95% доверительный интервал для медианы возраста заёмщиков, не вернувших кредит: (34.0, 35.0)\n"
     ]
    }
   ],
   "source": [
    "# Получим интервальную оценку медианы для возраста заёмщиков, НЕ вернувших кредит. \n",
    "np.random.seed(0)\n",
    "\n",
    "bootstrap_samples = create_bootstrap_samples(age_not_returned.values)\n",
    "bootstrap_medians_1 = np.median(bootstrap_samples, axis=1)\n",
    "\n",
    "med_stat_int_for_not_returned = get_stat_interval(bootstrap_medians_1, alpha=0.05)\n",
    "print(\"95% доверительный интервал для медианы возраста заёмщиков, не вернувших кредит: ({}, {})\"\n",
    "       .format(*med_stat_int_for_not_returned))"
   ]
  },
  {
   "cell_type": "markdown",
   "metadata": {},
   "source": [
    "Мы видим, что 95% доверительный интервалы, построенные с помощью Bootstrap,  пересекаются. Это говорит о том, что медианы распределений схожи, и гипотеза о равенстве медиан не отвергается на уровне значимости 0.05."
   ]
  },
  {
   "cell_type": "markdown",
   "metadata": {},
   "source": [
    "Построим доверительный интервал для разности медиан:"
   ]
  },
  {
   "cell_type": "code",
   "execution_count": 112,
   "metadata": {},
   "outputs": [
    {
     "name": "stdout",
     "output_type": "stream",
     "text": [
      "95% доверительный интервал для разности медиан возраста заёмщиков, вернувших и не вернувших кредит: (-1.0, 0.0)\n"
     ]
    }
   ],
   "source": [
    "med_diff_int = get_stat_interval(bootstrap_medians_0 - bootstrap_medians_1, alpha=0.05)\n",
    "print(\"95% доверительный интервал для разности медиан возраста заёмщиков, вернувших и не вернувших кредит: ({}, {})\"\n",
    "       .format(*med_diff_int))"
   ]
  },
  {
   "cell_type": "markdown",
   "metadata": {},
   "source": [
    "Мы видим, что доверительный интервал для разности содержит 0, то есть нельзя отвергнуть гипотезу о равенстве медиан на уровне значимости 0.05"
   ]
  },
  {
   "cell_type": "markdown",
   "metadata": {},
   "source": [
    "#### 2. Проверим гипотезу о равенстве распределений"
   ]
  },
  {
   "cell_type": "markdown",
   "metadata": {},
   "source": [
    "Так как наши подвыборки для возраста заёмщиков получены на разных объектах (заёмщиках - вернувших и не вернувших кредит), то воспользуемся критерием Манна-Уитни о равенстве распределений для независимых выборок."
   ]
  },
  {
   "cell_type": "markdown",
   "metadata": {},
   "source": [
    "Непараметрический ранговый критерий Манна-Уитни для независимых выборок:\n",
    "\n",
    "1. Нулевая гипотеза: Распределения совпадают $F_{1}(x)$ = $F_{2}(x)$\n",
    "2. Двусторонняя альтернатива: Распределения не совпадают $F_{1}(x)$ = $F_{2}(x+\\Delta), $ где $ \\Delta != 0$\n",
    "3. Условия применимости: независимость выборок"
   ]
  },
  {
   "cell_type": "code",
   "execution_count": 113,
   "metadata": {},
   "outputs": [
    {
     "data": {
      "text/plain": [
       "MannwhitneyuResult(statistic=76966879.5, pvalue=0.3725035434898616)"
      ]
     },
     "execution_count": 113,
     "metadata": {},
     "output_type": "execute_result"
    }
   ],
   "source": [
    "ss.mannwhitneyu(age_returned, age_not_returned, alternative='two-sided')"
   ]
  },
  {
   "cell_type": "markdown",
   "metadata": {},
   "source": [
    "Мы видим, что достигаемый уровень значимости критерия Манна-Уитни существенно больше 0.05, то есть гипотеза о равенстве распределений не отвеграется."
   ]
  },
  {
   "cell_type": "code",
   "execution_count": 117,
   "metadata": {},
   "outputs": [
    {
     "name": "stdout",
     "output_type": "stream",
     "text": [
      "Численная оценка практической значимости = 1.0\n"
     ]
    }
   ],
   "source": [
    "print('Численная оценка практической значимости = {}'\n",
    "      .format(calc_fold_change(np.median(age_returned), np.median(age_not_returned))))"
   ]
  },
  {
   "cell_type": "markdown",
   "metadata": {},
   "source": [
    "Из численной оценки практической значимости мы видим, что средний возраст вернувших кредит такой же как и у тех, кто не вернул кредит. То есть существенный отличий в этом признаке нет.\n",
    "\n",
    "С логической точки зрения результаты интересны и значимы, так как из здравого смысла мы НЕ можем сделать предположение, что возраст НЕ влияет на распределение заёмщиков среди вернувших и не вернувших кредит (кажется, что доля невозврата кредита должна быть выше среди молодых людей, которые ещё не встали на ноги и могут быть более \"безрассудны\" в своих решениях, чем люди в возрасте). Поэтому НЕ отвержение гипотез о равенстве медиан и распределений данных даёт некоторые основания полагать, что возраст НЕ влияет на возврат долга."
   ]
  }
 ],
 "metadata": {
  "kernelspec": {
   "display_name": "Python 3",
   "language": "python",
   "name": "python3"
  },
  "language_info": {
   "codemirror_mode": {
    "name": "ipython",
    "version": 3
   },
   "file_extension": ".py",
   "mimetype": "text/x-python",
   "name": "python",
   "nbconvert_exporter": "python",
   "pygments_lexer": "ipython3",
   "version": "3.6.3"
  }
 },
 "nbformat": 4,
 "nbformat_minor": 2
}
